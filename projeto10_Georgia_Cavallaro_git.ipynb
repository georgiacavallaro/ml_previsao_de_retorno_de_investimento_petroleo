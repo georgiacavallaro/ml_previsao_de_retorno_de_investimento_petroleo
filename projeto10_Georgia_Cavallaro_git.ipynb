{
 "cells": [
  {
   "cell_type": "markdown",
   "metadata": {},
   "source": [
    "<div class=\"alert alert-block alert-info\">\n",
    "<b>Dúvidas:</b>\n",
    "    Oi Luiz! Tudo bom? Como foi difícil entender o Bootstrap!\n",
    "    <br><br><b>- Minha maior dúvida é:</b> Porquê fazemos as amostras no primeiro Bootstrap com 500 índices se o valor do investimento é para cavar 200 poços? Isso não altera as previsões de lucro de forma distorcida?\n",
    "    <br><br><b>- A segunda maior é:</b> Como escolher o tamanho das amostras?\n",
    "    <br><br><b>- Mais uma:</b> Qual é a utilidade do Intervalo de Confiança, seria para calcular o risco de prejuízo e o lucro médio com mais segurança, certo? E se não, porquê não?\n",
    "    <br><br>Agradeço todo o esforço em tirar minhas dúvidas, nunca tive tanta dificuldade quanto neste Sprint rs <3<a class=\"tocSkip\"></a>\n",
    "</div>"
   ]
  },
  {
   "cell_type": "markdown",
   "metadata": {},
   "source": [
    "<div>\n",
    "Olá, Georgia!\n",
    "\n",
    "Meu nome é Luiz. Fico feliz em revisar seu projeto. Ao longo do texto farei algumas observações sobre melhorias no código e também farei comentários sobre suas percepções sobre o assunto. Estarei aberto a feedbacks e discussões sobre o tema.\n",
    "\n",
    "**Peço que mantenha e não altere os comentários que eu fizer por aqui para que possamos nos localizar posteriormente, ok?**\n",
    "\n",
    "Mais uma coisa, vamos utilizar um código de cores para você entender o meu feedback no seu notebook. Funciona assim:\n",
    "\n",
    "<div class=\"alert alert-block alert-success\">\n",
    "<b> Comentário do revisor: </b> <a class=\"tocSkip\"></a>\n",
    "\n",
    "Sucesso. Tudo foi feito corretamente.\n",
    "</div>\n",
    "\n",
    "<div class=\"alert alert-block alert-warning\">\n",
    "<b>Comentário do revisor: </b> <a class=\"tocSkip\"></a>\n",
    "\n",
    "Alerta não crítico, mas que pode ser corrigido para melhoria geral no seu código/análise.\n",
    "</div>\n",
    "\n",
    "<div class=\"alert alert-block alert-danger\">\n",
    "\n",
    "<b>Comentário do revisor: </b> <a class=\"tocSkip\"></a>\n",
    "    \n",
    "Erro que precisa ser arrumado, caso contrário seu projeto **não** será aceito.\n",
    "</div>\n",
    "\n",
    "Você pode interagir comigo através dessa célula:\n",
    "<div class=\"alert alert-block alert-info\">\n",
    "<b>Resposta do Aluno.</b> <a class=\"tocSkip\"></a>\n",
    "</div>"
   ]
  },
  {
   "cell_type": "markdown",
   "metadata": {},
   "source": [
    "<div class=\"alert alert-block alert-danger\">\n",
    "<b> Comentário geral do revisor v1</b> <a class=\"tocSkip\"></a>\n",
    "\n",
    "<s>\n",
    "Obrigado por enviar o seu projeto e pelo esforço de chegar até aqui. O seu projeto possui alguns pontos bem interessantes, dos quais eu destaco:\n",
    "    \n",
    "- Código bem simples e estruturado usando funções\n",
    "- Comentários sucintos e bem objetivos\n",
    "- Conclusões pertinentes em cada etapa do projeto\n",
    "- Boas habilidades de programação e manipulação de dados\n",
    "<br>\n",
    "    \n",
    "Entretanto, deixei alguns comentários em alguns trechos que precisam de ajuste. Peço que trabalhe nesses pontos para avançarmos.\n",
    "  \n",
    "<br>\n",
    "Qualquer dúvida, pode contar comigo.   \n",
    "    \n",
    "<br>\n",
    "    \n",
    "**Até breve!**\n",
    "</s>\n",
    "</div>"
   ]
  },
  {
   "cell_type": "markdown",
   "metadata": {},
   "source": [
    "<div class=\"alert alert-block alert-danger\">\n",
    "<b> Comentário do revisor v2</b> <a class=\"tocSkip\"></a>\n",
    "<s>\n",
    "Obrigado por enviar o seu projeto e pelo esforço para executar as etapas necessárias.   \n",
    "<br>\n",
    "    \n",
    "Essa versão do seu trabalho está melhor, entretanto, ainda precisamos trabalhar no cálculo de lucro/prejuízo. Deixei um exemplo de cálculo para a região `0` no final do seu projeto, peço que replique para as outras regiões.\n",
    "    \n",
    "<br>\n",
    "    \n",
    "Se tiver alguma dúvida, pode contar comigo.\n",
    "    \n",
    "<br>   \n",
    "\n",
    "**Até breve!**\n",
    "</s>\n",
    "</div>"
   ]
  },
  {
   "cell_type": "markdown",
   "metadata": {},
   "source": [
    "<div class=\"alert alert-block alert-success\">\n",
    "<b> Comentário geral do revisor v3</b> <a class=\"tocSkip\"></a>\n",
    "\n",
    "Obrigado por enviar o seu projeto e fazer os ajustes sugeridos. Essa versão do seu trabalho ficou muito melhor! Espero que as sugestões sejam relevantes para projetos futuros.\n",
    "    \n",
    "<br>\n",
    "    \n",
    "Sobre as suas dúvidas:\n",
    "    \n",
    "> **Porquê fazemos as amostras no primeiro Bootstrap com 500 índices se o valor do investimento é para cavar 200 poços? Isso não altera as previsões de lucro de forma distorcida?** R: O boostrap é apenas um mecanismo para fazer amostragem dos dados e calcular intervalo de confiança e outros parâmetros, não tem relação com o número de poços. O valor 500, entretanto, é arbitrário e pode ser diferente em outros problemas.\n",
    "    \n",
    "<br>\n",
    "    \n",
    "> **Como escolher o tamanho das amostras?** R: Isso vai depender do tamanho da sua população e intervalo de confiança desejados. Nesse caso, você pode fazer o cálculo ou testar com diferentes valores. Para alguns problemas, 500 exemplos será razoável e para outros esse número precisará ser maior (1000, 2000, etc)\n",
    "    \n",
    "<br>\n",
    "    \n",
    "> **Qual é a utilidade do Intervalo de Confiança, seria para calcular o risco de prejuízo e o lucro médio com mais segurança, certo? E se não, porquê não?** R: o intervalo de confiança serve para quantificar o erro de um parâmetro. Quando você calcula um parâmetro usando uma amostra (a média da amostra, por exemplo), você está assumindo que esse valor é similar ao da população no geral, pois assume-se que a amostra segue a mesma distribuição. Entretanto, ainda segue sendo uma amostra aleatória e pode ter erros diversos (amostragem, filtros, etc.). O intervalo de confiança te ajuda a estimar o erro para a métrica calculada com uma certa \"confiança\" (95% é o mais comum). Pense, por exemplo, nas pesquisas eleitorais e quando os jornais divulgam a margem de erro. Esse cálculo é feito usando intervalo de confiança.\n",
    "    \n",
    "<br>\n",
    "Te desejo uma jornada de muito sucesso e aprendizado.\n",
    "    \n",
    "<br>   \n",
    "    \n",
    "Qualquer dúvida, pode contar comigo.   \n",
    "    \n",
    "<br>  \n",
    "    \n",
    "**Até breve!**\n",
    "\n",
    "</div>"
   ]
  },
  {
   "cell_type": "markdown",
   "metadata": {},
   "source": [
    "# OilyGiant - Em busca de novos poços\n",
    "\n",
    "## Objetivo\n",
    "\n",
    "Encontrar os melhores lugares para a empresa *OilyGiant* desenvolver novos poços de petróleo, utilizando um modelo de **Regressão Linear**.\n",
    "- **Risco de perdas máximo admitido: 2,5%.**\n",
    "\n",
    "## Analisando os dados\n",
    "\n",
    "### Importando bibliotecas e dados"
   ]
  },
  {
   "cell_type": "code",
   "execution_count": 1,
   "metadata": {},
   "outputs": [],
   "source": [
    "import pandas as pd\n",
    "import numpy as np\n",
    "from matplotlib import pyplot as plt\n",
    "from sklearn.preprocessing import RobustScaler\n",
    "from sklearn.model_selection import train_test_split\n",
    "from sklearn.linear_model import LinearRegression\n",
    "from sklearn.metrics import mean_squared_error"
   ]
  },
  {
   "cell_type": "code",
   "execution_count": 2,
   "metadata": {},
   "outputs": [],
   "source": [
    "data_0 = pd.read_csv(\"/datasets/geo_data_0.csv\")\n",
    "data_1 = pd.read_csv(\"/datasets/geo_data_1.csv\")\n",
    "data_2 = pd.read_csv(\"/datasets/geo_data_2.csv\")"
   ]
  },
  {
   "cell_type": "markdown",
   "metadata": {},
   "source": [
    "### Entendendo os conjuntos de dados"
   ]
  },
  {
   "cell_type": "code",
   "execution_count": 3,
   "metadata": {},
   "outputs": [
    {
     "name": "stdout",
     "output_type": "stream",
     "text": [
      "<class 'pandas.core.frame.DataFrame'>\n",
      "RangeIndex: 100000 entries, 0 to 99999\n",
      "Data columns (total 5 columns):\n",
      " #   Column   Non-Null Count   Dtype  \n",
      "---  ------   --------------   -----  \n",
      " 0   id       100000 non-null  object \n",
      " 1   f0       100000 non-null  float64\n",
      " 2   f1       100000 non-null  float64\n",
      " 3   f2       100000 non-null  float64\n",
      " 4   product  100000 non-null  float64\n",
      "dtypes: float64(4), object(1)\n",
      "memory usage: 3.8+ MB\n"
     ]
    }
   ],
   "source": [
    "# Região 0.\n",
    "data_0.info()"
   ]
  },
  {
   "cell_type": "code",
   "execution_count": 4,
   "metadata": {},
   "outputs": [
    {
     "data": {
      "text/html": [
       "<div>\n",
       "<style scoped>\n",
       "    .dataframe tbody tr th:only-of-type {\n",
       "        vertical-align: middle;\n",
       "    }\n",
       "\n",
       "    .dataframe tbody tr th {\n",
       "        vertical-align: top;\n",
       "    }\n",
       "\n",
       "    .dataframe thead th {\n",
       "        text-align: right;\n",
       "    }\n",
       "</style>\n",
       "<table border=\"1\" class=\"dataframe\">\n",
       "  <thead>\n",
       "    <tr style=\"text-align: right;\">\n",
       "      <th></th>\n",
       "      <th>id</th>\n",
       "      <th>f0</th>\n",
       "      <th>f1</th>\n",
       "      <th>f2</th>\n",
       "      <th>product</th>\n",
       "    </tr>\n",
       "  </thead>\n",
       "  <tbody>\n",
       "    <tr>\n",
       "      <th>42083</th>\n",
       "      <td>qdC6b</td>\n",
       "      <td>0.331011</td>\n",
       "      <td>-0.288668</td>\n",
       "      <td>6.134432</td>\n",
       "      <td>145.825972</td>\n",
       "    </tr>\n",
       "    <tr>\n",
       "      <th>71825</th>\n",
       "      <td>DmmHg</td>\n",
       "      <td>-0.027196</td>\n",
       "      <td>0.189525</td>\n",
       "      <td>0.160777</td>\n",
       "      <td>134.020212</td>\n",
       "    </tr>\n",
       "    <tr>\n",
       "      <th>99535</th>\n",
       "      <td>Yjids</td>\n",
       "      <td>-0.982324</td>\n",
       "      <td>0.286965</td>\n",
       "      <td>-2.163846</td>\n",
       "      <td>88.905826</td>\n",
       "    </tr>\n",
       "    <tr>\n",
       "      <th>47879</th>\n",
       "      <td>xZBy3</td>\n",
       "      <td>0.686155</td>\n",
       "      <td>0.797873</td>\n",
       "      <td>2.689418</td>\n",
       "      <td>19.508226</td>\n",
       "    </tr>\n",
       "    <tr>\n",
       "      <th>36734</th>\n",
       "      <td>k7gBv</td>\n",
       "      <td>0.603928</td>\n",
       "      <td>0.605621</td>\n",
       "      <td>5.852418</td>\n",
       "      <td>108.713468</td>\n",
       "    </tr>\n",
       "  </tbody>\n",
       "</table>\n",
       "</div>"
      ],
      "text/plain": [
       "          id        f0        f1        f2     product\n",
       "42083  qdC6b  0.331011 -0.288668  6.134432  145.825972\n",
       "71825  DmmHg -0.027196  0.189525  0.160777  134.020212\n",
       "99535  Yjids -0.982324  0.286965 -2.163846   88.905826\n",
       "47879  xZBy3  0.686155  0.797873  2.689418   19.508226\n",
       "36734  k7gBv  0.603928  0.605621  5.852418  108.713468"
      ]
     },
     "execution_count": 4,
     "metadata": {},
     "output_type": "execute_result"
    }
   ],
   "source": [
    "data_0.sample(5, random_state=123)"
   ]
  },
  {
   "cell_type": "markdown",
   "metadata": {},
   "source": [
    "O DataFrame *'data_0'* possui dados sobre amostras de petróleo da Região 0 e parâmetros dos poços existentes:\n",
    "\n",
    "- `id`: Identificador exclusivo do poço de petróleo *(tipagem correta e sem valores ausentes)*;\n",
    "- `f0`: Característica relevante 'f0' *(tipagem correta, sem valores ausentes, possui valores negativos e positivos)*;\n",
    "- `f1`: Característica relevante 'f1' *(tipagem correta, sem valores usentes, possui valores negativos e positivos)*;\n",
    "- `f2`: Característica relevante 'f2' *(tipagem correta, sem valores ausentes, possui valores negativos e positivos)*;\n",
    "- `product`: Volume de reservas no poço estudado, em Milhares de barris *(tipagem correta, sem valores ausentes, não possui valores negativos)*."
   ]
  },
  {
   "cell_type": "code",
   "execution_count": 5,
   "metadata": {},
   "outputs": [
    {
     "data": {
      "text/html": [
       "<div>\n",
       "<style scoped>\n",
       "    .dataframe tbody tr th:only-of-type {\n",
       "        vertical-align: middle;\n",
       "    }\n",
       "\n",
       "    .dataframe tbody tr th {\n",
       "        vertical-align: top;\n",
       "    }\n",
       "\n",
       "    .dataframe thead th {\n",
       "        text-align: right;\n",
       "    }\n",
       "</style>\n",
       "<table border=\"1\" class=\"dataframe\">\n",
       "  <thead>\n",
       "    <tr style=\"text-align: right;\">\n",
       "      <th></th>\n",
       "      <th>id</th>\n",
       "      <th>f0</th>\n",
       "      <th>f1</th>\n",
       "      <th>f2</th>\n",
       "      <th>product</th>\n",
       "    </tr>\n",
       "  </thead>\n",
       "  <tbody>\n",
       "  </tbody>\n",
       "</table>\n",
       "</div>"
      ],
      "text/plain": [
       "Empty DataFrame\n",
       "Columns: [id, f0, f1, f2, product]\n",
       "Index: []"
      ]
     },
     "execution_count": 5,
     "metadata": {},
     "output_type": "execute_result"
    }
   ],
   "source": [
    "# Conferindo se há dados duplicados.\n",
    "data_0[data_0.duplicated()]"
   ]
  },
  {
   "cell_type": "markdown",
   "metadata": {},
   "source": [
    "O DataFrame *'data_0'* não possui dados duplicados."
   ]
  },
  {
   "cell_type": "code",
   "execution_count": 6,
   "metadata": {},
   "outputs": [
    {
     "name": "stdout",
     "output_type": "stream",
     "text": [
      "<class 'pandas.core.frame.DataFrame'>\n",
      "RangeIndex: 100000 entries, 0 to 99999\n",
      "Data columns (total 5 columns):\n",
      " #   Column   Non-Null Count   Dtype  \n",
      "---  ------   --------------   -----  \n",
      " 0   id       100000 non-null  object \n",
      " 1   f0       100000 non-null  float64\n",
      " 2   f1       100000 non-null  float64\n",
      " 3   f2       100000 non-null  float64\n",
      " 4   product  100000 non-null  float64\n",
      "dtypes: float64(4), object(1)\n",
      "memory usage: 3.8+ MB\n"
     ]
    }
   ],
   "source": [
    "# Região 1.\n",
    "data_1.info()"
   ]
  },
  {
   "cell_type": "code",
   "execution_count": 7,
   "metadata": {},
   "outputs": [
    {
     "data": {
      "text/html": [
       "<div>\n",
       "<style scoped>\n",
       "    .dataframe tbody tr th:only-of-type {\n",
       "        vertical-align: middle;\n",
       "    }\n",
       "\n",
       "    .dataframe tbody tr th {\n",
       "        vertical-align: top;\n",
       "    }\n",
       "\n",
       "    .dataframe thead th {\n",
       "        text-align: right;\n",
       "    }\n",
       "</style>\n",
       "<table border=\"1\" class=\"dataframe\">\n",
       "  <thead>\n",
       "    <tr style=\"text-align: right;\">\n",
       "      <th></th>\n",
       "      <th>id</th>\n",
       "      <th>f0</th>\n",
       "      <th>f1</th>\n",
       "      <th>f2</th>\n",
       "      <th>product</th>\n",
       "    </tr>\n",
       "  </thead>\n",
       "  <tbody>\n",
       "    <tr>\n",
       "      <th>93372</th>\n",
       "      <td>Hpy42</td>\n",
       "      <td>-2.261094</td>\n",
       "      <td>-9.135457</td>\n",
       "      <td>-0.000360</td>\n",
       "      <td>3.179103</td>\n",
       "    </tr>\n",
       "    <tr>\n",
       "      <th>51513</th>\n",
       "      <td>0ODDD</td>\n",
       "      <td>-8.097179</td>\n",
       "      <td>-9.378453</td>\n",
       "      <td>5.001618</td>\n",
       "      <td>137.945408</td>\n",
       "    </tr>\n",
       "    <tr>\n",
       "      <th>47219</th>\n",
       "      <td>4nHFW</td>\n",
       "      <td>2.679521</td>\n",
       "      <td>3.207769</td>\n",
       "      <td>-0.003893</td>\n",
       "      <td>3.179103</td>\n",
       "    </tr>\n",
       "    <tr>\n",
       "      <th>11029</th>\n",
       "      <td>38yiR</td>\n",
       "      <td>11.643166</td>\n",
       "      <td>-2.274373</td>\n",
       "      <td>4.000828</td>\n",
       "      <td>107.813044</td>\n",
       "    </tr>\n",
       "    <tr>\n",
       "      <th>77151</th>\n",
       "      <td>DCl6D</td>\n",
       "      <td>-2.159306</td>\n",
       "      <td>-14.934612</td>\n",
       "      <td>0.998611</td>\n",
       "      <td>30.132364</td>\n",
       "    </tr>\n",
       "  </tbody>\n",
       "</table>\n",
       "</div>"
      ],
      "text/plain": [
       "          id         f0         f1        f2     product\n",
       "93372  Hpy42  -2.261094  -9.135457 -0.000360    3.179103\n",
       "51513  0ODDD  -8.097179  -9.378453  5.001618  137.945408\n",
       "47219  4nHFW   2.679521   3.207769 -0.003893    3.179103\n",
       "11029  38yiR  11.643166  -2.274373  4.000828  107.813044\n",
       "77151  DCl6D  -2.159306 -14.934612  0.998611   30.132364"
      ]
     },
     "execution_count": 7,
     "metadata": {},
     "output_type": "execute_result"
    }
   ],
   "source": [
    "data_1.sample(5, random_state=3333)"
   ]
  },
  {
   "cell_type": "markdown",
   "metadata": {},
   "source": [
    "O DataFrame *'data_1'* possui dados sobre amostras de petróleo da Região 1 e parâmetros dos poços existentes:\n",
    "\n",
    "- `id`: Identificador exclusivo do poço de petróleo *(tipagem correta e sem valores ausentes)*;\n",
    "- `f0`: Característica relevante 'f0' *(tipagem correta, sem valores ausentes, possui valores negativos e positivos)*;\n",
    "- `f1`: Característica relevante 'f1' *(tipagem correta, sem valores usentes, possui valores negativos e positivos)*;\n",
    "- `f2`: Característica relevante 'f2' *(tipagem correta, sem valores ausentes, possui valores negativos e positivos)*;\n",
    "- `product`: Volume de reservas no poço estudado, em Milhares de barris *(tipagem correta, sem valores ausentes, não possui valores negativos)*."
   ]
  },
  {
   "cell_type": "code",
   "execution_count": 8,
   "metadata": {},
   "outputs": [
    {
     "data": {
      "text/html": [
       "<div>\n",
       "<style scoped>\n",
       "    .dataframe tbody tr th:only-of-type {\n",
       "        vertical-align: middle;\n",
       "    }\n",
       "\n",
       "    .dataframe tbody tr th {\n",
       "        vertical-align: top;\n",
       "    }\n",
       "\n",
       "    .dataframe thead th {\n",
       "        text-align: right;\n",
       "    }\n",
       "</style>\n",
       "<table border=\"1\" class=\"dataframe\">\n",
       "  <thead>\n",
       "    <tr style=\"text-align: right;\">\n",
       "      <th></th>\n",
       "      <th>id</th>\n",
       "      <th>f0</th>\n",
       "      <th>f1</th>\n",
       "      <th>f2</th>\n",
       "      <th>product</th>\n",
       "    </tr>\n",
       "  </thead>\n",
       "  <tbody>\n",
       "  </tbody>\n",
       "</table>\n",
       "</div>"
      ],
      "text/plain": [
       "Empty DataFrame\n",
       "Columns: [id, f0, f1, f2, product]\n",
       "Index: []"
      ]
     },
     "execution_count": 8,
     "metadata": {},
     "output_type": "execute_result"
    }
   ],
   "source": [
    "# Conferindo se há dados duplicados.\n",
    "data_1[data_1.duplicated()]"
   ]
  },
  {
   "cell_type": "markdown",
   "metadata": {},
   "source": [
    "O DataFrame *'data_1'* não possui dados duplicados."
   ]
  },
  {
   "cell_type": "code",
   "execution_count": 9,
   "metadata": {},
   "outputs": [
    {
     "name": "stdout",
     "output_type": "stream",
     "text": [
      "<class 'pandas.core.frame.DataFrame'>\n",
      "RangeIndex: 100000 entries, 0 to 99999\n",
      "Data columns (total 5 columns):\n",
      " #   Column   Non-Null Count   Dtype  \n",
      "---  ------   --------------   -----  \n",
      " 0   id       100000 non-null  object \n",
      " 1   f0       100000 non-null  float64\n",
      " 2   f1       100000 non-null  float64\n",
      " 3   f2       100000 non-null  float64\n",
      " 4   product  100000 non-null  float64\n",
      "dtypes: float64(4), object(1)\n",
      "memory usage: 3.8+ MB\n"
     ]
    }
   ],
   "source": [
    "# Região 2.\n",
    "data_2.info()"
   ]
  },
  {
   "cell_type": "code",
   "execution_count": 10,
   "metadata": {},
   "outputs": [
    {
     "data": {
      "text/html": [
       "<div>\n",
       "<style scoped>\n",
       "    .dataframe tbody tr th:only-of-type {\n",
       "        vertical-align: middle;\n",
       "    }\n",
       "\n",
       "    .dataframe tbody tr th {\n",
       "        vertical-align: top;\n",
       "    }\n",
       "\n",
       "    .dataframe thead th {\n",
       "        text-align: right;\n",
       "    }\n",
       "</style>\n",
       "<table border=\"1\" class=\"dataframe\">\n",
       "  <thead>\n",
       "    <tr style=\"text-align: right;\">\n",
       "      <th></th>\n",
       "      <th>id</th>\n",
       "      <th>f0</th>\n",
       "      <th>f1</th>\n",
       "      <th>f2</th>\n",
       "      <th>product</th>\n",
       "    </tr>\n",
       "  </thead>\n",
       "  <tbody>\n",
       "    <tr>\n",
       "      <th>42083</th>\n",
       "      <td>XjB3D</td>\n",
       "      <td>0.711582</td>\n",
       "      <td>3.831002</td>\n",
       "      <td>2.352651</td>\n",
       "      <td>147.451978</td>\n",
       "    </tr>\n",
       "    <tr>\n",
       "      <th>71825</th>\n",
       "      <td>XD3Y4</td>\n",
       "      <td>-0.098114</td>\n",
       "      <td>0.839851</td>\n",
       "      <td>7.261075</td>\n",
       "      <td>128.711794</td>\n",
       "    </tr>\n",
       "    <tr>\n",
       "      <th>99535</th>\n",
       "      <td>zUNMx</td>\n",
       "      <td>-0.818925</td>\n",
       "      <td>3.542305</td>\n",
       "      <td>-0.095631</td>\n",
       "      <td>106.628185</td>\n",
       "    </tr>\n",
       "    <tr>\n",
       "      <th>47879</th>\n",
       "      <td>8etwE</td>\n",
       "      <td>1.574434</td>\n",
       "      <td>4.983617</td>\n",
       "      <td>3.425385</td>\n",
       "      <td>128.787131</td>\n",
       "    </tr>\n",
       "    <tr>\n",
       "      <th>36734</th>\n",
       "      <td>2usCl</td>\n",
       "      <td>-0.359799</td>\n",
       "      <td>-2.576582</td>\n",
       "      <td>1.570323</td>\n",
       "      <td>159.328488</td>\n",
       "    </tr>\n",
       "  </tbody>\n",
       "</table>\n",
       "</div>"
      ],
      "text/plain": [
       "          id        f0        f1        f2     product\n",
       "42083  XjB3D  0.711582  3.831002  2.352651  147.451978\n",
       "71825  XD3Y4 -0.098114  0.839851  7.261075  128.711794\n",
       "99535  zUNMx -0.818925  3.542305 -0.095631  106.628185\n",
       "47879  8etwE  1.574434  4.983617  3.425385  128.787131\n",
       "36734  2usCl -0.359799 -2.576582  1.570323  159.328488"
      ]
     },
     "execution_count": 10,
     "metadata": {},
     "output_type": "execute_result"
    }
   ],
   "source": [
    "data_2.sample(5, random_state=123)"
   ]
  },
  {
   "cell_type": "markdown",
   "metadata": {},
   "source": [
    "O DataFrame *'data_2'* possui dados sobre amostras de petróleo da Região 2 e parâmetros dos poços existentes:\n",
    "\n",
    "- `id`: Identificador exclusivo do poço de petróleo *(tipagem correta e sem valores ausentes)*;\n",
    "- `f0`: Característica relevante 'f0' *(tipagem correta, sem valores ausentes, possui valores negativos e positivos)*;\n",
    "- `f1`: Característica relevante 'f1' *(tipagem correta, sem valores usentes, possui valores negativos e positivos)*;\n",
    "- `f2`: Característica relevante 'f2' *(tipagem correta, sem valores ausentes, possui valores negativos e positivos)*;\n",
    "- `product`: Volume de reservas no poço estudado, em Milhares de barris *(tipagem correta, sem valores ausentes, não possui valores negativos)*."
   ]
  },
  {
   "cell_type": "code",
   "execution_count": 11,
   "metadata": {},
   "outputs": [
    {
     "data": {
      "text/html": [
       "<div>\n",
       "<style scoped>\n",
       "    .dataframe tbody tr th:only-of-type {\n",
       "        vertical-align: middle;\n",
       "    }\n",
       "\n",
       "    .dataframe tbody tr th {\n",
       "        vertical-align: top;\n",
       "    }\n",
       "\n",
       "    .dataframe thead th {\n",
       "        text-align: right;\n",
       "    }\n",
       "</style>\n",
       "<table border=\"1\" class=\"dataframe\">\n",
       "  <thead>\n",
       "    <tr style=\"text-align: right;\">\n",
       "      <th></th>\n",
       "      <th>id</th>\n",
       "      <th>f0</th>\n",
       "      <th>f1</th>\n",
       "      <th>f2</th>\n",
       "      <th>product</th>\n",
       "    </tr>\n",
       "  </thead>\n",
       "  <tbody>\n",
       "  </tbody>\n",
       "</table>\n",
       "</div>"
      ],
      "text/plain": [
       "Empty DataFrame\n",
       "Columns: [id, f0, f1, f2, product]\n",
       "Index: []"
      ]
     },
     "execution_count": 11,
     "metadata": {},
     "output_type": "execute_result"
    }
   ],
   "source": [
    "# Conferindo se há valores duplicados.\n",
    "data_2[data_2.duplicated()]"
   ]
  },
  {
   "cell_type": "markdown",
   "metadata": {},
   "source": [
    "O DataFrame *'data_1'* não possui dados duplicados.\n",
    "\n",
    "### Entendendo as variáveis quantitativas\n",
    "\n",
    "#### Característica 'f0':"
   ]
  },
  {
   "cell_type": "code",
   "execution_count": 12,
   "metadata": {},
   "outputs": [
    {
     "data": {
      "text/html": [
       "<div>\n",
       "<style scoped>\n",
       "    .dataframe tbody tr th:only-of-type {\n",
       "        vertical-align: middle;\n",
       "    }\n",
       "\n",
       "    .dataframe tbody tr th {\n",
       "        vertical-align: top;\n",
       "    }\n",
       "\n",
       "    .dataframe thead th {\n",
       "        text-align: right;\n",
       "    }\n",
       "</style>\n",
       "<table border=\"1\" class=\"dataframe\">\n",
       "  <thead>\n",
       "    <tr style=\"text-align: right;\">\n",
       "      <th></th>\n",
       "      <th>Região 0</th>\n",
       "      <th>Região 1</th>\n",
       "      <th>Região 2</th>\n",
       "    </tr>\n",
       "  </thead>\n",
       "  <tbody>\n",
       "    <tr>\n",
       "      <th>count</th>\n",
       "      <td>100000.000000</td>\n",
       "      <td>100000.000000</td>\n",
       "      <td>100000.000000</td>\n",
       "    </tr>\n",
       "    <tr>\n",
       "      <th>mean</th>\n",
       "      <td>0.500419</td>\n",
       "      <td>1.141296</td>\n",
       "      <td>0.002023</td>\n",
       "    </tr>\n",
       "    <tr>\n",
       "      <th>std</th>\n",
       "      <td>0.871832</td>\n",
       "      <td>8.965932</td>\n",
       "      <td>1.732045</td>\n",
       "    </tr>\n",
       "    <tr>\n",
       "      <th>min</th>\n",
       "      <td>-1.408605</td>\n",
       "      <td>-31.609576</td>\n",
       "      <td>-8.760004</td>\n",
       "    </tr>\n",
       "    <tr>\n",
       "      <th>25%</th>\n",
       "      <td>-0.072580</td>\n",
       "      <td>-6.298551</td>\n",
       "      <td>-1.162288</td>\n",
       "    </tr>\n",
       "    <tr>\n",
       "      <th>50%</th>\n",
       "      <td>0.502360</td>\n",
       "      <td>1.153055</td>\n",
       "      <td>0.009424</td>\n",
       "    </tr>\n",
       "    <tr>\n",
       "      <th>75%</th>\n",
       "      <td>1.073581</td>\n",
       "      <td>8.621015</td>\n",
       "      <td>1.158535</td>\n",
       "    </tr>\n",
       "    <tr>\n",
       "      <th>max</th>\n",
       "      <td>2.362331</td>\n",
       "      <td>29.421755</td>\n",
       "      <td>7.238262</td>\n",
       "    </tr>\n",
       "    <tr>\n",
       "      <th>spread</th>\n",
       "      <td>3.770936</td>\n",
       "      <td>61.031331</td>\n",
       "      <td>15.998266</td>\n",
       "    </tr>\n",
       "  </tbody>\n",
       "</table>\n",
       "</div>"
      ],
      "text/plain": [
       "             Região 0       Região 1       Região 2\n",
       "count   100000.000000  100000.000000  100000.000000\n",
       "mean         0.500419       1.141296       0.002023\n",
       "std          0.871832       8.965932       1.732045\n",
       "min         -1.408605     -31.609576      -8.760004\n",
       "25%         -0.072580      -6.298551      -1.162288\n",
       "50%          0.502360       1.153055       0.009424\n",
       "75%          1.073581       8.621015       1.158535\n",
       "max          2.362331      29.421755       7.238262\n",
       "spread       3.770936      61.031331      15.998266"
      ]
     },
     "execution_count": 12,
     "metadata": {},
     "output_type": "execute_result"
    }
   ],
   "source": [
    "# Conferindo amplitude de 'f0' para cada região:\n",
    "# Concatenando as descrições em um único DataFrame.\n",
    "describes_f0 = pd.concat(\n",
    "    [data_0[\"f0\"].describe(), data_1[\"f0\"].describe(), data_2[\"f0\"].describe()], axis=1\n",
    ")\n",
    "\n",
    "# Calculando a amplitude e adicionando como uma nova linha.\n",
    "amplitude = describes_f0.loc[\"max\"] - describes_f0.loc[\"min\"]\n",
    "describes_f0.loc[\"spread\"] = amplitude\n",
    "\n",
    "describes_f0.columns = [\"Região 0\", \"Região 1\", \"Região 2\"]\n",
    "\n",
    "describes_f0"
   ]
  },
  {
   "cell_type": "markdown",
   "metadata": {},
   "source": [
    "A característica `f0` possui amplitude parecida nas Regiões '0' e '2' _(por volta de 28)_, e amplitude significativamente menor na Região '1' _(5.037865)_, porém com médias similares quando arredondadas para uma casa decimal _(2.5)_."
   ]
  },
  {
   "cell_type": "code",
   "execution_count": 13,
   "metadata": {},
   "outputs": [
    {
     "data": {
      "image/png": "[encoded data removed]",
      "text/plain": [
       "<Figure size 800x350 with 3 Axes>"
      ]
     },
     "metadata": {},
     "output_type": "display_data"
    }
   ],
   "source": [
    "# Fazendo um histograma para comparar a distribuição dos valores nas diferentes regiões.\n",
    "fig, axs = plt.subplots(1, 3, sharey=True, figsize=(8, 3.5))\n",
    "\n",
    "axs[0].hist(data_0[\"f0\"], bins=50)\n",
    "axs[0].set_title(\"Região 0\")\n",
    "axs[1].hist(data_1[\"f0\"], bins=50)\n",
    "axs[1].set_title(\"Região 1\")\n",
    "axs[2].hist(data_2[\"f0\"], bins=50)\n",
    "axs[2].set_title(\"Região 2\")\n",
    "fig.suptitle('Distribuição de \"f0\" por região')\n",
    "plt.tight_layout()"
   ]
  },
  {
   "cell_type": "markdown",
   "metadata": {},
   "source": [
    "Sobre a distribuição de `f2`, as Regiões '0' e '2' possuem distribuição Normal e a Região '1' possui distribuição Multinomial discreta."
   ]
  },
  {
   "cell_type": "markdown",
   "metadata": {},
   "source": [
    "#### Característica 'f1':"
   ]
  },
  {
   "cell_type": "code",
   "execution_count": 14,
   "metadata": {},
   "outputs": [
    {
     "data": {
      "text/html": [
       "<div>\n",
       "<style scoped>\n",
       "    .dataframe tbody tr th:only-of-type {\n",
       "        vertical-align: middle;\n",
       "    }\n",
       "\n",
       "    .dataframe tbody tr th {\n",
       "        vertical-align: top;\n",
       "    }\n",
       "\n",
       "    .dataframe thead th {\n",
       "        text-align: right;\n",
       "    }\n",
       "</style>\n",
       "<table border=\"1\" class=\"dataframe\">\n",
       "  <thead>\n",
       "    <tr style=\"text-align: right;\">\n",
       "      <th></th>\n",
       "      <th>Região 0</th>\n",
       "      <th>Região 1</th>\n",
       "      <th>Região 2</th>\n",
       "    </tr>\n",
       "  </thead>\n",
       "  <tbody>\n",
       "    <tr>\n",
       "      <th>count</th>\n",
       "      <td>100000.000000</td>\n",
       "      <td>100000.000000</td>\n",
       "      <td>100000.000000</td>\n",
       "    </tr>\n",
       "    <tr>\n",
       "      <th>mean</th>\n",
       "      <td>0.250143</td>\n",
       "      <td>-4.796579</td>\n",
       "      <td>-0.002081</td>\n",
       "    </tr>\n",
       "    <tr>\n",
       "      <th>std</th>\n",
       "      <td>0.504433</td>\n",
       "      <td>5.119872</td>\n",
       "      <td>1.730417</td>\n",
       "    </tr>\n",
       "    <tr>\n",
       "      <th>min</th>\n",
       "      <td>-0.848218</td>\n",
       "      <td>-26.358598</td>\n",
       "      <td>-7.084020</td>\n",
       "    </tr>\n",
       "    <tr>\n",
       "      <th>25%</th>\n",
       "      <td>-0.200881</td>\n",
       "      <td>-8.267985</td>\n",
       "      <td>-1.174820</td>\n",
       "    </tr>\n",
       "    <tr>\n",
       "      <th>50%</th>\n",
       "      <td>0.250252</td>\n",
       "      <td>-4.813172</td>\n",
       "      <td>-0.009482</td>\n",
       "    </tr>\n",
       "    <tr>\n",
       "      <th>75%</th>\n",
       "      <td>0.700646</td>\n",
       "      <td>-1.332816</td>\n",
       "      <td>1.163678</td>\n",
       "    </tr>\n",
       "    <tr>\n",
       "      <th>max</th>\n",
       "      <td>1.343769</td>\n",
       "      <td>18.734063</td>\n",
       "      <td>7.844801</td>\n",
       "    </tr>\n",
       "    <tr>\n",
       "      <th>spread</th>\n",
       "      <td>2.191988</td>\n",
       "      <td>45.092661</td>\n",
       "      <td>14.928821</td>\n",
       "    </tr>\n",
       "  </tbody>\n",
       "</table>\n",
       "</div>"
      ],
      "text/plain": [
       "             Região 0       Região 1       Região 2\n",
       "count   100000.000000  100000.000000  100000.000000\n",
       "mean         0.250143      -4.796579      -0.002081\n",
       "std          0.504433       5.119872       1.730417\n",
       "min         -0.848218     -26.358598      -7.084020\n",
       "25%         -0.200881      -8.267985      -1.174820\n",
       "50%          0.250252      -4.813172      -0.009482\n",
       "75%          0.700646      -1.332816       1.163678\n",
       "max          1.343769      18.734063       7.844801\n",
       "spread       2.191988      45.092661      14.928821"
      ]
     },
     "execution_count": 14,
     "metadata": {},
     "output_type": "execute_result"
    }
   ],
   "source": [
    "# Conferindo amplitude de 'f1' para cada região:\n",
    "# Concatenando as descrições em um único DataFrame.\n",
    "describes_f1 = pd.concat(\n",
    "    [data_0[\"f1\"].describe(), data_1[\"f1\"].describe(), data_2[\"f1\"].describe()], axis=1\n",
    ")\n",
    "\n",
    "# Calculando a amplitude e adicionando como uma nova linha.\n",
    "amplitude = describes_f1.loc[\"max\"] - describes_f1.loc[\"min\"]\n",
    "describes_f1.loc[\"spread\"] = amplitude\n",
    "\n",
    "describes_f1.columns = [\"Região 0\", \"Região 1\", \"Região 2\"]\n",
    "\n",
    "describes_f1"
   ]
  },
  {
   "cell_type": "markdown",
   "metadata": {},
   "source": [
    "A característica `f1` possui amplitudes e valores mínimos, máximos e médias significativamente distintos entre si."
   ]
  },
  {
   "cell_type": "code",
   "execution_count": 15,
   "metadata": {},
   "outputs": [
    {
     "data": {
      "image/png": "[encoded data removed]",
      "text/plain": [
       "<Figure size 800x350 with 3 Axes>"
      ]
     },
     "metadata": {},
     "output_type": "display_data"
    }
   ],
   "source": [
    "# Fazendo um histograma para comparar a distribuição dos valores nas diferentes regiões.\n",
    "fig, axs = plt.subplots(1, 3, sharey=True, figsize=(8, 3.5))\n",
    "\n",
    "axs[0].hist(data_0[\"f1\"], bins=50)\n",
    "axs[0].set_title(\"Região 0\")\n",
    "axs[1].hist(data_1[\"f1\"], bins=50)\n",
    "axs[1].set_title(\"Região 1\")\n",
    "axs[2].hist(data_2[\"f1\"], bins=50)\n",
    "axs[2].set_title(\"Região 2\")\n",
    "fig.suptitle('Distribuição de \"f1\" por região')\n",
    "plt.tight_layout()"
   ]
  },
  {
   "cell_type": "markdown",
   "metadata": {},
   "source": [
    "Sobre a distribuição de `f2`, as Regiões '1' e '2' possuem distribuição Normal e a Região '1' possui distribuição Trimodal.\n",
    "\n",
    "#### Característica 'f2':"
   ]
  },
  {
   "cell_type": "code",
   "execution_count": 16,
   "metadata": {},
   "outputs": [
    {
     "data": {
      "text/html": [
       "<div>\n",
       "<style scoped>\n",
       "    .dataframe tbody tr th:only-of-type {\n",
       "        vertical-align: middle;\n",
       "    }\n",
       "\n",
       "    .dataframe tbody tr th {\n",
       "        vertical-align: top;\n",
       "    }\n",
       "\n",
       "    .dataframe thead th {\n",
       "        text-align: right;\n",
       "    }\n",
       "</style>\n",
       "<table border=\"1\" class=\"dataframe\">\n",
       "  <thead>\n",
       "    <tr style=\"text-align: right;\">\n",
       "      <th></th>\n",
       "      <th>Região 0</th>\n",
       "      <th>Região 1</th>\n",
       "      <th>Região 2</th>\n",
       "    </tr>\n",
       "  </thead>\n",
       "  <tbody>\n",
       "    <tr>\n",
       "      <th>count</th>\n",
       "      <td>100000.000000</td>\n",
       "      <td>100000.000000</td>\n",
       "      <td>100000.000000</td>\n",
       "    </tr>\n",
       "    <tr>\n",
       "      <th>mean</th>\n",
       "      <td>2.502647</td>\n",
       "      <td>2.494541</td>\n",
       "      <td>2.495128</td>\n",
       "    </tr>\n",
       "    <tr>\n",
       "      <th>std</th>\n",
       "      <td>3.248248</td>\n",
       "      <td>1.703572</td>\n",
       "      <td>3.473445</td>\n",
       "    </tr>\n",
       "    <tr>\n",
       "      <th>min</th>\n",
       "      <td>-12.088328</td>\n",
       "      <td>-0.018144</td>\n",
       "      <td>-11.970335</td>\n",
       "    </tr>\n",
       "    <tr>\n",
       "      <th>25%</th>\n",
       "      <td>0.287748</td>\n",
       "      <td>1.000021</td>\n",
       "      <td>0.130359</td>\n",
       "    </tr>\n",
       "    <tr>\n",
       "      <th>50%</th>\n",
       "      <td>2.515969</td>\n",
       "      <td>2.011479</td>\n",
       "      <td>2.484236</td>\n",
       "    </tr>\n",
       "    <tr>\n",
       "      <th>75%</th>\n",
       "      <td>4.715088</td>\n",
       "      <td>3.999904</td>\n",
       "      <td>4.858794</td>\n",
       "    </tr>\n",
       "    <tr>\n",
       "      <th>max</th>\n",
       "      <td>16.003790</td>\n",
       "      <td>5.019721</td>\n",
       "      <td>16.739402</td>\n",
       "    </tr>\n",
       "    <tr>\n",
       "      <th>spread</th>\n",
       "      <td>28.092118</td>\n",
       "      <td>5.037865</td>\n",
       "      <td>28.709737</td>\n",
       "    </tr>\n",
       "  </tbody>\n",
       "</table>\n",
       "</div>"
      ],
      "text/plain": [
       "             Região 0       Região 1       Região 2\n",
       "count   100000.000000  100000.000000  100000.000000\n",
       "mean         2.502647       2.494541       2.495128\n",
       "std          3.248248       1.703572       3.473445\n",
       "min        -12.088328      -0.018144     -11.970335\n",
       "25%          0.287748       1.000021       0.130359\n",
       "50%          2.515969       2.011479       2.484236\n",
       "75%          4.715088       3.999904       4.858794\n",
       "max         16.003790       5.019721      16.739402\n",
       "spread      28.092118       5.037865      28.709737"
      ]
     },
     "execution_count": 16,
     "metadata": {},
     "output_type": "execute_result"
    }
   ],
   "source": [
    "# Conferindo amplitude de 'f2' para cada região:\n",
    "# Concatenando as descrições em um único DataFrame.\n",
    "describes_f2 = pd.concat(\n",
    "    [data_0[\"f2\"].describe(), data_1[\"f2\"].describe(), data_2[\"f2\"].describe()], axis=1\n",
    ")\n",
    "\n",
    "# Calculando a amplitude e adicionando como uma nova linha.\n",
    "amplitude = describes_f2.loc[\"max\"] - describes_f2.loc[\"min\"]\n",
    "describes_f2.loc[\"spread\"] = amplitude\n",
    "\n",
    "describes_f2.columns = [\"Região 0\", \"Região 1\", \"Região 2\"]\n",
    "\n",
    "describes_f2"
   ]
  },
  {
   "cell_type": "markdown",
   "metadata": {},
   "source": [
    "A característica `f2` possui amplitude parecida nas Regiões '0' e '2' _(por volta de 28)_, e amplitude significativamente menor na Região '1' _(5.037865)_, porém com médias similares quando arredondadas para uma casa decimal _(2.5)_."
   ]
  },
  {
   "cell_type": "code",
   "execution_count": 17,
   "metadata": {},
   "outputs": [
    {
     "data": {
      "image/png": "[encoded data removed]",
      "text/plain": [
       "<Figure size 800x350 with 3 Axes>"
      ]
     },
     "metadata": {},
     "output_type": "display_data"
    }
   ],
   "source": [
    "# Fazendo um histograma para comparar a distribuição dos valores nas diferentes regiões.\n",
    "fig, axs = plt.subplots(1, 3, sharey=True, figsize=(8, 3.5))\n",
    "\n",
    "axs[0].hist(data_0[\"f2\"], bins=50)\n",
    "axs[0].set_title(\"Região 0\")\n",
    "axs[1].hist(data_1[\"f2\"], bins=50)\n",
    "axs[1].set_title(\"Região 1\")\n",
    "axs[2].hist(data_2[\"f2\"], bins=50)\n",
    "axs[2].set_title(\"Região 2\")\n",
    "fig.suptitle('Distribuição de \"f2\" por região')\n",
    "plt.tight_layout()"
   ]
  },
  {
   "cell_type": "markdown",
   "metadata": {},
   "source": [
    "Sobre a distribuição de `f2`, as Regiões '0' e '2' possuem distribuição Normal e a Região '1' possui distribuição Multinomial discreta.\n",
    "\n",
    "### Conferindo as distribuições dos dados para cada região:"
   ]
  },
  {
   "cell_type": "code",
   "execution_count": 18,
   "metadata": {},
   "outputs": [
    {
     "data": {
      "text/html": [
       "<div>\n",
       "<style scoped>\n",
       "    .dataframe tbody tr th:only-of-type {\n",
       "        vertical-align: middle;\n",
       "    }\n",
       "\n",
       "    .dataframe tbody tr th {\n",
       "        vertical-align: top;\n",
       "    }\n",
       "\n",
       "    .dataframe thead th {\n",
       "        text-align: right;\n",
       "    }\n",
       "</style>\n",
       "<table border=\"1\" class=\"dataframe\">\n",
       "  <thead>\n",
       "    <tr style=\"text-align: right;\">\n",
       "      <th></th>\n",
       "      <th>f0</th>\n",
       "      <th>f1</th>\n",
       "      <th>f2</th>\n",
       "    </tr>\n",
       "  </thead>\n",
       "  <tbody>\n",
       "    <tr>\n",
       "      <th>count</th>\n",
       "      <td>100000.000000</td>\n",
       "      <td>100000.000000</td>\n",
       "      <td>100000.000000</td>\n",
       "    </tr>\n",
       "    <tr>\n",
       "      <th>mean</th>\n",
       "      <td>0.500419</td>\n",
       "      <td>0.250143</td>\n",
       "      <td>2.502647</td>\n",
       "    </tr>\n",
       "    <tr>\n",
       "      <th>std</th>\n",
       "      <td>0.871832</td>\n",
       "      <td>0.504433</td>\n",
       "      <td>3.248248</td>\n",
       "    </tr>\n",
       "    <tr>\n",
       "      <th>min</th>\n",
       "      <td>-1.408605</td>\n",
       "      <td>-0.848218</td>\n",
       "      <td>-12.088328</td>\n",
       "    </tr>\n",
       "    <tr>\n",
       "      <th>25%</th>\n",
       "      <td>-0.072580</td>\n",
       "      <td>-0.200881</td>\n",
       "      <td>0.287748</td>\n",
       "    </tr>\n",
       "    <tr>\n",
       "      <th>50%</th>\n",
       "      <td>0.502360</td>\n",
       "      <td>0.250252</td>\n",
       "      <td>2.515969</td>\n",
       "    </tr>\n",
       "    <tr>\n",
       "      <th>75%</th>\n",
       "      <td>1.073581</td>\n",
       "      <td>0.700646</td>\n",
       "      <td>4.715088</td>\n",
       "    </tr>\n",
       "    <tr>\n",
       "      <th>max</th>\n",
       "      <td>2.362331</td>\n",
       "      <td>1.343769</td>\n",
       "      <td>16.003790</td>\n",
       "    </tr>\n",
       "    <tr>\n",
       "      <th>spread</th>\n",
       "      <td>3.770936</td>\n",
       "      <td>2.191988</td>\n",
       "      <td>28.092118</td>\n",
       "    </tr>\n",
       "  </tbody>\n",
       "</table>\n",
       "</div>"
      ],
      "text/plain": [
       "                   f0             f1             f2\n",
       "count   100000.000000  100000.000000  100000.000000\n",
       "mean         0.500419       0.250143       2.502647\n",
       "std          0.871832       0.504433       3.248248\n",
       "min         -1.408605      -0.848218     -12.088328\n",
       "25%         -0.072580      -0.200881       0.287748\n",
       "50%          0.502360       0.250252       2.515969\n",
       "75%          1.073581       0.700646       4.715088\n",
       "max          2.362331       1.343769      16.003790\n",
       "spread       3.770936       2.191988      28.092118"
      ]
     },
     "execution_count": 18,
     "metadata": {},
     "output_type": "execute_result"
    }
   ],
   "source": [
    "# Conferindo amplitude das características para a Região 0:\n",
    "# Concatenando as descrições em um único DataFrame.\n",
    "describes_r0 = pd.concat(\n",
    "    [data_0[\"f0\"].describe(), data_0[\"f1\"].describe(), data_0[\"f2\"].describe()], axis=1\n",
    ")\n",
    "\n",
    "# Calculando a amplitude e adicionando como uma nova linha.\n",
    "amplitude = describes_r0.loc[\"max\"] - describes_r0.loc[\"min\"]\n",
    "describes_r0.loc[\"spread\"] = amplitude\n",
    "\n",
    "describes_r0.columns = [\"f0\", \"f1\", \"f2\"]\n",
    "\n",
    "describes_r0"
   ]
  },
  {
   "cell_type": "markdown",
   "metadata": {},
   "source": [
    "As características da Região 0 possuem médias, quantis e amplitude bem diferentes entre si."
   ]
  },
  {
   "cell_type": "code",
   "execution_count": 19,
   "metadata": {},
   "outputs": [
    {
     "data": {
      "image/png": "[encoded data removed]",
      "text/plain": [
       "<Figure size 800x350 with 3 Axes>"
      ]
     },
     "metadata": {},
     "output_type": "display_data"
    }
   ],
   "source": [
    "# Fazendo um histograma para comparar a distribuição dos valores na Região 0.\n",
    "fig, axs = plt.subplots(1, 3, sharey=True, figsize=(8, 3.5))\n",
    "\n",
    "axs[0].hist(data_0[\"f0\"], bins=50)\n",
    "axs[0].set_title(\"f0\")\n",
    "axs[1].hist(data_0[\"f1\"], bins=50)\n",
    "axs[1].set_title(\"f1\")\n",
    "axs[2].hist(data_0[\"f2\"], bins=50)\n",
    "axs[2].set_title(\"f2\")\n",
    "fig.suptitle(\"Distribuição de características na Região 0\")\n",
    "plt.tight_layout()"
   ]
  },
  {
   "cell_type": "markdown",
   "metadata": {},
   "source": [
    "As distribuições das características da Região 0 também são variadas entre si."
   ]
  },
  {
   "cell_type": "code",
   "execution_count": 20,
   "metadata": {},
   "outputs": [
    {
     "data": {
      "text/html": [
       "<div>\n",
       "<style scoped>\n",
       "    .dataframe tbody tr th:only-of-type {\n",
       "        vertical-align: middle;\n",
       "    }\n",
       "\n",
       "    .dataframe tbody tr th {\n",
       "        vertical-align: top;\n",
       "    }\n",
       "\n",
       "    .dataframe thead th {\n",
       "        text-align: right;\n",
       "    }\n",
       "</style>\n",
       "<table border=\"1\" class=\"dataframe\">\n",
       "  <thead>\n",
       "    <tr style=\"text-align: right;\">\n",
       "      <th></th>\n",
       "      <th>f0</th>\n",
       "      <th>f1</th>\n",
       "      <th>f2</th>\n",
       "    </tr>\n",
       "  </thead>\n",
       "  <tbody>\n",
       "    <tr>\n",
       "      <th>count</th>\n",
       "      <td>100000.000000</td>\n",
       "      <td>100000.000000</td>\n",
       "      <td>100000.000000</td>\n",
       "    </tr>\n",
       "    <tr>\n",
       "      <th>mean</th>\n",
       "      <td>1.141296</td>\n",
       "      <td>-4.796579</td>\n",
       "      <td>2.494541</td>\n",
       "    </tr>\n",
       "    <tr>\n",
       "      <th>std</th>\n",
       "      <td>8.965932</td>\n",
       "      <td>5.119872</td>\n",
       "      <td>1.703572</td>\n",
       "    </tr>\n",
       "    <tr>\n",
       "      <th>min</th>\n",
       "      <td>-31.609576</td>\n",
       "      <td>-26.358598</td>\n",
       "      <td>-0.018144</td>\n",
       "    </tr>\n",
       "    <tr>\n",
       "      <th>25%</th>\n",
       "      <td>-6.298551</td>\n",
       "      <td>-8.267985</td>\n",
       "      <td>1.000021</td>\n",
       "    </tr>\n",
       "    <tr>\n",
       "      <th>50%</th>\n",
       "      <td>1.153055</td>\n",
       "      <td>-4.813172</td>\n",
       "      <td>2.011479</td>\n",
       "    </tr>\n",
       "    <tr>\n",
       "      <th>75%</th>\n",
       "      <td>8.621015</td>\n",
       "      <td>-1.332816</td>\n",
       "      <td>3.999904</td>\n",
       "    </tr>\n",
       "    <tr>\n",
       "      <th>max</th>\n",
       "      <td>29.421755</td>\n",
       "      <td>18.734063</td>\n",
       "      <td>5.019721</td>\n",
       "    </tr>\n",
       "    <tr>\n",
       "      <th>spread</th>\n",
       "      <td>61.031331</td>\n",
       "      <td>45.092661</td>\n",
       "      <td>5.037865</td>\n",
       "    </tr>\n",
       "  </tbody>\n",
       "</table>\n",
       "</div>"
      ],
      "text/plain": [
       "                   f0             f1             f2\n",
       "count   100000.000000  100000.000000  100000.000000\n",
       "mean         1.141296      -4.796579       2.494541\n",
       "std          8.965932       5.119872       1.703572\n",
       "min        -31.609576     -26.358598      -0.018144\n",
       "25%         -6.298551      -8.267985       1.000021\n",
       "50%          1.153055      -4.813172       2.011479\n",
       "75%          8.621015      -1.332816       3.999904\n",
       "max         29.421755      18.734063       5.019721\n",
       "spread      61.031331      45.092661       5.037865"
      ]
     },
     "execution_count": 20,
     "metadata": {},
     "output_type": "execute_result"
    }
   ],
   "source": [
    "# Conferindo amplitude das características para a Região 1:\n",
    "# Concatenando as descrições em um único DataFrame.\n",
    "describes_r1 = pd.concat(\n",
    "    [data_1[\"f0\"].describe(), data_1[\"f1\"].describe(), data_1[\"f2\"].describe()], axis=1\n",
    ")\n",
    "\n",
    "# Calculando a amplitude e adicionando como uma nova linha.\n",
    "amplitude = describes_r1.loc[\"max\"] - describes_r1.loc[\"min\"]\n",
    "describes_r1.loc[\"spread\"] = amplitude\n",
    "\n",
    "describes_r1.columns = [\"f0\", \"f1\", \"f2\"]\n",
    "\n",
    "describes_r1"
   ]
  },
  {
   "cell_type": "markdown",
   "metadata": {},
   "source": [
    "As características da Região 1 também possuem médias, quantis e amplitude bem diferentes entre si."
   ]
  },
  {
   "cell_type": "code",
   "execution_count": 21,
   "metadata": {},
   "outputs": [
    {
     "data": {
      "image/png": "[encoded data removed]",
      "text/plain": [
       "<Figure size 800x350 with 3 Axes>"
      ]
     },
     "metadata": {},
     "output_type": "display_data"
    }
   ],
   "source": [
    "# Fazendo um histograma para comparar a distribuição dos valores na Região 1.\n",
    "fig, axs = plt.subplots(1, 3, sharey=True, figsize=(8, 3.5))\n",
    "\n",
    "axs[0].hist(data_1[\"f0\"], bins=50)\n",
    "axs[0].set_title(\"f0\")\n",
    "axs[1].hist(data_1[\"f1\"], bins=50)\n",
    "axs[1].set_title(\"f1\")\n",
    "axs[2].hist(data_1[\"f2\"], bins=50)\n",
    "axs[2].set_title(\"f2\")\n",
    "fig.suptitle(\"Distribuição de características na Região 1\")\n",
    "plt.tight_layout()"
   ]
  },
  {
   "cell_type": "markdown",
   "metadata": {},
   "source": [
    "As distribuições das características da Região 1 também são variadas entre si."
   ]
  },
  {
   "cell_type": "code",
   "execution_count": 22,
   "metadata": {},
   "outputs": [
    {
     "data": {
      "text/html": [
       "<div>\n",
       "<style scoped>\n",
       "    .dataframe tbody tr th:only-of-type {\n",
       "        vertical-align: middle;\n",
       "    }\n",
       "\n",
       "    .dataframe tbody tr th {\n",
       "        vertical-align: top;\n",
       "    }\n",
       "\n",
       "    .dataframe thead th {\n",
       "        text-align: right;\n",
       "    }\n",
       "</style>\n",
       "<table border=\"1\" class=\"dataframe\">\n",
       "  <thead>\n",
       "    <tr style=\"text-align: right;\">\n",
       "      <th></th>\n",
       "      <th>f0</th>\n",
       "      <th>f1</th>\n",
       "      <th>f2</th>\n",
       "    </tr>\n",
       "  </thead>\n",
       "  <tbody>\n",
       "    <tr>\n",
       "      <th>count</th>\n",
       "      <td>100000.000000</td>\n",
       "      <td>100000.000000</td>\n",
       "      <td>100000.000000</td>\n",
       "    </tr>\n",
       "    <tr>\n",
       "      <th>mean</th>\n",
       "      <td>0.002023</td>\n",
       "      <td>-0.002081</td>\n",
       "      <td>2.495128</td>\n",
       "    </tr>\n",
       "    <tr>\n",
       "      <th>std</th>\n",
       "      <td>1.732045</td>\n",
       "      <td>1.730417</td>\n",
       "      <td>3.473445</td>\n",
       "    </tr>\n",
       "    <tr>\n",
       "      <th>min</th>\n",
       "      <td>-8.760004</td>\n",
       "      <td>-7.084020</td>\n",
       "      <td>-11.970335</td>\n",
       "    </tr>\n",
       "    <tr>\n",
       "      <th>25%</th>\n",
       "      <td>-1.162288</td>\n",
       "      <td>-1.174820</td>\n",
       "      <td>0.130359</td>\n",
       "    </tr>\n",
       "    <tr>\n",
       "      <th>50%</th>\n",
       "      <td>0.009424</td>\n",
       "      <td>-0.009482</td>\n",
       "      <td>2.484236</td>\n",
       "    </tr>\n",
       "    <tr>\n",
       "      <th>75%</th>\n",
       "      <td>1.158535</td>\n",
       "      <td>1.163678</td>\n",
       "      <td>4.858794</td>\n",
       "    </tr>\n",
       "    <tr>\n",
       "      <th>max</th>\n",
       "      <td>7.238262</td>\n",
       "      <td>7.844801</td>\n",
       "      <td>16.739402</td>\n",
       "    </tr>\n",
       "    <tr>\n",
       "      <th>spread</th>\n",
       "      <td>15.998266</td>\n",
       "      <td>14.928821</td>\n",
       "      <td>28.709737</td>\n",
       "    </tr>\n",
       "  </tbody>\n",
       "</table>\n",
       "</div>"
      ],
      "text/plain": [
       "                   f0             f1             f2\n",
       "count   100000.000000  100000.000000  100000.000000\n",
       "mean         0.002023      -0.002081       2.495128\n",
       "std          1.732045       1.730417       3.473445\n",
       "min         -8.760004      -7.084020     -11.970335\n",
       "25%         -1.162288      -1.174820       0.130359\n",
       "50%          0.009424      -0.009482       2.484236\n",
       "75%          1.158535       1.163678       4.858794\n",
       "max          7.238262       7.844801      16.739402\n",
       "spread      15.998266      14.928821      28.709737"
      ]
     },
     "execution_count": 22,
     "metadata": {},
     "output_type": "execute_result"
    }
   ],
   "source": [
    "# Conferindo amplitude das características para a Região 2:\n",
    "# Concatenando as descrições em um único DataFrame.\n",
    "describes_r2 = pd.concat(\n",
    "    [data_2[\"f0\"].describe(), data_2[\"f1\"].describe(), data_2[\"f2\"].describe()], axis=1\n",
    ")\n",
    "\n",
    "# Calculando a amplitude e adicionando como uma nova linha.\n",
    "amplitude = describes_r2.loc[\"max\"] - describes_r2.loc[\"min\"]\n",
    "describes_r2.loc[\"spread\"] = amplitude\n",
    "\n",
    "describes_r2.columns = [\"f0\", \"f1\", \"f2\"]\n",
    "\n",
    "describes_r2"
   ]
  },
  {
   "cell_type": "markdown",
   "metadata": {},
   "source": [
    "As características da Região 2 também possuem médias, quantis e amplitude diferentes entre si, porém em escalas parecidas _(os valores de 'f2' são aproximadamente o dobro dos de 'f1' e 'f0')_."
   ]
  },
  {
   "cell_type": "code",
   "execution_count": 23,
   "metadata": {},
   "outputs": [
    {
     "data": {
      "image/png": "[encoded data removed]",
      "text/plain": [
       "<Figure size 800x350 with 3 Axes>"
      ]
     },
     "metadata": {},
     "output_type": "display_data"
    }
   ],
   "source": [
    "# Fazendo um histograma para comparar a distribuição dos valores na Região 2.\n",
    "fig, axs = plt.subplots(1, 3, sharey=True, figsize=(8, 3.5))\n",
    "\n",
    "axs[0].hist(data_2[\"f0\"], bins=50)\n",
    "axs[0].set_title(\"f0\")\n",
    "axs[1].hist(data_2[\"f1\"], bins=50)\n",
    "axs[1].set_title(\"f1\")\n",
    "axs[2].hist(data_2[\"f2\"], bins=50)\n",
    "axs[2].set_title(\"f2\")\n",
    "fig.suptitle(\"Distribuição de características na Região 2\")\n",
    "plt.tight_layout()"
   ]
  },
  {
   "cell_type": "markdown",
   "metadata": {},
   "source": [
    "<div class=\"alert alert-block alert-warning\">\n",
    "<b> Comentário do revisor: </b> <a class=\"tocSkip\"></a>\n",
    "\n",
    "- Os conjuntos de dados foram carregados corretamente\n",
    "- Os métodos `head()` e `info()` foram utilizados para estudo inicial dos dados\n",
    "- O método `describe()` foi utilizado para calcular as estatísticas descritivas dos atributos. Aqui você poderia plotar as distribuições diretamente usando histogramas ou gráficos de caixa (boxplots)\n",
    "- Os dados duplicados e valores ausentes foram estudados\n",
    "- **Sugestão:** você poderia executar os comandos acima em células separadas para isolar a execução do código\n",
    "</div>"
   ]
  },
  {
   "cell_type": "markdown",
   "metadata": {},
   "source": [
    "Na Região 2 todas as características estão em distribuição Normal e facilmente escalonáveis com menor risco de distorções no processo.\n",
    "\n",
    "## Preparando os dados\n",
    "\n",
    "### Excluindo completamente a coluna 'id'\n",
    "\n",
    "Será necessário excluir a coluna 'id' para utilização do modelo de Regressão Linear por conter dados em formato de _string_."
   ]
  },
  {
   "cell_type": "code",
   "execution_count": 24,
   "metadata": {},
   "outputs": [],
   "source": [
    "# Excluindo a coluna 'id' para todos os dataframes.\n",
    "data_0 = data_0.drop(\"id\", axis=1)\n",
    "data_1 = data_1.drop(\"id\", axis=1)\n",
    "data_2 = data_2.drop(\"id\", axis=1)"
   ]
  },
  {
   "cell_type": "markdown",
   "metadata": {},
   "source": [
    "### <s>Dividindo os dados<s>\n",
    "\n",
    "Divirei os dados somente em conjuntos de Treinamento e de Validação, na proporção _75:25_."
   ]
  },
  {
   "cell_type": "code",
   "execution_count": 25,
   "metadata": {},
   "outputs": [],
   "source": [
    "# Divindo o DataFrame 'data_0' em conjuntos de teste e de validação.\n",
    "# train_0, valid_0 = train_test_split(data_0, test_size=0.25, random_state=123)"
   ]
  },
  {
   "cell_type": "markdown",
   "metadata": {},
   "source": [
    "### <s>Criando variáveis 'features' e 'target'<s>"
   ]
  },
  {
   "cell_type": "code",
   "execution_count": 26,
   "metadata": {},
   "outputs": [],
   "source": [
    "# Conjunto de treinamento.\n",
    "# features_train_0 = train_0.drop([\"product\"], axis=1)\n",
    "# target_train_0 = train_0[\"product\"]"
   ]
  },
  {
   "cell_type": "code",
   "execution_count": 27,
   "metadata": {},
   "outputs": [],
   "source": [
    "# Conjunto de validação.\n",
    "# features_valid_0 = valid_0.drop([\"product\"], axis=1)\n",
    "# target_valid_0 = valid_0[\"product\"]"
   ]
  },
  {
   "cell_type": "code",
   "execution_count": 79,
   "metadata": {},
   "outputs": [],
   "source": [
    "# Função para dividir os dados e criar variáveis 'features' e 'target'\n",
    "# def div_features_target(data, target_column=str):\n",
    "    # train, valid = train_test_split(data, test_size=0.25, random_state=2)\n",
    "    # features_train = train.drop([target_column], axis=1)\n",
    "    # target_train = train[target_column]\n",
    "    # features_valid = valid.drop([target_column], axis=1)\n",
    "    # target_valid = valid[target_column]\n",
    "\n",
    "    # return features_train, target_train, features_valid, target_valid"
   ]
  },
  {
   "cell_type": "markdown",
   "metadata": {},
   "source": [
    "### Escalando as características\n",
    "\n",
    "Considerando que nem as regiões nem as características possuem padrões na distribuição dos dados, usarei RobustScaler."
   ]
  },
  {
   "cell_type": "code",
   "execution_count": 29,
   "metadata": {},
   "outputs": [],
   "source": [
    "# Criando scaler.\n",
    "# scaler = RobustScaler()\n",
    "# scaler.fit(features_train_0)"
   ]
  },
  {
   "cell_type": "code",
   "execution_count": 30,
   "metadata": {},
   "outputs": [],
   "source": [
    "# Aplicando transformações no restante dos dados.\n",
    "# features_train_0 = scaler.transform(features_train_0)\n",
    "# features_valid_0 = scaler.transform(features_valid_0)"
   ]
  },
  {
   "cell_type": "code",
   "execution_count": 31,
   "metadata": {},
   "outputs": [],
   "source": [
    "# Criando função para escalar as características\n",
    "def scaler(features_train, features_valid):\n",
    "    scaler = RobustScaler()\n",
    "    scaler.fit(features_train)\n",
    "    features_train_scaled = scaler.transform(features_train)\n",
    "    features_valid_scaled = scaler.transform(features_valid)\n",
    "    features_train_scaled = pd.DataFrame(\n",
    "        features_train_scaled, index=features_train.index\n",
    "    )\n",
    "    features_valid_scaled = pd.DataFrame(\n",
    "        features_valid_scaled, index=features_valid.index\n",
    "    )\n",
    "\n",
    "    return features_train_scaled, features_valid_scaled"
   ]
  },
  {
   "cell_type": "markdown",
   "metadata": {},
   "source": [
    "## <s>Treinando o modelo"
   ]
  },
  {
   "cell_type": "code",
   "execution_count": 32,
   "metadata": {},
   "outputs": [],
   "source": [
    "# Treinando modelo de Regressão Linear\n",
    "# model_0 = LinearRegression()\n",
    "# model_0.fit(features_train_0, target_train_0)"
   ]
  },
  {
   "cell_type": "code",
   "execution_count": 33,
   "metadata": {},
   "outputs": [],
   "source": [
    "# Predições para o conjunto de validação.\n",
    "# predict_valid_0 = model_0.predict(features_valid_0)"
   ]
  },
  {
   "cell_type": "code",
   "execution_count": 34,
   "metadata": {},
   "outputs": [],
   "source": [
    "# Volume médio previsto das reservas do conjunto de validação.\n",
    "# mean_predict_val_0 = predict_valid_0.mean()\n",
    "# REQM do modelo.\n",
    "# reqm = mean_squared_error(target_valid_0, predict_valid_0) ** 0.5\n",
    "\n",
    "# print('Volume médio previsto das reservas:', mean_predict_val_0)\n",
    "# print('Volume médio real da reservas:', target_valid_0.mean())\n",
    "# print('REQM do modelo:', reqm)\n",
    "# print()\n",
    "# print('Conferindo distribuição dos resultados:')\n",
    "# print()\n",
    "# print(pd.Series(predict_valid_0).describe())"
   ]
  },
  {
   "cell_type": "code",
   "execution_count": 80,
   "metadata": {},
   "outputs": [],
   "source": [
    "# Criando função para criação completa dos modelos\n",
    "# def train_models0(data, target_column=str):\n",
    "    # features_train, target_train, features_valid, target_valid = div_features_target(\n",
    "        # data, target_column\n",
    "    # )\n",
    "    # features_train_scaled, features_valid_scaled = scaler(\n",
    "        # features_train, features_valid\n",
    "    # )\n",
    "    # Treinando modelo\n",
    "    # model = LinearRegression()\n",
    "    # model.fit(features_train_scaled, target_train)\n",
    "    # predict_valid = model.predict(features_valid_scaled)\n",
    "    # predict_valid = pd.Series(predict_valid, index=features_valid_scaled.index)\n",
    "    # Avaliando performance\n",
    "    # mean_pred_val = predict_valid.mean()\n",
    "    # reqm = mean_squared_error(target_valid, predict_valid) ** 0.5\n",
    "\n",
    "    # print(\"Volume médio previsto das reservas:\", mean_pred_val)\n",
    "    # print(\"Volume médio real da reservas:\", target_valid.mean())\n",
    "    # print(\"REQM do modelo:\", reqm)\n",
    "    # print()\n",
    "    # print(\"Conferindo distribuição dos resultados:\")\n",
    "    # print()\n",
    "    # print(pd.Series(predict_valid).describe())\n",
    "\n",
    "    # return model, predict_valid, target_valid"
   ]
  },
  {
   "cell_type": "code",
   "execution_count": 81,
   "metadata": {},
   "outputs": [],
   "source": [
    "# Criando modelo para data_0\n",
    "# model0, predict_valid0, target_valid0 = train_models0(data_0, \"product\")"
   ]
  },
  {
   "cell_type": "markdown",
   "metadata": {},
   "source": [
    "<s>A previsão média do modelo está bem próxima da real, porém o REQM está com um valor considerável, mais de 37% de erro, porém há predições com valor negativo e sabemos que não existem poços com volume negativo de produto. Vou ajustar o valor das predições para mínimo igual a 0 para tentar otimizar os resultados."
   ]
  },
  {
   "cell_type": "code",
   "execution_count": 37,
   "metadata": {},
   "outputs": [],
   "source": [
    "# Ajustando o valor das predições para mínimo = 0\n",
    "# predict_valid_0 = np.where(predict_valid_0 < 0, 0, predict_valid_0)"
   ]
  },
  {
   "cell_type": "code",
   "execution_count": 38,
   "metadata": {},
   "outputs": [],
   "source": [
    "# Ajustando função train_models para o valor mínimo das predições ser zero\n",
    "# def train_models(data, target_column=str):\n",
    "    # features_train, target_train, features_valid, target_valid = div_features_target(\n",
    "        # data, target_column\n",
    "    # )\n",
    "    # features_train_scaled, features_valid_scaled = scaler(\n",
    "        # features_train, features_valid\n",
    "    # )\n",
    "    # Treinando modelo\n",
    "    # model = LinearRegression()\n",
    "    # model.fit(features_train_scaled, target_train)\n",
    "    # predict_valid = model.predict(features_valid_scaled)\n",
    "    # predict_valid = np.where(predict_valid < 0, 0, predict_valid)\n",
    "    # predict_valid = pd.Series(predict_valid, index=features_valid_scaled.index)\n",
    "    # Avaliando performance\n",
    "    # mean_pred_val = predict_valid.mean()\n",
    "    # reqm = mean_squared_error(target_valid, predict_valid) ** 0.5\n",
    "\n",
    "    # print(\"Volume médio previsto das reservas:\", mean_pred_val)\n",
    "    # print(\"Volume médio real da reservas:\", target_valid.mean())\n",
    "    # print(\"REQM do modelo:\", reqm)\n",
    "    # print()\n",
    "    # print(\"Conferindo distribuição dos resultados:\")\n",
    "    # print()\n",
    "    # print(pd.Series(predict_valid).describe())\n",
    "\n",
    "    # return model, predict_valid, target_valid"
   ]
  },
  {
   "cell_type": "code",
   "execution_count": 39,
   "metadata": {},
   "outputs": [],
   "source": [
    "# Volume médio previsto das reservas do conjunto de validação pós Transformação Logarítmica\n",
    "# mean_predict_val_0 = predict_valid_0.mean()\n",
    "# REQM do modelo.\n",
    "# reqm = mean_squared_error(target_valid_0, predict_valid_0) ** 0.5\n",
    "\n",
    "# print(\"Volume médio previsto das reservas:\", mean_predict_val_0)\n",
    "# print(\"Volume médio real da reservas:\", target_valid_0.mean())\n",
    "# print(\"REQM do modelo:\", reqm)\n",
    "# print()\n",
    "# print(\"Conferindo distribuição dos resultados:\")\n",
    "# print()\n",
    "# print(pd.Series(predict_valid_0).describe())"
   ]
  },
  {
   "cell_type": "code",
   "execution_count": 82,
   "metadata": {},
   "outputs": [],
   "source": [
    "# Aplicando função ajustada\n",
    "# model_0, predict_valid_0, target_valid_0 = train_models(data_0, \"product\")"
   ]
  },
  {
   "cell_type": "markdown",
   "metadata": {},
   "source": [
    "<div class=\"alert alert-block alert-danger\">\n",
    "<b> Comentário do revisor: </b> <a class=\"tocSkip\"></a>\n",
    "\n",
    "<s>\n",
    "    \n",
    "Aqui nessa etapa precisamos fazer um pequeno ajuste:\n",
    "    \n",
    "- [x] A coluna `id` precisa ser removida dos dados\n",
    "- [x] Os conjuntos de dados foram divididos em treino e validação\n",
    "- [x] A proporção de 75%/25% foi executada corretamente\n",
    "- [x] Um modelo foi treinado para cada região\n",
    "- [x] O valor médio de reservas foi previsto\n",
    "- [x] A métrica REQM foi calculada para cada região\n",
    "- [x] Regressão linear foi utilizada\n",
    "    \n",
    "<br>\n",
    "    \n",
    "- Entretanto, aqui você poderia criar uma função para executar a etapa acima e evitar repetição de código. Você poderia, por exemplo, criar uma função chamada `train_models(..)` que recebe os dados de cada região, treina o modelo e retorna o resultado da avaliação de performance\n",
    "</s>\n",
    "</div>"
   ]
  },
  {
   "cell_type": "markdown",
   "metadata": {},
   "source": [
    "<s>A evolução no desempenho do modelo foi mínima, seus efeitos podem ser maiores nos cálculos de lucro.\n",
    "\n",
    "## Automatizando o processo"
   ]
  },
  {
   "cell_type": "code",
   "execution_count": 41,
   "metadata": {},
   "outputs": [],
   "source": [
    "# def make_model(data):\n",
    "# Dividindo os dados.\n",
    "# train, valid = train_test_split(data, test_size=0.25, random_state=123)\n",
    "\n",
    "# Definindo features e target\n",
    "# features_train = train.drop([\"product\"], axis=1)\n",
    "# target_train = train[\"product\"]\n",
    "\n",
    "# features_valid = valid.drop([\"product\"], axis=1)\n",
    "# target_valid = valid[\"product\"]\n",
    "\n",
    "# Escalando os dados\n",
    "# scaler = RobustScaler()\n",
    "# scaler.fit(features_train)\n",
    "\n",
    "# features_train = scaler.transform(features_train)\n",
    "# features_valid = scaler.transform(features_valid)\n",
    "\n",
    "# Treinando o modelo\n",
    "# model_a = LinearRegression()\n",
    "# model_a.fit(features_train, target_train)\n",
    "\n",
    "# Calculando métricas\n",
    "# predict_valid = model_a.predict(features_valid)\n",
    "\n",
    "# Ajustando o valor das predições para mínimo = 0\n",
    "# predict_valid = np.where(predict_valid < 0, 0, predict_valid)\n",
    "# mean_predict = predict_valid.mean()\n",
    "# reqm = mean_squared_error(target_valid, predict_valid) ** 0.5\n",
    "\n",
    "# print(\"Volume médio previsto das reservas:\", mean_predict)\n",
    "# print(\"Volume médio real das reservas:\", target_valid.mean())\n",
    "# print(\"REQM do modelo:\", reqm)\n",
    "# print()\n",
    "# print(\"Conferindo distribuição dos resultados:\")\n",
    "# print()\n",
    "# print(pd.Series(predict_valid_0).describe())\n",
    "\n",
    "# return (\n",
    "# model_a,\n",
    "# predict_valid,\n",
    "# mean_predict,\n",
    "# reqm,\n",
    "# features_train,\n",
    "# features_valid,\n",
    "# target_train,\n",
    "# target_valid,\n",
    "# )"
   ]
  },
  {
   "cell_type": "code",
   "execution_count": 91,
   "metadata": {},
   "outputs": [],
   "source": [
    "# Função para dividir os dados e criar modelos\n",
    "def train_and_evaluate_models(data):\n",
    "    # Criando variáveis features e target\n",
    "    features = data.drop(columns=['product'], axis=1)\n",
    "    target = data['product']\n",
    "    \n",
    "    # Dividindo os conjuntos de teste e validação\n",
    "    features_train, features_valid, target_train, target_valid = train_test_split(\n",
    "        features, target, test_size=0.25\n",
    "    )\n",
    "    \n",
    "    # Escalando as características\n",
    "    features_train_scaled, features_valid_scaled = scaler(\n",
    "        features_train, features_valid\n",
    "    )\n",
    "    \n",
    "    # Treinando modelo\n",
    "    model = LinearRegression()\n",
    "    model.fit(features_train_scaled, target_train)\n",
    "    predictions = model.predict(features_valid_scaled)\n",
    "    \n",
    "    # Avaliando performance\n",
    "    metrics['mean_predictions'] = predictions.mean()\n",
    "    metrics['reqm'] = mean_squared_error(target_valid, predictions, squared=False)\n",
    "\n",
    "    output = pd.DataFrame(dict(predicted_value=predictions, real_value=target_valid))\n",
    "    return output"
   ]
  },
  {
   "cell_type": "markdown",
   "metadata": {},
   "source": [
    "<div class=\"alert alert-block alert-warning\">\n",
    "<b> Comentário do revisor: </b> <a class=\"tocSkip\"></a>\n",
    "\n",
    "Você poderia ter usado essa função diretamente, sem precisar executar as etapas anteriores isoladamente.\n",
    "\n",
    "</div>"
   ]
  },
  {
   "cell_type": "markdown",
   "metadata": {},
   "source": [
    "### <s>Aplicando a função para a Região 1"
   ]
  },
  {
   "cell_type": "code",
   "execution_count": 42,
   "metadata": {},
   "outputs": [],
   "source": [
    "# (   model_1,\n",
    "# predict_valid_1,\n",
    "# mean_predict_1,\n",
    "# reqm_1,\n",
    "# features_train_1,\n",
    "# features_valid_1,\n",
    "# target_train_1,\n",
    "# target_valid_1,\n",
    "# ) = make_model(data_1)"
   ]
  },
  {
   "cell_type": "code",
   "execution_count": 84,
   "metadata": {},
   "outputs": [],
   "source": [
    "# model_1, predict_valid_1, target_valid_1 = train_models(data_1, \"product\")"
   ]
  },
  {
   "cell_type": "markdown",
   "metadata": {},
   "source": [
    "<s>Apesar do volume médio das reservas da Região 1 ser inferior o modelo performou significativamente melhor, REQM menor do que 1!\n",
    "\n",
    "### <s>Aplicando a função para a Região 2"
   ]
  },
  {
   "cell_type": "code",
   "execution_count": 44,
   "metadata": {},
   "outputs": [],
   "source": [
    "# (\n",
    "# model_2,\n",
    "\n",
    "\n",
    "# predict_valid_2,\n",
    "# mean_predict_2,\n",
    "# reqm_2,\n",
    "\n",
    "\n",
    "# features_train_2,\n",
    "# features_valid_2,\n",
    "# target_train_2,\n",
    "\n",
    "\n",
    "# target_valid_2,\n",
    "# ) = make_model(data_2)"
   ]
  },
  {
   "cell_type": "code",
   "execution_count": 85,
   "metadata": {},
   "outputs": [],
   "source": [
    "# model_2, predict_valid_2, target_valid_2 = train_models(data_2, \"product\")"
   ]
  },
  {
   "cell_type": "markdown",
   "metadata": {},
   "source": [
    "<s>O modelo com os dados da Região 2 foi o de pior performance, mas ainda prevê bem a média das reservas.\n",
    "\n",
    "### Aplicando a função para todas as regiões"
   ]
  },
  {
   "cell_type": "code",
   "execution_count": 92,
   "metadata": {},
   "outputs": [],
   "source": [
    "# Treinando os modelos para as 3 regiões estudadas\n",
    "regions = ['region_0', 'region_1', 'region_2']\n",
    "datas = [data_0, data_1, data_2]\n",
    "predict_region = {}\n",
    "metrics_region = {}\n",
    "\n",
    "for data, region in zip(datas, regions):\n",
    "    metrics = {}\n",
    "    predict_region[region] = train_and_evaluate_models(data)\n",
    "    metrics_region[region] = metrics"
   ]
  },
  {
   "cell_type": "code",
   "execution_count": 100,
   "metadata": {},
   "outputs": [
    {
     "name": "stdout",
     "output_type": "stream",
     "text": [
      "Região 0:\n",
      "Volume médio previsto de reservas: 92.1949750153289\n",
      "REQM do modelo: 37.56621030339247\n"
     ]
    }
   ],
   "source": [
    "print('Região 0:')\n",
    "print('Volume médio previsto de reservas:', metrics_region['region_0']['mean_predictions'])\n",
    "print('REQM do modelo:', metrics_region['region_0']['reqm'])"
   ]
  },
  {
   "cell_type": "markdown",
   "metadata": {},
   "source": [
    "A previsão média do modelo está bem próxima da real, porém o REQM está com um valor considerável, mais de 37% de erro, porém há predições com valor negativo e sabemos que não existem poços com volume negativo de produto. Vou ajustar o valor das predições para mínimo igual a 0 para tentar otimizar os resultados."
   ]
  },
  {
   "cell_type": "code",
   "execution_count": 101,
   "metadata": {},
   "outputs": [
    {
     "name": "stdout",
     "output_type": "stream",
     "text": [
      "Região 1:\n",
      "Volume médio previsto de reservas: 68.57679550154835\n",
      "REQM do modelo: 0.8884005137809585\n"
     ]
    }
   ],
   "source": [
    "print('Região 1:')\n",
    "print('Volume médio previsto de reservas:', metrics_region['region_1']['mean_predictions'])\n",
    "print('REQM do modelo:', metrics_region['region_1']['reqm'])"
   ]
  },
  {
   "cell_type": "markdown",
   "metadata": {},
   "source": [
    "Apesar do volume médio das reservas da Região 1 ser inferior o modelo performou significativamente melhor, REQM menor do que 1!"
   ]
  },
  {
   "cell_type": "code",
   "execution_count": 102,
   "metadata": {},
   "outputs": [
    {
     "name": "stdout",
     "output_type": "stream",
     "text": [
      "Região 2:\n",
      "Volume médio previsto de reservas: 94.8801651169955\n",
      "REQM do modelo: 40.12052966681169\n"
     ]
    }
   ],
   "source": [
    "print('Região 2:')\n",
    "print('Volume médio previsto de reservas:', metrics_region['region_2']['mean_predictions'])\n",
    "print('REQM do modelo:', metrics_region['region_2']['reqm'])"
   ]
  },
  {
   "cell_type": "markdown",
   "metadata": {},
   "source": [
    "O modelo com os dados da Região 2 foi o de pior performance, mas ainda prevê bem a média das reservas.\n",
    "\n",
    "## Calculando o lucro\n",
    "\n",
    "### Preparando os dados"
   ]
  },
  {
   "cell_type": "code",
   "execution_count": 46,
   "metadata": {},
   "outputs": [],
   "source": [
    "rev_per_unit = 4500  # Retorno em dólares de cada unidade de produto comercializada.\n",
    "points = 200  # Quantidade de poços a ser explorada.\n",
    "cost = 100_000_000  # Custo a ser superado pelo retorno.\n",
    "min_product = (\n",
    "    cost / points / rev_per_unit\n",
    ")  # Quantidade mínima de produto que cada poço de petróleo precisa produzir para não haver prejuízo nem lucro."
   ]
  },
  {
   "cell_type": "code",
   "execution_count": 103,
   "metadata": {},
   "outputs": [],
   "source": [
    "# Criando função para cálculo dos lucros por região\n",
    "# def calc_profit(target, prediction, points, rev_per_unit, cost):\n",
    "    # sorted = pd.Series(prediction).sort_values(ascending=False)\n",
    "    # best_wells = target.iloc[sorted.index].head(points)\n",
    "    # total_volume = best_wells[\"product\"].sum()\n",
    "    # potential_profit = (total_volume * rev_per_unit) - cost\n",
    "\n",
    "    # return potential_profit, best_wells, total_volume"
   ]
  },
  {
   "cell_type": "code",
   "execution_count": 48,
   "metadata": {},
   "outputs": [],
   "source": [
    "# product_value = 4500  # Retorno em dólares de cada unidade de produto comercializada.\n",
    "# points = 200  # Quantidade de poços a ser explorada.\n",
    "# investment = 100_000_000  # Investimento a ser superado pelo retorno.\n",
    "# min_product = (\n",
    "# investment / points / product_value\n",
    "# )  # Quantidade mínima de produto que cada poço de petróleo precisa produzir para não haver prejuízo nem lucro."
   ]
  },
  {
   "cell_type": "code",
   "execution_count": 105,
   "metadata": {},
   "outputs": [
    {
     "name": "stdout",
     "output_type": "stream",
     "text": [
      "Volume mínimo de produto em cada poço para não haver prejuízo: 111.11111111111111\n",
      "Volume médio de produto previsto para a Região 0: 92.1949750153289\n",
      "Volume médio de produto previsto para a Região 1: 68.57679550154835\n",
      "Volume médio de produto previsto para a Região 2: 94.8801651169955\n"
     ]
    }
   ],
   "source": [
    "# mean_0 = predict_valid_0.mean()  # Volume médio previsto de petróleo para a Região 0.\n",
    "# mean_1 = predict_valid_1.mean()  # Volume médio previsto de petróleo para a Região 1.\n",
    "# mean_2 = predict_valid_2.mean()  # Volume médio previsto de petróleo para a Região 2.\n",
    "\n",
    "print(\"Volume mínimo de produto em cada poço para não haver prejuízo:\", min_product)\n",
    "print(\"Volume médio de produto previsto para a Região 0:\", metrics_region['region_0']['mean_predictions'])\n",
    "print(\"Volume médio de produto previsto para a Região 1:\", metrics_region['region_1']['mean_predictions'])\n",
    "print(\"Volume médio de produto previsto para a Região 2:\", metrics_region['region_2']['mean_predictions'])"
   ]
  },
  {
   "cell_type": "markdown",
   "metadata": {},
   "source": [
    "Nenhuma das regiões possui volume médio de produto suficiente para compensar o investimento, porém cada uma das regiões possui 100 mil poços cadastrados e a quantidade de poços a ser explorada, inicialmente é de 200. É possível que os 200 melhores poços atendam os critérios de investimento.\n",
    "\n",
    "### Prevendo os 200 melhores poços de cada região"
   ]
  },
  {
   "cell_type": "code",
   "execution_count": 50,
   "metadata": {},
   "outputs": [],
   "source": [
    "# best_0 = pd.Series(predict_valid_0).sort_values(ascending=False)[:points]  # Região 0;\n",
    "# best_1 = pd.Series(predict_valid_1).sort_values(ascending=False)[:points]  # Região 1;\n",
    "# best_2 = pd.Series(predict_valid_2).sort_values(ascending=False)[:points]  # Região 2."
   ]
  },
  {
   "cell_type": "code",
   "execution_count": 106,
   "metadata": {},
   "outputs": [],
   "source": [
    "# Região 0\n",
    "# potential_profit_0, best_wells_0, total_volume_0 = calc_profit(\n",
    "    # data_0, predict_valid_0, points, rev_per_unit, cost\n",
    "# )\n",
    "# Região 1\n",
    "# potential_profit_1, best_wells_1, total_volume_1 = calc_profit(\n",
    "    # data_1, predict_valid_1, points, rev_per_unit, cost\n",
    "# )\n",
    "# Região 2\n",
    "# potential_profit_2, best_wells_2, total_volume_2 = calc_profit(\n",
    "    # data_2, predict_valid_2, points, rev_per_unit, cost\n",
    "# )"
   ]
  },
  {
   "cell_type": "code",
   "execution_count": 124,
   "metadata": {},
   "outputs": [],
   "source": [
    "total_volume_0 = predict_region['region_0'].sort_values(by='predicted_value', ascending=False)['real_value'].head(200).sum()\n",
    "total_volume_1 = predict_region['region_1'].sort_values(by='predicted_value', ascending=False)['real_value'].head(200).sum()\n",
    "total_volume_2 = predict_region['region_2'].sort_values(by='predicted_value', ascending=False)['real_value'].head(200).sum()"
   ]
  },
  {
   "cell_type": "code",
   "execution_count": 125,
   "metadata": {},
   "outputs": [
    {
     "name": "stdout",
     "output_type": "stream",
     "text": [
      "Volume mínimo de produto em cada região para não haver prejuízo: 22222.222222222223\n",
      "Total de produto previsto nos 200 melhores poços da Região 0: 29208.396750012602\n",
      "Total de produto previsto nos 200 melhores poços da Região 1: 27589.081548181137\n",
      "Total de produto previsto nos 200 melhores poços da Região 2: 27537.596209211264\n"
     ]
    }
   ],
   "source": [
    "# total_0 = target_valid_0.iloc[best_0.index].sum()  # Região 0;\n",
    "# total_1 = target_valid_1.iloc[best_1.index].sum()  # Região 1;\n",
    "# total_2 = target_valid_2.iloc[best_2.index].sum()  # Região 2.\n",
    "\n",
    "min_region = min_product * points\n",
    "\n",
    "print(\"Volume mínimo de produto em cada região para não haver prejuízo:\", min_region)\n",
    "print(\"Total de produto previsto nos 200 melhores poços da Região 0:\", total_volume_0)\n",
    "print(\"Total de produto previsto nos 200 melhores poços da Região 1:\", total_volume_1)\n",
    "print(\"Total de produto previsto nos 200 melhores poços da Região 2:\", total_volume_2)"
   ]
  },
  {
   "cell_type": "markdown",
   "metadata": {},
   "source": [
    "### Calculando o lucro potencial para cada região"
   ]
  },
  {
   "cell_type": "code",
   "execution_count": 53,
   "metadata": {},
   "outputs": [],
   "source": [
    "# Função para calcular o lucro.\n",
    "# def profit(target, probabilities, points, value, investment):\n",
    "# best = pd.Series(probabilities).sort_values(ascending=False)  # Predições ordenadas.\n",
    "# selected = target.iloc[best.index][:points]  # Melhores alvos filtrados.\n",
    "# revenue = value * selected  # Retorno de cada predição em dólares.\n",
    "# profit = revenue.sum() - investment  # Lucro gerado pela da exploração da região.\n",
    "# return selected, revenue, profit"
   ]
  },
  {
   "cell_type": "code",
   "execution_count": 104,
   "metadata": {},
   "outputs": [],
   "source": [
    "# Criando função para cálculo dos lucros por região\n",
    "def calc_profit(predict_region):\n",
    "    best_wells = predict_region.sort_values(\n",
    "        by='predicted_value',\n",
    "        ascending=False\n",
    "        )['real_value'].head(200)\n",
    "    total_volume = best_wells.sum()\n",
    "    potential_profit = (total_volume * rev_per_unit) - cost\n",
    "\n",
    "    return potential_profit"
   ]
  },
  {
   "cell_type": "code",
   "execution_count": 122,
   "metadata": {},
   "outputs": [],
   "source": [
    "# Calculando lucro potencial para os 200 melhores poços de cada região\n",
    "potential_profit_0 = calc_profit(predict_region['region_0'])\n",
    "potential_profit_1 = calc_profit(predict_region['region_1'])\n",
    "potential_profit_2 = calc_profit(predict_region['region_2'])"
   ]
  },
  {
   "cell_type": "code",
   "execution_count": 126,
   "metadata": {},
   "outputs": [
    {
     "name": "stdout",
     "output_type": "stream",
     "text": [
      "Lucro potencial da Região 0: 31437785.375056714\n",
      "Lucro potencial da Região 1: 24150866.966815114\n",
      "Lucro potencial da Região 2: 23919182.941450685\n"
     ]
    }
   ],
   "source": [
    "# Lucros potenciais de cada região a explorar.\n",
    "# selected_0, revenue_0, profit_0 = profit(\n",
    "# target_valid_0, predict_valid_0, points, product_value, investment\n",
    "# )\n",
    "# selected_1, revenue_1, profit_1 = profit(\n",
    "# target_valid_1, predict_valid_1, points, product_value, investment\n",
    "# )\n",
    "# selected_2, revenue_2, profit_2 = profit(\n",
    "# target_valid_2, predict_valid_2, points, product_value, investment\n",
    "# )\n",
    "print(\"Lucro potencial da Região 0:\", potential_profit_0)\n",
    "print(\"Lucro potencial da Região 1:\", potential_profit_1)\n",
    "print(\"Lucro potencial da Região 2:\", potential_profit_2)"
   ]
  },
  {
   "cell_type": "markdown",
   "metadata": {},
   "source": [
    "Seguindo as predições dos modelos de Regressão Linear, sugiro o desenvolvimento de poços de petróleo na Região 0, pois é o com maior lucro potencial, apesar de todas as regiões terem potencial de produzirem altos lucro, a previsão de lucro para a Região 0 é *46%* maior que nas outras duas regiões estudadas *(cerca de 31.437.785 dólares)*.\n",
    "\n",
    "## Cálculo de Riscos vs Lucro\n",
    "\n",
    "### <s>Região 0"
   ]
  },
  {
   "cell_type": "code",
   "execution_count": 129,
   "metadata": {},
   "outputs": [],
   "source": [
    "# Bootstrap com função de cálculo de receita.\n",
    "def bootstrap_profit(\n",
    "    predictions,\n",
    "    total_samples=1000,\n",
    "    sample_size=500\n",
    "):\n",
    "    profits = []\n",
    "    for _ in range(total_samples):\n",
    "        # Criando amostras\n",
    "        subsample = predictions.sample(\n",
    "            n=sample_size, random_state=state, replace=True\n",
    "        )\n",
    "        # Calculando lucro potencial de cada amostra\n",
    "        potential_profit = calc_profit(subsample)\n",
    "        profits.append(potential_profit)\n",
    "    return pd.Series(profits)"
   ]
  },
  {
   "cell_type": "code",
   "execution_count": 216,
   "metadata": {},
   "outputs": [],
   "source": [
    "# Gerando intervalo de confiança de 95%\n",
    "def confidence_interval(profits, total_samples=1000):\n",
    "    lowers = []\n",
    "    uppers = []\n",
    "    for _ in range(total_samples):\n",
    "        # Criando 1000 amostras dos menores e maiores quantis\n",
    "        subsample = profits.sample(frac=1, random_state=state, replace=True)\n",
    "        lower = subsample.quantile(0.025)\n",
    "        upper = subsample.quantile(0.975)\n",
    "        lowers.append(lower)\n",
    "        uppers.append(upper)\n",
    "    \n",
    "    # Tirando a média dos menores e maiores quantis do bootstrap\n",
    "    lowers = pd.Series(lowers).mean()\n",
    "    uppers = pd.Series(uppers).mean()\n",
    "    \n",
    "    # Criando intervalo de confiança sobre as verdadeiras médias dos quantis desejados e aplicando sobre a lista de lucros original\n",
    "    confidence_interval = profits[\n",
    "        (profits >= lowers) & (profits <= uppers)\n",
    "    ]\n",
    "\n",
    "    return confidence_interval, lowers, uppers"
   ]
  },
  {
   "cell_type": "code",
   "execution_count": 55,
   "metadata": {},
   "outputs": [],
   "source": [
    "# Bootstrap com função de cálculo de receita.\n",
    "# state = np.random.RandomState(11115)\n",
    "\n",
    "# values = []\n",
    "# for i in range(1000):\n",
    "# subsample = pd.Series(predict_valid_0).sample(\n",
    "# n=points,  # Nº de poços que serão explorados inicialmente.\n",
    "# random_state=state,\n",
    "# replace=True,\n",
    "# )\n",
    "# target_subsample = target_valid_0.iloc[predict_subsample.index]\n",
    "# selected, revenue, profit_value = profit(\n",
    "# target_subsample, np.array(predict_subsample), points, product_value, investment\n",
    "# )\n",
    "\n",
    "# potential_profit, best_wells, total_volume = calc_profit(\n",
    "# data_0, subsample, points, rev_per_unit, cost\n",
    "# )\n",
    "\n",
    "# values.append(profit_value)\n",
    "\n",
    "# revenue_values_0 = pd.Series(values)"
   ]
  },
  {
   "cell_type": "code",
   "execution_count": 128,
   "metadata": {},
   "outputs": [],
   "source": [
    "# Bootstrap com função de cálculo de receita.\n",
    "# def bootstrap(n_subsamples, predictions, points, rev_per_unit, cost):\n",
    "    # profits = []\n",
    "    # for i in range(n_subsamples):\n",
    "        # subsample = pd.Series(predictions).sample(\n",
    "            # n=len(predictions), random_state=state, replace=True\n",
    "        # )\n",
    "        # potential_profit, best_wells, total_volume = calc_profit(\n",
    "            # data_0, subsample, points, rev_per_unit, cost\n",
    "        # )\n",
    "        # profits.append(potential_profit)\n",
    "\n",
    "    # return pd.Series(profits)"
   ]
  },
  {
   "cell_type": "code",
   "execution_count": 134,
   "metadata": {},
   "outputs": [],
   "source": [
    "# Aplicando bootstrap na Região 0\n",
    "# state = np.random.RandomState(123)\n",
    "# profits_0 = bootstrap(1000, predict_valid_0, points, rev_per_unit, cost)\n",
    "# region_0_profits = bootstrap_profit(predict_region['region_0'])"
   ]
  },
  {
   "cell_type": "code",
   "execution_count": 58,
   "metadata": {},
   "outputs": [],
   "source": [
    "# Gerando intervalo de confiança de 95%.\n",
    "# revenue_interval_0 = []\n",
    "# for i in range(1000):\n",
    "# subsample = revenue_values_0.sample(frac=1, random_state=state, replace=True)\n",
    "# quantile = subsample.quantile(0.99)\n",
    "# revenue_interval_0.append(quantile)\n",
    "\n",
    "# revenue_interval_0 = pd.Series(values)\n",
    "\n",
    "# lower_0 = revenue_interval_0.quantile(0.025)\n",
    "# upper_0 = revenue_interval_0.quantile(0.975)\n",
    "\n",
    "# print(\n",
    "# \"Intervalo de confiança de 95% para os retornos da Região 0: de\",\n",
    "# lower_0,\n",
    "# \"a\",\n",
    "# upper_0,\n",
    "# )"
   ]
  },
  {
   "cell_type": "markdown",
   "metadata": {},
   "source": [
    "<div class=\"alert alert-block alert-danger\">\n",
    "<b> Comentário do revisor: </b> <a class=\"tocSkip\"></a>\n",
    "\n",
    "<s>Veja o exemplo que deixei mais abaixo para cálculo de bootstrapping.</s>\n",
    "</div>"
   ]
  },
  {
   "cell_type": "code",
   "execution_count": 62,
   "metadata": {},
   "outputs": [],
   "source": [
    "# mean_profit_0, risk_of_loss_0, risk_percentage_0 = loss_risk(confidence_interval_0)"
   ]
  },
  {
   "cell_type": "code",
   "execution_count": 149,
   "metadata": {},
   "outputs": [],
   "source": [
    "# print(\"Lucro médio da Região 0:\", mean_profit_0)\n",
    "# print(\"Risco de prejuízo da Região 0 (probabilidade):\", risk_of_loss_0)\n",
    "# print(\"Risco de prejuízo da Região 0 (porcentagem):\", risk_percentage_0, \"%\")"
   ]
  },
  {
   "cell_type": "code",
   "execution_count": 64,
   "metadata": {},
   "outputs": [],
   "source": [
    "# Calculando o lucro médio dentro do intervalo de confiança de 95%.\n",
    "# profit_0 = revenue_interval_0[\n",
    "# (revenue_interval_0 >= lower_0) & (revenue_interval_0 <= upper_0)\n",
    "# ]\n",
    "# print(\n",
    "# \"Lucro médio previsto para a Região 0 (dentro do intervalo de confiança):\",\n",
    "# profit_0.mean(),\n",
    "# )"
   ]
  },
  {
   "cell_type": "code",
   "execution_count": 65,
   "metadata": {},
   "outputs": [],
   "source": [
    "# Calculando o risco de prejuízo\n",
    "# loss_risk_0 = (profit_0 < 0).mean()\n",
    "# print(\"Risco de prejuízo ao explorar a Região 0:\", loss_risk_0)\n",
    "# print(\n",
    "#     f\"Risco de Prejuízo ao explorar a Região 0 (porcentagem): {loss_risk_0 * 100:.2f}%\"\n",
    "# )"
   ]
  },
  {
   "cell_type": "code",
   "execution_count": 66,
   "metadata": {},
   "outputs": [],
   "source": [
    "# Criando uma função:\n",
    "# def risk_of_loss(prediction, target, product_value, investment, state):\n",
    "# # Bootstrap com função de cálculo de receita.\n",
    "# values = []\n",
    "# for i in range(1000):\n",
    "# predict_subsample = pd.Series(prediction).sample(\n",
    "# n=points,  # Nº de poços que serão explorados inicialmente.\n",
    "# random_state=state,\n",
    "# replace=True,\n",
    "# )\n",
    "# target_subsample = target.iloc[predict_subsample.index]\n",
    "\n",
    "# selected, revenue, profit_value = profit(\n",
    "# target_subsample,\n",
    "# np.array(predict_subsample),\n",
    "# points,\n",
    "# product_value,\n",
    "# investment,\n",
    "# )\n",
    "\n",
    "# values.append(profit_value)\n",
    "\n",
    "# revenue_values = pd.Series(values)\n",
    "\n",
    "# Gerando intervalo de confiança de 95%.\n",
    "# revenue_interval = []\n",
    "# for i in range(1000):\n",
    "# subsample = revenue_values.sample(frac=1, random_state=state, replace=True)\n",
    "# quantile = subsample.quantile(0.99)\n",
    "# revenue_interval.append(quantile)\n",
    "\n",
    "# revenue_interval = pd.Series(values)\n",
    "\n",
    "# lower = revenue_interval.quantile(0.025)\n",
    "# upper = revenue_interval.quantile(0.975)\n",
    "\n",
    "# Calculando o lucro médio dentro do intervalo de confiança de 95%.\n",
    "# mean_profit = revenue_interval[\n",
    "# (revenue_interval >= lower) & (revenue_interval <= upper)\n",
    "# ]\n",
    "\n",
    "# Calculando o risco de prejuízo\n",
    "# loss_risk = (mean_profit < 0).mean()\n",
    "\n",
    "# return lower, upper, mean_profit, loss_risk"
   ]
  },
  {
   "cell_type": "markdown",
   "metadata": {},
   "source": [
    "<div class=\"alert alert-block alert-danger\">\n",
    "<b> Comentário do revisor: </b> <a class=\"tocSkip\"></a>\n",
    "\n",
    "<s>Veja o exemplo que deixei mais abaixo para cálculo de lucro por região.</s>\n",
    "</div>"
   ]
  },
  {
   "cell_type": "markdown",
   "metadata": {},
   "source": [
    "### <s>Região 1"
   ]
  },
  {
   "cell_type": "code",
   "execution_count": 67,
   "metadata": {},
   "outputs": [],
   "source": [
    "# (lower_1, upper_1, profit_1, loss_risk_1) = risk_of_loss(\n",
    "# predict_valid_1, target_valid_1, product_value, investment, state\n",
    "# )\n",
    "# print(\n",
    "# \"Intervalo de confiança de 95% para os retornos da Região 1: de\",\n",
    "# lower_1,\n",
    "# \"a\",\n",
    "# upper_1,\n",
    "# )\n",
    "# print(\n",
    "# \"Lucro médio previsto para a Região 1 (dentro do intervalo de confiança):\",\n",
    "# profit_1.mean(),\n",
    "# )\n",
    "\n",
    "# print(\"Risco de prejuízo ao explorar a Região 1:\", loss_risk_1)\n",
    "# print(\n",
    "# f\"Risco de Prejuízo ao explorar a Região 1 (porcentagem): {loss_risk_1 * 100:.2f}%\"\n",
    "# )"
   ]
  },
  {
   "cell_type": "code",
   "execution_count": 150,
   "metadata": {},
   "outputs": [],
   "source": [
    "# Aplicando bootstrap na Região\n",
    "# profits_1 = bootstrap(1000, predict_valid_1, points, rev_per_unit, cost)"
   ]
  },
  {
   "cell_type": "code",
   "execution_count": 151,
   "metadata": {},
   "outputs": [],
   "source": [
    "# confidence_interval_1, lower_1, upper_1 = confidence_interval(1000, profits_1)\n",
    "\n",
    "# print(\n",
    "    # \"Intervalo de confiança de 95% para os retornos da Região 1: de\",\n",
    "    # lower_1,\n",
    "    # \"a\",\n",
    "    # upper_1,\n",
    "# )"
   ]
  },
  {
   "cell_type": "code",
   "execution_count": 152,
   "metadata": {},
   "outputs": [],
   "source": [
    "# mean_profit_1, risk_of_loss_1, risk_percentage_1 = loss_risk(confidence_interval_1)"
   ]
  },
  {
   "cell_type": "code",
   "execution_count": 153,
   "metadata": {},
   "outputs": [],
   "source": [
    "# print(\"Lucro médio da Região 1:\", mean_profit_1)\n",
    "# print(\"Risco de prejuízo da Região 1 (probabilidade):\", risk_of_loss_1)\n",
    "# print(\"Risco de prejuízo da Região 1 (porcentagem):\", risk_percentage_1, \"%\")"
   ]
  },
  {
   "cell_type": "markdown",
   "metadata": {},
   "source": [
    "### <s>Região 2"
   ]
  },
  {
   "cell_type": "code",
   "execution_count": 72,
   "metadata": {},
   "outputs": [],
   "source": [
    "# (lower_2, upper_2, profit_2, loss_risk_2) = risk_of_loss(\n",
    "# predict_valid_2, target_valid_2, product_value, investment, state\n",
    "# )\n",
    "# print(\n",
    "# \"Intervalo de confiança de 95% para os retornos da Região 1: de\",\n",
    "# lower_2,\n",
    "# \"a\",\n",
    "# upper_2,\n",
    "# )\n",
    "# print(\n",
    "# \"Lucro médio previsto para a Região 1 (dentro do intervalo de confiança):\",\n",
    "# profit_2.mean(),\n",
    "# )\n",
    "\n",
    "# print(\"Risco de prejuízo ao explorar a Região 1:\", loss_risk_2)\n",
    "# print(\n",
    "# f\"Risco de Prejuízo ao explorar a Região 1 (porcentagem): {loss_risk_2 * 100:.2f}%\"\n",
    "# )"
   ]
  },
  {
   "cell_type": "code",
   "execution_count": 154,
   "metadata": {},
   "outputs": [],
   "source": [
    "# Aplicando bootstrap na Região\n",
    "# profits_2 = bootstrap(1000, predict_valid_2, points, rev_per_unit, cost)"
   ]
  },
  {
   "cell_type": "code",
   "execution_count": 155,
   "metadata": {},
   "outputs": [],
   "source": [
    "# confidence_interval_2, lower_2, upper_2 = confidence_interval(1000, profits_2)\n",
    "\n",
    "# print(\n",
    "    # \"Intervalo de confiança de 95% para os retornos da Região 2: de\",\n",
    "    # lower_2,\n",
    "    # \"a\",\n",
    "    # upper_2,\n",
    "# )"
   ]
  },
  {
   "cell_type": "code",
   "execution_count": 156,
   "metadata": {},
   "outputs": [],
   "source": [
    "# mean_profit_2, risk_of_loss_2, risk_percentage_2 = loss_risk(confidence_interval_2)"
   ]
  },
  {
   "cell_type": "code",
   "execution_count": 157,
   "metadata": {},
   "outputs": [],
   "source": [
    "# print(\"Lucro médio da Região 2:\", mean_profit_2)\n",
    "# print(\"Risco de prejuízo da Região 2 (probabilidade):\", risk_of_loss_2)\n",
    "# print(\"Risco de prejuízo da Região 2 (porcentagem):\", risk_percentage_2, \"%\")"
   ]
  },
  {
   "cell_type": "markdown",
   "metadata": {},
   "source": [
    "### Todas as Regiões"
   ]
  },
  {
   "cell_type": "code",
   "execution_count": 143,
   "metadata": {},
   "outputs": [],
   "source": [
    "# Aplicando bootstrap com cálculo de receita\n",
    "state = np.random.RandomState(123)\n",
    "predictions = [predict_region['region_0'], predict_region['region_1'], predict_region['region_2']]\n",
    "bootstrap_profits = {}\n",
    "\n",
    "for prediction, region in zip(predictions, regions):\n",
    "    bootstrap_profits[region] = bootstrap_profit(prediction)"
   ]
  },
  {
   "cell_type": "code",
   "execution_count": 217,
   "metadata": {},
   "outputs": [
    {
     "name": "stdout",
     "output_type": "stream",
     "text": [
      "Intervalo de confiança de 95% para os retornos da region_0 de -863230.8103885258 a 9203943.116671016\n",
      "Intervalo de confiança de 95% para os retornos da region_1 de 165031.0708770438 a 7720726.413316559\n",
      "Intervalo de confiança de 95% para os retornos da region_2 de -2066636.3005540038 a 8520404.170302156\n"
     ]
    }
   ],
   "source": [
    "# Calculando intervalo de confiança de 95%\n",
    "confidence_intervals = {}\n",
    "profits = [bootstrap_profits['region_0'], bootstrap_profits['region_1'], bootstrap_profits['region_2']]\n",
    "\n",
    "for profit, region in zip(profits, regions):\n",
    "    confidence_intervals[region], lower, upper = confidence_interval(profit)\n",
    "\n",
    "    print(\n",
    "        'Intervalo de confiança de 95% para os retornos da', region, 'de',\n",
    "        lower,\n",
    "        \"a\",\n",
    "        upper,\n",
    "    )"
   ]
  },
  {
   "cell_type": "code",
   "execution_count": 212,
   "metadata": {},
   "outputs": [],
   "source": [
    "# Calculando risco de prejuízo e lucro médio\n",
    "def loss_risks(confidence_interval):\n",
    "    mean_profit = confidence_interval.mean()\n",
    "\n",
    "    risk_of_loss = (confidence_interval < 0).mean()\n",
    "    risk_percentage = risk_of_loss * 100\n",
    "    \n",
    "    loss_metrics = pd.DataFrame(dict(mean_profit=mean_profit, loss_risk=risk_of_loss, loss_percentage=risk_percentage), index=[0])\n",
    "\n",
    "    return loss_metrics"
   ]
  },
  {
   "cell_type": "code",
   "execution_count": 249,
   "metadata": {},
   "outputs": [
    {
     "data": {
      "text/html": [
       "<div>\n",
       "<style scoped>\n",
       "    .dataframe tbody tr th:only-of-type {\n",
       "        vertical-align: middle;\n",
       "    }\n",
       "\n",
       "    .dataframe tbody tr th {\n",
       "        vertical-align: top;\n",
       "    }\n",
       "\n",
       "    .dataframe thead th {\n",
       "        text-align: right;\n",
       "    }\n",
       "</style>\n",
       "<table border=\"1\" class=\"dataframe\">\n",
       "  <thead>\n",
       "    <tr style=\"text-align: right;\">\n",
       "      <th></th>\n",
       "      <th>mean_profit</th>\n",
       "      <th>loss_risk</th>\n",
       "      <th>loss_percentage</th>\n",
       "    </tr>\n",
       "  </thead>\n",
       "  <tbody>\n",
       "    <tr>\n",
       "      <th>0</th>\n",
       "      <td>3.044493e+06</td>\n",
       "      <td>0.110994</td>\n",
       "      <td>11.099366</td>\n",
       "    </tr>\n",
       "  </tbody>\n",
       "</table>\n",
       "</div>"
      ],
      "text/plain": [
       "    mean_profit  loss_risk  loss_percentage\n",
       "0  3.044493e+06   0.110994        11.099366"
      ]
     },
     "execution_count": 249,
     "metadata": {},
     "output_type": "execute_result"
    }
   ],
   "source": [
    "loss_metrics['region_2']"
   ]
  },
  {
   "cell_type": "code",
   "execution_count": 239,
   "metadata": {},
   "outputs": [
    {
     "name": "stdout",
     "output_type": "stream",
     "text": [
      "region_0\n",
      "Lucro médio: 4095759.3700938337\n",
      "Probabilidade de prejuízo: 0.02736842105263158\n",
      "Risco de prejuízo: 2.736842105263158%\n",
      "\n",
      "region_1\n",
      "Lucro médio: 4086762.670510954\n",
      "Probabilidade de prejuízo: 0.0\n",
      "Risco de prejuízo: 0.0%\n",
      "\n",
      "region_2\n",
      "Lucro médio: 3044492.8855566294\n",
      "Probabilidade de prejuízo: 0.1109936575052854\n",
      "Risco de prejuízo: 11.099365750528541%\n",
      "\n"
     ]
    }
   ],
   "source": [
    "# Calculando lucros médios e risco de perdas\n",
    "loss_metrics = {}\n",
    "conf_intervals = [confidence_intervals['region_0'], confidence_intervals['region_1'], confidence_intervals['region_2']]\n",
    "\n",
    "for interval, region in zip(conf_intervals, regions):\n",
    "    loss_metrics[region] = loss_risks(interval)\n",
    "    \n",
    "    print(region)\n",
    "    print('Lucro médio:', loss_metrics[region]['mean_profit'].sum())\n",
    "    print('Probabilidade de prejuízo:', loss_metrics[region]['loss_risk'].sum())\n",
    "    print(f'Risco de prejuízo: {loss_metrics[region][\"loss_percentage\"].sum()}%')\n",
    "    print()"
   ]
  },
  {
   "cell_type": "markdown",
   "metadata": {},
   "source": [
    "## Conclusão\n",
    "\n",
    "\n",
    "### Objetivo\n",
    "- Identificar as melhores regiões para a exploração de novos poços de petróleo, usando *Regressão Linear* para prever o volume de reservas e calcular o lucro potencial.\n",
    "- **Risco de perdas máximo aceito: 2,5%.**\n",
    "\n",
    "### Análise dos Dados\n",
    "- Foram analisadas três regiões (`region_0`, `region_1`, `region_2`), cada uma com variáveis relevantes (`f0`, `f1`, `f2`) e o volume de produto (`product`).\n",
    "- **Região 1** apresentou melhor performance no modelo de previsão, com menor erro e menor amplitude nas características.\n",
    "- **Região 0** e **Região 2** têm características com distribuições mais variadas, com potencial para altas reservas, mas também maior incerteza.\n",
    "\n",
    "### Modelagem de Regressão Linear\n",
    "- Modelos de *Regressão Linear* foram treinados para prever as reservas de cada região, ajustando predições negativas para zero, uma vez que volumes negativos são impossíveis.\n",
    "- O **REQM (Erro Quadrático Médio)** para a *Região 1* foi o menor, demonstrando que o modelo prevê com maior precisão nessa região.\n",
    "- Apesar do **REQM** maior na *Região 0*, essa região se destaca pelo volume de reservas previsto.\n",
    "\n",
    "### Cálculo do Lucro Potencial\n",
    "- Cada poço precisa produzir no mínimo **111,1 mil barris** para cobrir os custos.\n",
    "- Nenhuma das regiões tem produção média suficiente para cobrir os custos gerais, mas analisando os **200 melhores poços** de cada região, o cenário muda.\n",
    "- A **Região 0** apresentou o maior potencial de lucro, cerca de *31,4 milhões de dólares*.\n",
    "- A **Região 1** teve lucro potencial próximo, mas inferior à Região 0.\n",
    "- A **Região 2** foi a menos lucrativa entre as três.\n",
    "\n",
    "### Avaliação de Riscos e Lucros\n",
    "- Usando *Bootstrap*, foram simulados cenários para estimar riscos e intervalos de confiança.\n",
    "- A **Região 1** não apresentou risco de perdas, com lucro médio estável e seguro.\n",
    "- A **Região 0** teve um pequeno risco de prejuízo (**2,7%**), com lucro médio final similar ao da *Região 1*.\n",
    "- A **Região 2** apresentou o menor lucro e maior risco de perdas.\n",
    "\n",
    "### Recomendação\n",
    "- Desenvolver poços na **Região 1**, por ser a mais segura das alternativas com lucro médio competitivo.\n",
    "- A **Região 0** oferece um bom equilíbrio entre risco e lucro potencial, mas com um pequeno risco de perdas e no final possui lucro médio similar ao da alternativa mais segura.\n",
    "- A **Região 2** deve ser evitada, pois oferece menor retorno e maior risco."
   ]
  },
  {
   "cell_type": "markdown",
   "metadata": {},
   "source": [
    "<div class=\"alert alert-block alert-danger\">\n",
    "<b> Comentário do revisor: </b> <a class=\"tocSkip\"></a>\n",
    "\n",
    "<s>\n",
    "Aqui precisamos de pequenos ajustes, pois os resultados estão diferente do esperado. Veja que o risco de prejuízo está em `100%`. Vou deixar abaixo um trecho com exemplos de código para cálculo de lucro e boostrapping.\n",
    "    \n",
    "```python\n",
    "# Código de exemplo para calcular o lucro por região\n",
    "def calculate_profit(df):\n",
    "    best_wells = df.sort_values(by=\"predicted_value\", ascending=False)['real_value'].head(200)\n",
    "    total_volume = best_wells.sum()\n",
    "    potential_profit = (total_volume * revenue_per_product_unit) - development_cost\n",
    "    return potential_profit\n",
    "\n",
    "    \n",
    "# Código de examplo para cálculo de `boostrapping` por região\n",
    "def calculate_bootstrap(\n",
    "    data,\n",
    "    revenue_per_barrel=revenue_per_product_unit,\n",
    "    development_cost_per_well=development_cost,\n",
    "    total_samples=1000,\n",
    "    sample_size=500\n",
    "):\n",
    "    profits = []\n",
    "    for _ in range(total_samples):\n",
    "        sampled_data = data.sample(n=sample_size, replace=True)\n",
    "        profit = calculate_profit(sampled_data)\n",
    "        profits.append(profit)\n",
    "    return pd.Series(profits)\n",
    "```\n",
    "    \n",
    "- Para você validar a sua solução, compartilho alguns resultados esperados (dado a natureza aleatória da rotina de bootstrapping, o resultado final pode ser diferente desse):\n",
    "\n",
    "```python\n",
    "Risk Region 0: ~6%\n",
    "\n",
    "Risk Region 1: ~2%\n",
    "\n",
    "Risk Region 2: ~13%\n",
    "```\n",
    "</s>\n",
    "</div>"
   ]
  },
  {
   "cell_type": "markdown",
   "metadata": {},
   "source": [
    "<div class=\"alert alert-block alert-danger\">\n",
    "<b> Comentário do revisor v2: </b> <a class=\"tocSkip\"></a>\n",
    "\n",
    "<s>Início do trecho de código de exemplo.</s>\n",
    "\n",
    "</div>"
   ]
  },
  {
   "cell_type": "code",
   "execution_count": 195,
   "metadata": {},
   "outputs": [],
   "source": [
    "def train_and_evaluate_model(data):\n",
    "    features = data.drop(columns=[\"product\"], axis=1)\n",
    "    target = data[\"product\"]         \n",
    "\n",
    "    features_train,features_valid,target_train,target_valid = train_test_split(\n",
    "        features,\n",
    "        target,\n",
    "        test_size= 0.25\n",
    "    )\n",
    "    \n",
    "    model = LinearRegression()\n",
    "    model.fit(features_train,target_train)\n",
    "    predict_date = model.predict(features_valid) \n",
    "\n",
    "\n",
    "    rmse = mean_squared_error(target_valid, predict_date,squared=False)\n",
    "\n",
    "\n",
    "    mean_reserve= predict_date.mean()\n",
    "    \n",
    "    output= pd.DataFrame(dict(predicted_value=predict_date, real_value=target_valid))\n",
    "    return output"
   ]
  },
  {
   "cell_type": "code",
   "execution_count": 196,
   "metadata": {},
   "outputs": [],
   "source": [
    "regions = [\"region_0\", \"region_1\", \"region_2\"]\n",
    "datas = [data_0, data_1, data_2]\n",
    "predict_region = {}\n",
    "        \n",
    "for data, region in zip(datas, regions): \n",
    "    predict_region[region] = train_and_evaluate_model(data)  "
   ]
  },
  {
   "cell_type": "code",
   "execution_count": 197,
   "metadata": {},
   "outputs": [],
   "source": [
    "def calculate_profit(df):\n",
    "    best_wells = df.sort_values(by=\"predicted_value\", ascending=False)['real_value'].head(200) \n",
    "    total_volume = best_wells.sum() \n",
    "    potential_profit = (total_volume * revenue_per_product_unit) - development_cost\n",
    "    return potential_profit"
   ]
  },
  {
   "cell_type": "code",
   "execution_count": 198,
   "metadata": {},
   "outputs": [],
   "source": [
    "revenue_per_product_unit = 4500\n",
    "development_cost = 100000000"
   ]
  },
  {
   "cell_type": "code",
   "execution_count": 199,
   "metadata": {},
   "outputs": [],
   "source": [
    "def calculate_bootstrap(\n",
    "    data, \n",
    "    revenue_per_barrel=revenue_per_product_unit, \n",
    "    development_cost_per_well=development_cost, \n",
    "    total_samples=1000, \n",
    "    sample_size=500\n",
    "):\n",
    "    profits = []\n",
    "    for _ in range(total_samples):\n",
    "        sampled_data = data.sample(n=sample_size, replace=True)\n",
    "        profit = calculate_profit(sampled_data)\n",
    "        profits.append(profit)\n",
    "    return pd.Series(profits)"
   ]
  },
  {
   "cell_type": "code",
   "execution_count": 200,
   "metadata": {},
   "outputs": [],
   "source": [
    "region_0_results = calculate_bootstrap(\n",
    "    predict_region['region_0']\n",
    ")"
   ]
  },
  {
   "cell_type": "code",
   "execution_count": 202,
   "metadata": {},
   "outputs": [
    {
     "data": {
      "text/plain": [
       "0.042"
      ]
     },
     "execution_count": 202,
     "metadata": {},
     "output_type": "execute_result"
    }
   ],
   "source": [
    "loss_risk = ((region_0_results < 0).mean()) \n",
    "loss_risk"
   ]
  },
  {
   "cell_type": "code",
   "execution_count": null,
   "metadata": {},
   "outputs": [],
   "source": [
    "def calculate_profit(df):\n",
    "    best_wells = df.sort_values(by=\"predicted_value\", ascending=False)['real_value'].head(200) \n",
    "    total_volume = best_wells.sum() \n",
    "    potential_profit = (total_volume * revenue_per_product_unit) - development_cost\n",
    "    return potential_profit"
   ]
  },
  {
   "cell_type": "code",
   "execution_count": 203,
   "metadata": {},
   "outputs": [
    {
     "name": "stdout",
     "output_type": "stream",
     "text": [
      "Lucros total: 32600095.714296326\n",
      "\n",
      "\n",
      "Bootstrap\n",
      " 0      4.094689e+06\n",
      "1      8.467873e+06\n",
      "2     -2.740692e+05\n",
      "3      3.810766e+06\n",
      "4      1.290187e+06\n",
      "           ...     \n",
      "995    3.890847e+06\n",
      "996    3.101547e+06\n",
      "997    4.498744e+06\n",
      "998    2.881182e+06\n",
      "999    5.309886e+06\n",
      "Length: 1000, dtype: float64\n",
      "\n",
      "\n",
      "Resultados região 1\n",
      " 0      6.240682e+06\n",
      "1      4.778952e+06\n",
      "2      6.603267e+05\n",
      "3     -2.607211e+06\n",
      "4      1.021339e+06\n",
      "           ...     \n",
      "995    3.073619e+06\n",
      "996    1.900198e+06\n",
      "997    7.498953e+06\n",
      "998    2.130528e+06\n",
      "999    9.519362e+06\n",
      "Length: 1000, dtype: float64\n",
      "\n",
      "\n",
      "Risco de perda = 0.058\n"
     ]
    }
   ],
   "source": [
    "print(\"Lucros total:\", calculate_profit(predict_region['region_0']))\n",
    "print(\"\\n\")\n",
    "print('Bootstrap\\n',calculate_bootstrap(predict_region['region_0']))\n",
    "region_1_results = calculate_bootstrap(\n",
    "    predict_region['region_0']\n",
    ")\n",
    "loss_risk = ((region_1_results < 0).mean())\n",
    "print(\"\\n\")\n",
    "print(f'Resultados região 1\\n {region_1_results}')\n",
    "print(\"\\n\")\n",
    "print(f'Risco de perda = {loss_risk}')"
   ]
  },
  {
   "cell_type": "markdown",
   "metadata": {},
   "source": [
    "<div class=\"alert alert-block alert-danger\">\n",
    "<b> Comentário do revisor v2: </b> <a class=\"tocSkip\"></a>\n",
    "\n",
    "<s>\n",
    "    \n",
    "Fim do trecho de código de exemplo. Repetir o cálculo para as outras regiões. Sugestão: você pode iterar sobre o dicionário `predict_region` que contém os valores para todas as regiões e calcular dinamicamente o lucro/prejuízo para cada região.\n",
    "</s>\n",
    "</div>"
   ]
  }
 ],
 "metadata": {
  "ExecuteTimeLog": [
   {
    "duration": 333,
    "start_time": "2024-10-03T14:51:05.404Z"
   },
   {
    "duration": 342,
    "start_time": "2024-10-03T14:52:47.212Z"
   },
   {
    "duration": 13,
    "start_time": "2024-10-03T14:53:59.173Z"
   },
   {
    "duration": 15,
    "start_time": "2024-10-03T14:54:41.935Z"
   },
   {
    "duration": 9,
    "start_time": "2024-10-03T15:02:15.745Z"
   },
   {
    "duration": 9,
    "start_time": "2024-10-03T15:02:19.057Z"
   },
   {
    "duration": 9,
    "start_time": "2024-10-03T15:02:23.728Z"
   },
   {
    "duration": 11,
    "start_time": "2024-10-03T15:02:28.122Z"
   },
   {
    "duration": 10,
    "start_time": "2024-10-03T15:02:32.400Z"
   },
   {
    "duration": 9,
    "start_time": "2024-10-03T15:02:38.753Z"
   },
   {
    "duration": 38,
    "start_time": "2024-10-03T15:07:30.908Z"
   },
   {
    "duration": 62,
    "start_time": "2024-10-03T15:11:38.177Z"
   },
   {
    "duration": 37,
    "start_time": "2024-10-03T15:11:48.050Z"
   },
   {
    "duration": 11,
    "start_time": "2024-10-03T15:12:29.675Z"
   },
   {
    "duration": 9,
    "start_time": "2024-10-03T15:12:59.396Z"
   },
   {
    "duration": 9,
    "start_time": "2024-10-03T15:13:58.634Z"
   },
   {
    "duration": 10,
    "start_time": "2024-10-03T15:14:03.072Z"
   },
   {
    "duration": 10,
    "start_time": "2024-10-03T15:14:06.140Z"
   },
   {
    "duration": 9,
    "start_time": "2024-10-03T15:14:11.817Z"
   },
   {
    "duration": 34,
    "start_time": "2024-10-03T15:14:57.443Z"
   },
   {
    "duration": 12,
    "start_time": "2024-10-03T15:15:30.493Z"
   },
   {
    "duration": 9,
    "start_time": "2024-10-03T15:15:47.546Z"
   },
   {
    "duration": 39,
    "start_time": "2024-10-03T15:17:26.571Z"
   },
   {
    "duration": 9,
    "start_time": "2024-10-03T15:19:41.586Z"
   },
   {
    "duration": 9,
    "start_time": "2024-10-03T15:22:16.841Z"
   },
   {
    "duration": 176,
    "start_time": "2024-10-03T15:25:12.789Z"
   },
   {
    "duration": 1809,
    "start_time": "2024-10-03T15:25:38.843Z"
   },
   {
    "duration": 108,
    "start_time": "2024-10-03T15:25:44.682Z"
   },
   {
    "duration": 139,
    "start_time": "2024-10-03T15:26:36.900Z"
   },
   {
    "duration": 93,
    "start_time": "2024-10-03T15:26:48.745Z"
   },
   {
    "duration": 229,
    "start_time": "2024-10-03T15:29:58.493Z"
   },
   {
    "duration": 250,
    "start_time": "2024-10-03T15:30:12.583Z"
   },
   {
    "duration": 214,
    "start_time": "2024-10-03T15:31:15.009Z"
   },
   {
    "duration": 217,
    "start_time": "2024-10-03T15:31:20.500Z"
   },
   {
    "duration": 238,
    "start_time": "2024-10-03T15:31:28.568Z"
   },
   {
    "duration": 231,
    "start_time": "2024-10-03T15:32:23.887Z"
   },
   {
    "duration": 220,
    "start_time": "2024-10-03T15:32:34.299Z"
   },
   {
    "duration": 212,
    "start_time": "2024-10-03T15:32:39.116Z"
   },
   {
    "duration": 207,
    "start_time": "2024-10-03T15:33:11.713Z"
   },
   {
    "duration": 349,
    "start_time": "2024-10-03T15:34:34.382Z"
   },
   {
    "duration": 24,
    "start_time": "2024-10-03T15:34:57.308Z"
   },
   {
    "duration": 257,
    "start_time": "2024-10-03T15:35:25.063Z"
   },
   {
    "duration": 10,
    "start_time": "2024-10-03T15:41:51.097Z"
   },
   {
    "duration": 227,
    "start_time": "2024-10-03T15:42:58.497Z"
   },
   {
    "duration": 9,
    "start_time": "2024-10-03T15:55:08.641Z"
   },
   {
    "duration": 211,
    "start_time": "2024-10-03T15:55:24.112Z"
   },
   {
    "duration": 228,
    "start_time": "2024-10-03T15:55:27.491Z"
   },
   {
    "duration": 9,
    "start_time": "2024-10-03T15:58:09.657Z"
   },
   {
    "duration": 10,
    "start_time": "2024-10-03T15:58:27.444Z"
   },
   {
    "duration": 244,
    "start_time": "2024-10-03T15:59:09.254Z"
   },
   {
    "duration": 9,
    "start_time": "2024-10-03T16:02:58.836Z"
   },
   {
    "duration": 424,
    "start_time": "2024-10-03T16:03:17.973Z"
   },
   {
    "duration": 10,
    "start_time": "2024-10-03T16:03:21.016Z"
   },
   {
    "duration": 255,
    "start_time": "2024-10-03T16:04:39.143Z"
   },
   {
    "duration": 243,
    "start_time": "2024-10-03T16:04:50.686Z"
   },
   {
    "duration": 2186,
    "start_time": "2024-10-03T22:02:48.274Z"
   },
   {
    "duration": 372,
    "start_time": "2024-10-03T22:02:50.462Z"
   },
   {
    "duration": 12,
    "start_time": "2024-10-03T22:02:50.837Z"
   },
   {
    "duration": 11,
    "start_time": "2024-10-03T22:02:50.851Z"
   },
   {
    "duration": 33,
    "start_time": "2024-10-03T22:02:50.863Z"
   },
   {
    "duration": 11,
    "start_time": "2024-10-03T22:02:50.898Z"
   },
   {
    "duration": 10,
    "start_time": "2024-10-03T22:02:50.931Z"
   },
   {
    "duration": 30,
    "start_time": "2024-10-03T22:02:50.942Z"
   },
   {
    "duration": 10,
    "start_time": "2024-10-03T22:02:50.974Z"
   },
   {
    "duration": 8,
    "start_time": "2024-10-03T22:02:50.988Z"
   },
   {
    "duration": 59,
    "start_time": "2024-10-03T22:02:50.998Z"
   },
   {
    "duration": 9,
    "start_time": "2024-10-03T22:02:51.059Z"
   },
   {
    "duration": 312,
    "start_time": "2024-10-03T22:02:51.070Z"
   },
   {
    "duration": 9,
    "start_time": "2024-10-03T22:02:51.384Z"
   },
   {
    "duration": 273,
    "start_time": "2024-10-03T22:02:51.395Z"
   },
   {
    "duration": 10,
    "start_time": "2024-10-03T22:02:51.670Z"
   },
   {
    "duration": 295,
    "start_time": "2024-10-03T22:02:51.683Z"
   },
   {
    "duration": 10,
    "start_time": "2024-10-03T22:02:51.980Z"
   },
   {
    "duration": 289,
    "start_time": "2024-10-03T22:02:51.992Z"
   },
   {
    "duration": 10,
    "start_time": "2024-10-03T22:02:52.283Z"
   },
   {
    "duration": 267,
    "start_time": "2024-10-03T22:02:52.295Z"
   },
   {
    "duration": 9,
    "start_time": "2024-10-03T22:02:52.564Z"
   },
   {
    "duration": 258,
    "start_time": "2024-10-03T22:02:52.574Z"
   },
   {
    "duration": 213,
    "start_time": "2024-10-03T22:48:43.112Z"
   },
   {
    "duration": 407,
    "start_time": "2024-10-03T22:49:17.560Z"
   },
   {
    "duration": 544,
    "start_time": "2024-10-03T22:49:32.295Z"
   },
   {
    "duration": 447,
    "start_time": "2024-10-03T22:50:17.014Z"
   },
   {
    "duration": 521,
    "start_time": "2024-10-03T22:50:30.056Z"
   },
   {
    "duration": 453,
    "start_time": "2024-10-03T22:50:51.887Z"
   },
   {
    "duration": 570,
    "start_time": "2024-10-03T22:50:59.030Z"
   },
   {
    "duration": 449,
    "start_time": "2024-10-03T22:51:16.124Z"
   },
   {
    "duration": 447,
    "start_time": "2024-10-03T22:51:23.707Z"
   },
   {
    "duration": 446,
    "start_time": "2024-10-03T22:51:29.328Z"
   },
   {
    "duration": 661,
    "start_time": "2024-10-03T22:52:31.615Z"
   },
   {
    "duration": 535,
    "start_time": "2024-10-03T22:52:44.346Z"
   },
   {
    "duration": 428,
    "start_time": "2024-10-03T22:53:01.506Z"
   },
   {
    "duration": 577,
    "start_time": "2024-10-03T22:53:06.956Z"
   },
   {
    "duration": 439,
    "start_time": "2024-10-03T22:53:11.698Z"
   },
   {
    "duration": 393,
    "start_time": "2024-10-03T22:53:22.221Z"
   },
   {
    "duration": 460,
    "start_time": "2024-10-03T22:53:32.249Z"
   },
   {
    "duration": 532,
    "start_time": "2024-10-03T22:53:36.004Z"
   },
   {
    "duration": 458,
    "start_time": "2024-10-03T22:54:26.533Z"
   },
   {
    "duration": 422,
    "start_time": "2024-10-03T22:54:39.209Z"
   },
   {
    "duration": 419,
    "start_time": "2024-10-03T22:54:48.792Z"
   },
   {
    "duration": 550,
    "start_time": "2024-10-03T22:54:59.332Z"
   },
   {
    "duration": 460,
    "start_time": "2024-10-03T22:55:04.050Z"
   },
   {
    "duration": 434,
    "start_time": "2024-10-03T22:55:10.769Z"
   },
   {
    "duration": 247,
    "start_time": "2024-10-03T22:56:30.236Z"
   },
   {
    "duration": 539,
    "start_time": "2024-10-03T22:57:30.420Z"
   },
   {
    "duration": 435,
    "start_time": "2024-10-03T22:57:59.826Z"
   },
   {
    "duration": 422,
    "start_time": "2024-10-03T22:58:30.392Z"
   },
   {
    "duration": 547,
    "start_time": "2024-10-03T22:58:44.863Z"
   },
   {
    "duration": 412,
    "start_time": "2024-10-03T22:59:27.014Z"
   },
   {
    "duration": 456,
    "start_time": "2024-10-03T22:59:35.036Z"
   },
   {
    "duration": 437,
    "start_time": "2024-10-03T22:59:43.572Z"
   },
   {
    "duration": 17,
    "start_time": "2024-10-03T23:01:59.512Z"
   },
   {
    "duration": 18,
    "start_time": "2024-10-03T23:02:26.746Z"
   },
   {
    "duration": 18,
    "start_time": "2024-10-03T23:03:39.066Z"
   },
   {
    "duration": 18,
    "start_time": "2024-10-03T23:05:35.757Z"
   },
   {
    "duration": 17,
    "start_time": "2024-10-03T23:05:55.013Z"
   },
   {
    "duration": 22,
    "start_time": "2024-10-03T23:06:10.284Z"
   },
   {
    "duration": 31,
    "start_time": "2024-10-03T23:08:49.878Z"
   },
   {
    "duration": 20,
    "start_time": "2024-10-03T23:08:56.665Z"
   },
   {
    "duration": 23,
    "start_time": "2024-10-03T23:09:23.721Z"
   },
   {
    "duration": 22,
    "start_time": "2024-10-03T23:13:24.127Z"
   },
   {
    "duration": 22,
    "start_time": "2024-10-03T23:21:03.750Z"
   },
   {
    "duration": 537,
    "start_time": "2024-10-03T23:21:38.612Z"
   },
   {
    "duration": 478,
    "start_time": "2024-10-03T23:31:02.871Z"
   },
   {
    "duration": 23,
    "start_time": "2024-10-03T23:32:07.469Z"
   },
   {
    "duration": 461,
    "start_time": "2024-10-03T23:32:48.571Z"
   },
   {
    "duration": 446,
    "start_time": "2024-10-03T23:41:56.690Z"
   },
   {
    "duration": 423,
    "start_time": "2024-10-03T23:42:46.028Z"
   },
   {
    "duration": 652,
    "start_time": "2024-10-03T23:43:28.606Z"
   },
   {
    "duration": 545,
    "start_time": "2024-10-03T23:44:28.559Z"
   },
   {
    "duration": 2202,
    "start_time": "2024-10-04T01:12:30.390Z"
   },
   {
    "duration": 367,
    "start_time": "2024-10-04T01:12:32.596Z"
   },
   {
    "duration": 12,
    "start_time": "2024-10-04T01:12:32.965Z"
   },
   {
    "duration": 11,
    "start_time": "2024-10-04T01:12:32.980Z"
   },
   {
    "duration": 53,
    "start_time": "2024-10-04T01:12:32.993Z"
   },
   {
    "duration": 12,
    "start_time": "2024-10-04T01:12:33.048Z"
   },
   {
    "duration": 9,
    "start_time": "2024-10-04T01:12:33.062Z"
   },
   {
    "duration": 59,
    "start_time": "2024-10-04T01:12:33.073Z"
   },
   {
    "duration": 13,
    "start_time": "2024-10-04T01:12:33.134Z"
   },
   {
    "duration": 10,
    "start_time": "2024-10-04T01:12:33.150Z"
   },
   {
    "duration": 64,
    "start_time": "2024-10-04T01:12:33.162Z"
   },
   {
    "duration": 28,
    "start_time": "2024-10-04T01:12:33.228Z"
   },
   {
    "duration": 505,
    "start_time": "2024-10-04T01:12:33.257Z"
   },
   {
    "duration": 28,
    "start_time": "2024-10-04T01:12:33.764Z"
   },
   {
    "duration": 492,
    "start_time": "2024-10-04T01:12:33.794Z"
   },
   {
    "duration": 27,
    "start_time": "2024-10-04T01:12:34.289Z"
   },
   {
    "duration": 472,
    "start_time": "2024-10-04T01:12:34.318Z"
   },
   {
    "duration": 525,
    "start_time": "2024-10-04T01:12:34.792Z"
   },
   {
    "duration": 464,
    "start_time": "2024-10-04T01:12:35.319Z"
   },
   {
    "duration": 426,
    "start_time": "2024-10-04T01:12:35.785Z"
   },
   {
    "duration": 23,
    "start_time": "2024-10-04T01:22:24.804Z"
   },
   {
    "duration": 26,
    "start_time": "2024-10-04T01:25:18.109Z"
   },
   {
    "duration": 22,
    "start_time": "2024-10-04T01:27:48.130Z"
   },
   {
    "duration": 2167,
    "start_time": "2024-10-05T00:28:37.026Z"
   },
   {
    "duration": 346,
    "start_time": "2024-10-05T00:28:39.194Z"
   },
   {
    "duration": 12,
    "start_time": "2024-10-05T00:28:39.541Z"
   },
   {
    "duration": 11,
    "start_time": "2024-10-05T00:28:39.555Z"
   },
   {
    "duration": 33,
    "start_time": "2024-10-05T00:28:39.568Z"
   },
   {
    "duration": 29,
    "start_time": "2024-10-05T00:28:39.603Z"
   },
   {
    "duration": 9,
    "start_time": "2024-10-05T00:28:39.634Z"
   },
   {
    "duration": 31,
    "start_time": "2024-10-05T00:28:39.645Z"
   },
   {
    "duration": 10,
    "start_time": "2024-10-05T00:28:39.678Z"
   },
   {
    "duration": 34,
    "start_time": "2024-10-05T00:28:39.691Z"
   },
   {
    "duration": 34,
    "start_time": "2024-10-05T00:28:39.726Z"
   },
   {
    "duration": 24,
    "start_time": "2024-10-05T00:28:39.762Z"
   },
   {
    "duration": 446,
    "start_time": "2024-10-05T00:28:39.788Z"
   },
   {
    "duration": 20,
    "start_time": "2024-10-05T00:28:40.236Z"
   },
   {
    "duration": 487,
    "start_time": "2024-10-05T00:28:40.258Z"
   },
   {
    "duration": 21,
    "start_time": "2024-10-05T00:28:40.747Z"
   },
   {
    "duration": 434,
    "start_time": "2024-10-05T00:28:40.769Z"
   },
   {
    "duration": 29,
    "start_time": "2024-10-05T00:28:41.205Z"
   },
   {
    "duration": 451,
    "start_time": "2024-10-05T00:28:41.235Z"
   },
   {
    "duration": 21,
    "start_time": "2024-10-05T00:28:41.687Z"
   },
   {
    "duration": 426,
    "start_time": "2024-10-05T00:28:41.710Z"
   },
   {
    "duration": 21,
    "start_time": "2024-10-05T00:28:42.138Z"
   },
   {
    "duration": 511,
    "start_time": "2024-10-05T00:28:42.160Z"
   },
   {
    "duration": 675,
    "start_time": "2024-10-05T00:58:30.317Z"
   },
   {
    "duration": 13,
    "start_time": "2024-10-05T00:58:39.850Z"
   },
   {
    "duration": 7,
    "start_time": "2024-10-05T00:58:44.507Z"
   },
   {
    "duration": 14,
    "start_time": "2024-10-05T01:10:24.843Z"
   },
   {
    "duration": 811,
    "start_time": "2024-10-05T01:14:39.979Z"
   },
   {
    "duration": 217,
    "start_time": "2024-10-05T01:14:40.792Z"
   },
   {
    "duration": 14,
    "start_time": "2024-10-05T01:14:41.011Z"
   },
   {
    "duration": 11,
    "start_time": "2024-10-05T01:14:41.027Z"
   },
   {
    "duration": 33,
    "start_time": "2024-10-05T01:14:41.040Z"
   },
   {
    "duration": 10,
    "start_time": "2024-10-05T01:14:41.075Z"
   },
   {
    "duration": 9,
    "start_time": "2024-10-05T01:14:41.086Z"
   },
   {
    "duration": 55,
    "start_time": "2024-10-05T01:14:41.096Z"
   },
   {
    "duration": 11,
    "start_time": "2024-10-05T01:14:41.153Z"
   },
   {
    "duration": 10,
    "start_time": "2024-10-05T01:14:41.167Z"
   },
   {
    "duration": 63,
    "start_time": "2024-10-05T01:14:41.179Z"
   },
   {
    "duration": 22,
    "start_time": "2024-10-05T01:14:41.243Z"
   },
   {
    "duration": 495,
    "start_time": "2024-10-05T01:14:41.266Z"
   },
   {
    "duration": 21,
    "start_time": "2024-10-05T01:14:41.763Z"
   },
   {
    "duration": 430,
    "start_time": "2024-10-05T01:14:41.785Z"
   },
   {
    "duration": 21,
    "start_time": "2024-10-05T01:14:42.224Z"
   },
   {
    "duration": 454,
    "start_time": "2024-10-05T01:14:42.246Z"
   },
   {
    "duration": 29,
    "start_time": "2024-10-05T01:14:42.702Z"
   },
   {
    "duration": 434,
    "start_time": "2024-10-05T01:14:42.732Z"
   },
   {
    "duration": 21,
    "start_time": "2024-10-05T01:14:43.168Z"
   },
   {
    "duration": 528,
    "start_time": "2024-10-05T01:14:43.191Z"
   },
   {
    "duration": 21,
    "start_time": "2024-10-05T01:14:43.725Z"
   },
   {
    "duration": 445,
    "start_time": "2024-10-05T01:14:43.747Z"
   },
   {
    "duration": 13,
    "start_time": "2024-10-05T01:14:44.194Z"
   },
   {
    "duration": 7,
    "start_time": "2024-10-05T01:18:13.480Z"
   },
   {
    "duration": 5,
    "start_time": "2024-10-05T01:19:06.556Z"
   },
   {
    "duration": 14,
    "start_time": "2024-10-05T01:24:39.265Z"
   },
   {
    "duration": 37,
    "start_time": "2024-10-05T01:26:57.240Z"
   },
   {
    "duration": 16,
    "start_time": "2024-10-05T01:41:57.288Z"
   },
   {
    "duration": 151,
    "start_time": "2024-10-05T01:43:42.713Z"
   },
   {
    "duration": 10,
    "start_time": "2024-10-05T01:51:39.201Z"
   },
   {
    "duration": 9,
    "start_time": "2024-10-05T01:51:51.393Z"
   },
   {
    "duration": 9,
    "start_time": "2024-10-05T01:51:58.272Z"
   },
   {
    "duration": 12,
    "start_time": "2024-10-05T01:59:21.662Z"
   },
   {
    "duration": 9,
    "start_time": "2024-10-05T01:59:29.151Z"
   },
   {
    "duration": 4,
    "start_time": "2024-10-05T01:59:31.916Z"
   },
   {
    "duration": 4,
    "start_time": "2024-10-05T01:59:33.134Z"
   },
   {
    "duration": 14,
    "start_time": "2024-10-05T01:59:35.210Z"
   },
   {
    "duration": 9,
    "start_time": "2024-10-05T01:59:36.304Z"
   },
   {
    "duration": 8,
    "start_time": "2024-10-05T01:59:38.895Z"
   },
   {
    "duration": 4,
    "start_time": "2024-10-05T02:23:11.814Z"
   },
   {
    "duration": 3,
    "start_time": "2024-10-05T02:30:14.729Z"
   },
   {
    "duration": 4,
    "start_time": "2024-10-05T02:32:15.201Z"
   },
   {
    "duration": 4,
    "start_time": "2024-10-05T02:39:42.033Z"
   },
   {
    "duration": 5,
    "start_time": "2024-10-05T02:40:39.649Z"
   },
   {
    "duration": 5,
    "start_time": "2024-10-05T02:40:45.702Z"
   },
   {
    "duration": 810,
    "start_time": "2024-10-05T02:46:15.382Z"
   },
   {
    "duration": 215,
    "start_time": "2024-10-05T02:46:16.194Z"
   },
   {
    "duration": 16,
    "start_time": "2024-10-05T02:46:16.411Z"
   },
   {
    "duration": 11,
    "start_time": "2024-10-05T02:46:16.429Z"
   },
   {
    "duration": 33,
    "start_time": "2024-10-05T02:46:16.442Z"
   },
   {
    "duration": 11,
    "start_time": "2024-10-05T02:46:16.477Z"
   },
   {
    "duration": 9,
    "start_time": "2024-10-05T02:46:16.490Z"
   },
   {
    "duration": 31,
    "start_time": "2024-10-05T02:46:16.524Z"
   },
   {
    "duration": 10,
    "start_time": "2024-10-05T02:46:16.557Z"
   },
   {
    "duration": 8,
    "start_time": "2024-10-05T02:46:16.570Z"
   },
   {
    "duration": 60,
    "start_time": "2024-10-05T02:46:16.579Z"
   },
   {
    "duration": 21,
    "start_time": "2024-10-05T02:46:16.641Z"
   },
   {
    "duration": 495,
    "start_time": "2024-10-05T02:46:16.664Z"
   },
   {
    "duration": 21,
    "start_time": "2024-10-05T02:46:17.161Z"
   },
   {
    "duration": 462,
    "start_time": "2024-10-05T02:46:17.183Z"
   },
   {
    "duration": 21,
    "start_time": "2024-10-05T02:46:17.647Z"
   },
   {
    "duration": 451,
    "start_time": "2024-10-05T02:46:17.669Z"
   },
   {
    "duration": 24,
    "start_time": "2024-10-05T02:46:18.122Z"
   },
   {
    "duration": 510,
    "start_time": "2024-10-05T02:46:18.147Z"
   },
   {
    "duration": 22,
    "start_time": "2024-10-05T02:46:18.658Z"
   },
   {
    "duration": 442,
    "start_time": "2024-10-05T02:46:18.682Z"
   },
   {
    "duration": 23,
    "start_time": "2024-10-05T02:46:19.126Z"
   },
   {
    "duration": 442,
    "start_time": "2024-10-05T02:46:19.150Z"
   },
   {
    "duration": 12,
    "start_time": "2024-10-05T02:46:19.593Z"
   },
   {
    "duration": 18,
    "start_time": "2024-10-05T02:46:19.607Z"
   },
   {
    "duration": 4,
    "start_time": "2024-10-05T02:46:19.626Z"
   },
   {
    "duration": 5,
    "start_time": "2024-10-05T02:46:19.631Z"
   },
   {
    "duration": 13,
    "start_time": "2024-10-05T02:46:19.640Z"
   },
   {
    "duration": 232,
    "start_time": "2024-10-05T02:46:19.654Z"
   },
   {
    "duration": 0,
    "start_time": "2024-10-05T02:46:19.888Z"
   },
   {
    "duration": 0,
    "start_time": "2024-10-05T02:46:19.889Z"
   },
   {
    "duration": 0,
    "start_time": "2024-10-05T02:46:19.891Z"
   },
   {
    "duration": 13,
    "start_time": "2024-10-05T02:47:01.004Z"
   },
   {
    "duration": 13,
    "start_time": "2024-10-05T02:47:10.166Z"
   },
   {
    "duration": 6,
    "start_time": "2024-10-05T02:47:21.136Z"
   },
   {
    "duration": 12,
    "start_time": "2024-10-05T02:47:23.943Z"
   },
   {
    "duration": 9,
    "start_time": "2024-10-05T02:47:43.718Z"
   },
   {
    "duration": 4,
    "start_time": "2024-10-05T02:47:46.958Z"
   },
   {
    "duration": 4,
    "start_time": "2024-10-05T02:47:47.939Z"
   },
   {
    "duration": 5,
    "start_time": "2024-10-05T02:48:21.957Z"
   },
   {
    "duration": 4,
    "start_time": "2024-10-05T02:48:29.069Z"
   },
   {
    "duration": 854,
    "start_time": "2024-10-05T02:48:38.254Z"
   },
   {
    "duration": 213,
    "start_time": "2024-10-05T02:48:39.109Z"
   },
   {
    "duration": 11,
    "start_time": "2024-10-05T02:48:39.324Z"
   },
   {
    "duration": 11,
    "start_time": "2024-10-05T02:48:39.338Z"
   },
   {
    "duration": 33,
    "start_time": "2024-10-05T02:48:39.350Z"
   },
   {
    "duration": 11,
    "start_time": "2024-10-05T02:48:39.385Z"
   },
   {
    "duration": 34,
    "start_time": "2024-10-05T02:48:39.397Z"
   },
   {
    "duration": 32,
    "start_time": "2024-10-05T02:48:39.432Z"
   },
   {
    "duration": 10,
    "start_time": "2024-10-05T02:48:39.466Z"
   },
   {
    "duration": 9,
    "start_time": "2024-10-05T02:48:39.479Z"
   },
   {
    "duration": 60,
    "start_time": "2024-10-05T02:48:39.489Z"
   },
   {
    "duration": 22,
    "start_time": "2024-10-05T02:48:39.550Z"
   },
   {
    "duration": 511,
    "start_time": "2024-10-05T02:48:39.573Z"
   },
   {
    "duration": 20,
    "start_time": "2024-10-05T02:48:40.086Z"
   },
   {
    "duration": 441,
    "start_time": "2024-10-05T02:48:40.108Z"
   },
   {
    "duration": 20,
    "start_time": "2024-10-05T02:48:40.551Z"
   },
   {
    "duration": 454,
    "start_time": "2024-10-05T02:48:40.573Z"
   },
   {
    "duration": 21,
    "start_time": "2024-10-05T02:48:41.029Z"
   },
   {
    "duration": 553,
    "start_time": "2024-10-05T02:48:41.052Z"
   },
   {
    "duration": 33,
    "start_time": "2024-10-05T02:48:41.607Z"
   },
   {
    "duration": 474,
    "start_time": "2024-10-05T02:48:41.642Z"
   },
   {
    "duration": 25,
    "start_time": "2024-10-05T02:48:42.118Z"
   },
   {
    "duration": 442,
    "start_time": "2024-10-05T02:48:42.145Z"
   },
   {
    "duration": 12,
    "start_time": "2024-10-05T02:48:42.589Z"
   },
   {
    "duration": 8,
    "start_time": "2024-10-05T02:48:42.603Z"
   },
   {
    "duration": 14,
    "start_time": "2024-10-05T02:48:42.613Z"
   },
   {
    "duration": 3,
    "start_time": "2024-10-05T02:48:42.629Z"
   },
   {
    "duration": 12,
    "start_time": "2024-10-05T02:48:42.636Z"
   },
   {
    "duration": 5,
    "start_time": "2024-10-05T02:48:42.649Z"
   },
   {
    "duration": 7,
    "start_time": "2024-10-05T02:48:42.656Z"
   },
   {
    "duration": 9,
    "start_time": "2024-10-05T02:48:42.665Z"
   },
   {
    "duration": 300,
    "start_time": "2024-10-05T02:48:42.724Z"
   },
   {
    "duration": 14,
    "start_time": "2024-10-05T02:49:28.070Z"
   },
   {
    "duration": 15,
    "start_time": "2024-10-05T02:49:39.057Z"
   },
   {
    "duration": 5,
    "start_time": "2024-10-05T02:49:45.704Z"
   },
   {
    "duration": 9,
    "start_time": "2024-10-05T02:51:17.498Z"
   },
   {
    "duration": 6,
    "start_time": "2024-10-05T02:52:16.238Z"
   },
   {
    "duration": 5,
    "start_time": "2024-10-05T02:52:57.114Z"
   },
   {
    "duration": 7,
    "start_time": "2024-10-05T02:55:37.859Z"
   },
   {
    "duration": 4,
    "start_time": "2024-10-05T02:56:10.307Z"
   },
   {
    "duration": 4,
    "start_time": "2024-10-05T02:57:49.760Z"
   },
   {
    "duration": 926,
    "start_time": "2024-10-05T03:04:32.116Z"
   },
   {
    "duration": 226,
    "start_time": "2024-10-05T03:04:33.044Z"
   },
   {
    "duration": 12,
    "start_time": "2024-10-05T03:04:33.272Z"
   },
   {
    "duration": 11,
    "start_time": "2024-10-05T03:04:33.286Z"
   },
   {
    "duration": 46,
    "start_time": "2024-10-05T03:04:33.300Z"
   },
   {
    "duration": 10,
    "start_time": "2024-10-05T03:04:33.349Z"
   },
   {
    "duration": 9,
    "start_time": "2024-10-05T03:04:33.361Z"
   },
   {
    "duration": 52,
    "start_time": "2024-10-05T03:04:33.372Z"
   },
   {
    "duration": 16,
    "start_time": "2024-10-05T03:04:33.426Z"
   },
   {
    "duration": 13,
    "start_time": "2024-10-05T03:04:33.446Z"
   },
   {
    "duration": 39,
    "start_time": "2024-10-05T03:04:33.462Z"
   },
   {
    "duration": 35,
    "start_time": "2024-10-05T03:04:33.503Z"
   },
   {
    "duration": 481,
    "start_time": "2024-10-05T03:04:33.540Z"
   },
   {
    "duration": 21,
    "start_time": "2024-10-05T03:04:34.025Z"
   },
   {
    "duration": 458,
    "start_time": "2024-10-05T03:04:34.047Z"
   },
   {
    "duration": 27,
    "start_time": "2024-10-05T03:04:34.508Z"
   },
   {
    "duration": 454,
    "start_time": "2024-10-05T03:04:34.536Z"
   },
   {
    "duration": 32,
    "start_time": "2024-10-05T03:04:34.993Z"
   },
   {
    "duration": 501,
    "start_time": "2024-10-05T03:04:35.026Z"
   },
   {
    "duration": 22,
    "start_time": "2024-10-05T03:04:35.529Z"
   },
   {
    "duration": 448,
    "start_time": "2024-10-05T03:04:35.553Z"
   },
   {
    "duration": 26,
    "start_time": "2024-10-05T03:04:36.003Z"
   },
   {
    "duration": 425,
    "start_time": "2024-10-05T03:04:36.031Z"
   },
   {
    "duration": 12,
    "start_time": "2024-10-05T03:04:36.458Z"
   },
   {
    "duration": 9,
    "start_time": "2024-10-05T03:04:36.472Z"
   },
   {
    "duration": 4,
    "start_time": "2024-10-05T03:04:36.482Z"
   },
   {
    "duration": 3,
    "start_time": "2024-10-05T03:04:36.487Z"
   },
   {
    "duration": 36,
    "start_time": "2024-10-05T03:04:36.492Z"
   },
   {
    "duration": 6,
    "start_time": "2024-10-05T03:04:36.530Z"
   },
   {
    "duration": 237,
    "start_time": "2024-10-05T03:04:36.538Z"
   },
   {
    "duration": 0,
    "start_time": "2024-10-05T03:04:36.777Z"
   },
   {
    "duration": 0,
    "start_time": "2024-10-05T03:04:36.778Z"
   },
   {
    "duration": 8,
    "start_time": "2024-10-05T03:05:09.722Z"
   },
   {
    "duration": 5,
    "start_time": "2024-10-05T03:05:11.142Z"
   },
   {
    "duration": 5,
    "start_time": "2024-10-05T03:05:11.611Z"
   },
   {
    "duration": 4,
    "start_time": "2024-10-05T03:44:50.100Z"
   },
   {
    "duration": 27,
    "start_time": "2024-10-05T03:52:14.919Z"
   },
   {
    "duration": 5,
    "start_time": "2024-10-05T03:52:42.494Z"
   },
   {
    "duration": 28,
    "start_time": "2024-10-05T03:52:43.216Z"
   },
   {
    "duration": 4,
    "start_time": "2024-10-05T03:53:38.488Z"
   },
   {
    "duration": 25,
    "start_time": "2024-10-05T03:53:39.130Z"
   },
   {
    "duration": 25,
    "start_time": "2024-10-05T03:55:46.976Z"
   },
   {
    "duration": 26,
    "start_time": "2024-10-05T04:07:57.466Z"
   },
   {
    "duration": 4,
    "start_time": "2024-10-05T04:10:54.894Z"
   },
   {
    "duration": 20,
    "start_time": "2024-10-05T04:11:12.652Z"
   },
   {
    "duration": 85,
    "start_time": "2024-10-05T04:11:18.226Z"
   },
   {
    "duration": 3,
    "start_time": "2024-10-05T04:12:08.901Z"
   },
   {
    "duration": 21,
    "start_time": "2024-10-05T04:12:09.845Z"
   },
   {
    "duration": 13,
    "start_time": "2024-10-05T04:12:14.477Z"
   },
   {
    "duration": 4,
    "start_time": "2024-10-05T04:16:31.737Z"
   },
   {
    "duration": 22,
    "start_time": "2024-10-05T04:16:32.501Z"
   },
   {
    "duration": 14,
    "start_time": "2024-10-05T04:16:41.654Z"
   },
   {
    "duration": 4,
    "start_time": "2024-10-05T04:18:32.181Z"
   },
   {
    "duration": 14,
    "start_time": "2024-10-05T04:18:47.159Z"
   },
   {
    "duration": 19,
    "start_time": "2024-10-05T04:18:56.823Z"
   },
   {
    "duration": 14,
    "start_time": "2024-10-05T04:18:58.045Z"
   },
   {
    "duration": 8,
    "start_time": "2024-10-05T04:19:11.235Z"
   },
   {
    "duration": 4,
    "start_time": "2024-10-05T04:20:04.399Z"
   },
   {
    "duration": 28,
    "start_time": "2024-10-05T04:20:07.151Z"
   },
   {
    "duration": 25,
    "start_time": "2024-10-05T04:20:27.009Z"
   },
   {
    "duration": 29,
    "start_time": "2024-10-05T04:20:39.066Z"
   },
   {
    "duration": 26,
    "start_time": "2024-10-05T04:20:48.928Z"
   },
   {
    "duration": 24,
    "start_time": "2024-10-05T04:20:51.052Z"
   },
   {
    "duration": 4,
    "start_time": "2024-10-05T04:21:21.359Z"
   },
   {
    "duration": 24,
    "start_time": "2024-10-05T04:21:22.506Z"
   },
   {
    "duration": 4,
    "start_time": "2024-10-05T04:21:27.940Z"
   },
   {
    "duration": 25,
    "start_time": "2024-10-05T04:21:29.320Z"
   },
   {
    "duration": 860,
    "start_time": "2024-10-05T04:21:36.111Z"
   },
   {
    "duration": 226,
    "start_time": "2024-10-05T04:21:36.974Z"
   },
   {
    "duration": 12,
    "start_time": "2024-10-05T04:21:37.202Z"
   },
   {
    "duration": 15,
    "start_time": "2024-10-05T04:21:37.217Z"
   },
   {
    "duration": 35,
    "start_time": "2024-10-05T04:21:37.233Z"
   },
   {
    "duration": 10,
    "start_time": "2024-10-05T04:21:37.270Z"
   },
   {
    "duration": 10,
    "start_time": "2024-10-05T04:21:37.281Z"
   },
   {
    "duration": 58,
    "start_time": "2024-10-05T04:21:37.293Z"
   },
   {
    "duration": 11,
    "start_time": "2024-10-05T04:21:37.352Z"
   },
   {
    "duration": 9,
    "start_time": "2024-10-05T04:21:37.366Z"
   },
   {
    "duration": 57,
    "start_time": "2024-10-05T04:21:37.376Z"
   },
   {
    "duration": 22,
    "start_time": "2024-10-05T04:21:37.435Z"
   },
   {
    "duration": 527,
    "start_time": "2024-10-05T04:21:37.458Z"
   },
   {
    "duration": 21,
    "start_time": "2024-10-05T04:21:37.987Z"
   },
   {
    "duration": 432,
    "start_time": "2024-10-05T04:21:38.011Z"
   },
   {
    "duration": 23,
    "start_time": "2024-10-05T04:21:38.445Z"
   },
   {
    "duration": 445,
    "start_time": "2024-10-05T04:21:38.469Z"
   },
   {
    "duration": 25,
    "start_time": "2024-10-05T04:21:38.916Z"
   },
   {
    "duration": 489,
    "start_time": "2024-10-05T04:21:38.943Z"
   },
   {
    "duration": 22,
    "start_time": "2024-10-05T04:21:39.434Z"
   },
   {
    "duration": 444,
    "start_time": "2024-10-05T04:21:39.457Z"
   },
   {
    "duration": 26,
    "start_time": "2024-10-05T04:21:39.902Z"
   },
   {
    "duration": 421,
    "start_time": "2024-10-05T04:21:39.929Z"
   },
   {
    "duration": 12,
    "start_time": "2024-10-05T04:21:40.352Z"
   },
   {
    "duration": 8,
    "start_time": "2024-10-05T04:21:40.366Z"
   },
   {
    "duration": 4,
    "start_time": "2024-10-05T04:21:40.376Z"
   },
   {
    "duration": 3,
    "start_time": "2024-10-05T04:21:40.382Z"
   },
   {
    "duration": 36,
    "start_time": "2024-10-05T04:21:40.389Z"
   },
   {
    "duration": 5,
    "start_time": "2024-10-05T04:21:40.427Z"
   },
   {
    "duration": 8,
    "start_time": "2024-10-05T04:21:40.434Z"
   },
   {
    "duration": 3,
    "start_time": "2024-10-05T04:21:40.443Z"
   },
   {
    "duration": 5,
    "start_time": "2024-10-05T04:21:40.447Z"
   },
   {
    "duration": 6,
    "start_time": "2024-10-05T04:21:40.453Z"
   },
   {
    "duration": 164,
    "start_time": "2024-10-05T04:21:40.461Z"
   },
   {
    "duration": 101,
    "start_time": "2024-10-05T04:21:40.631Z"
   },
   {
    "duration": 103,
    "start_time": "2024-10-05T04:21:40.735Z"
   },
   {
    "duration": 4,
    "start_time": "2024-10-05T04:21:40.843Z"
   },
   {
    "duration": 97,
    "start_time": "2024-10-05T04:21:40.851Z"
   },
   {
    "duration": 19,
    "start_time": "2024-10-05T04:21:40.950Z"
   },
   {
    "duration": 59,
    "start_time": "2024-10-05T04:21:40.970Z"
   },
   {
    "duration": 4,
    "start_time": "2024-10-05T04:23:10.777Z"
   },
   {
    "duration": 27,
    "start_time": "2024-10-05T04:23:13.421Z"
   },
   {
    "duration": 874,
    "start_time": "2024-10-05T04:23:20.526Z"
   },
   {
    "duration": 211,
    "start_time": "2024-10-05T04:23:21.402Z"
   },
   {
    "duration": 15,
    "start_time": "2024-10-05T04:23:21.615Z"
   },
   {
    "duration": 10,
    "start_time": "2024-10-05T04:23:21.633Z"
   },
   {
    "duration": 33,
    "start_time": "2024-10-05T04:23:21.645Z"
   },
   {
    "duration": 10,
    "start_time": "2024-10-05T04:23:21.680Z"
   },
   {
    "duration": 34,
    "start_time": "2024-10-05T04:23:21.692Z"
   },
   {
    "duration": 32,
    "start_time": "2024-10-05T04:23:21.727Z"
   },
   {
    "duration": 11,
    "start_time": "2024-10-05T04:23:21.761Z"
   },
   {
    "duration": 8,
    "start_time": "2024-10-05T04:23:21.776Z"
   },
   {
    "duration": 60,
    "start_time": "2024-10-05T04:23:21.786Z"
   },
   {
    "duration": 21,
    "start_time": "2024-10-05T04:23:21.848Z"
   },
   {
    "duration": 539,
    "start_time": "2024-10-05T04:23:21.871Z"
   },
   {
    "duration": 25,
    "start_time": "2024-10-05T04:23:22.412Z"
   },
   {
    "duration": 461,
    "start_time": "2024-10-05T04:23:22.439Z"
   },
   {
    "duration": 26,
    "start_time": "2024-10-05T04:23:22.902Z"
   },
   {
    "duration": 442,
    "start_time": "2024-10-05T04:23:22.929Z"
   },
   {
    "duration": 23,
    "start_time": "2024-10-05T04:23:23.374Z"
   },
   {
    "duration": 525,
    "start_time": "2024-10-05T04:23:23.399Z"
   },
   {
    "duration": 20,
    "start_time": "2024-10-05T04:23:23.927Z"
   },
   {
    "duration": 459,
    "start_time": "2024-10-05T04:23:23.949Z"
   },
   {
    "duration": 24,
    "start_time": "2024-10-05T04:23:24.410Z"
   },
   {
    "duration": 452,
    "start_time": "2024-10-05T04:23:24.436Z"
   },
   {
    "duration": 12,
    "start_time": "2024-10-05T04:23:24.890Z"
   },
   {
    "duration": 21,
    "start_time": "2024-10-05T04:23:24.904Z"
   },
   {
    "duration": 3,
    "start_time": "2024-10-05T04:23:24.926Z"
   },
   {
    "duration": 4,
    "start_time": "2024-10-05T04:23:24.931Z"
   },
   {
    "duration": 12,
    "start_time": "2024-10-05T04:23:24.938Z"
   },
   {
    "duration": 6,
    "start_time": "2024-10-05T04:23:24.951Z"
   },
   {
    "duration": 8,
    "start_time": "2024-10-05T04:23:24.958Z"
   },
   {
    "duration": 4,
    "start_time": "2024-10-05T04:23:24.968Z"
   },
   {
    "duration": 51,
    "start_time": "2024-10-05T04:23:24.974Z"
   },
   {
    "duration": 6,
    "start_time": "2024-10-05T04:23:25.027Z"
   },
   {
    "duration": 100,
    "start_time": "2024-10-05T04:23:25.034Z"
   },
   {
    "duration": 96,
    "start_time": "2024-10-05T04:23:25.136Z"
   },
   {
    "duration": 104,
    "start_time": "2024-10-05T04:23:25.233Z"
   },
   {
    "duration": 4,
    "start_time": "2024-10-05T04:23:25.338Z"
   },
   {
    "duration": 93,
    "start_time": "2024-10-05T04:23:25.344Z"
   },
   {
    "duration": 22,
    "start_time": "2024-10-05T04:23:25.439Z"
   },
   {
    "duration": 5,
    "start_time": "2024-10-05T04:23:25.463Z"
   },
   {
    "duration": 4,
    "start_time": "2024-10-05T04:46:50.594Z"
   },
   {
    "duration": 31,
    "start_time": "2024-10-05T04:46:52.464Z"
   },
   {
    "duration": 25,
    "start_time": "2024-10-05T04:47:01.309Z"
   },
   {
    "duration": 26,
    "start_time": "2024-10-05T04:47:06.798Z"
   },
   {
    "duration": 4,
    "start_time": "2024-10-05T04:47:15.639Z"
   },
   {
    "duration": 24,
    "start_time": "2024-10-05T04:47:16.739Z"
   },
   {
    "duration": 22,
    "start_time": "2024-10-05T04:47:19.363Z"
   },
   {
    "duration": 7,
    "start_time": "2024-10-05T04:47:19.895Z"
   },
   {
    "duration": 4,
    "start_time": "2024-10-05T04:47:40.851Z"
   },
   {
    "duration": 24,
    "start_time": "2024-10-05T04:47:42.742Z"
   },
   {
    "duration": 23,
    "start_time": "2024-10-05T04:47:46.896Z"
   },
   {
    "duration": 22,
    "start_time": "2024-10-05T04:47:49.789Z"
   },
   {
    "duration": 23,
    "start_time": "2024-10-05T04:48:12.610Z"
   },
   {
    "duration": 6,
    "start_time": "2024-10-05T04:48:28.791Z"
   },
   {
    "duration": 4,
    "start_time": "2024-10-05T04:48:36.046Z"
   },
   {
    "duration": 22,
    "start_time": "2024-10-05T04:48:36.320Z"
   },
   {
    "duration": 5,
    "start_time": "2024-10-05T04:48:38.493Z"
   },
   {
    "duration": 22,
    "start_time": "2024-10-05T04:48:45.858Z"
   },
   {
    "duration": 25,
    "start_time": "2024-10-05T04:48:46.625Z"
   },
   {
    "duration": 6,
    "start_time": "2024-10-05T04:48:48.026Z"
   },
   {
    "duration": 19,
    "start_time": "2024-10-05T04:49:22.382Z"
   },
   {
    "duration": 23,
    "start_time": "2024-10-05T04:49:23.815Z"
   },
   {
    "duration": 5,
    "start_time": "2024-10-05T04:49:25.552Z"
   },
   {
    "duration": 19,
    "start_time": "2024-10-05T04:49:49.153Z"
   },
   {
    "duration": 5,
    "start_time": "2024-10-05T04:49:50.834Z"
   },
   {
    "duration": 20,
    "start_time": "2024-10-05T04:50:00.893Z"
   },
   {
    "duration": 5,
    "start_time": "2024-10-05T04:50:02.760Z"
   },
   {
    "duration": 19,
    "start_time": "2024-10-05T04:50:36.621Z"
   },
   {
    "duration": 6,
    "start_time": "2024-10-05T04:50:37.726Z"
   },
   {
    "duration": 23,
    "start_time": "2024-10-05T04:50:46.770Z"
   },
   {
    "duration": 21,
    "start_time": "2024-10-05T04:50:51.975Z"
   },
   {
    "duration": 4,
    "start_time": "2024-10-05T04:50:53.408Z"
   },
   {
    "duration": 19,
    "start_time": "2024-10-05T04:51:18.436Z"
   },
   {
    "duration": 8,
    "start_time": "2024-10-05T04:51:19.736Z"
   },
   {
    "duration": 23,
    "start_time": "2024-10-05T04:51:28.577Z"
   },
   {
    "duration": 20,
    "start_time": "2024-10-05T04:51:30.996Z"
   },
   {
    "duration": 6,
    "start_time": "2024-10-05T04:51:32.551Z"
   },
   {
    "duration": 19,
    "start_time": "2024-10-05T04:51:35.651Z"
   },
   {
    "duration": 6,
    "start_time": "2024-10-05T04:51:36.648Z"
   },
   {
    "duration": 18,
    "start_time": "2024-10-05T04:51:46.134Z"
   },
   {
    "duration": 5,
    "start_time": "2024-10-05T04:51:47.263Z"
   },
   {
    "duration": 5,
    "start_time": "2024-10-05T04:55:43.396Z"
   },
   {
    "duration": 90,
    "start_time": "2024-10-05T04:57:05.236Z"
   },
   {
    "duration": 26,
    "start_time": "2024-10-05T04:57:12.365Z"
   },
   {
    "duration": 22,
    "start_time": "2024-10-05T04:57:37.870Z"
   },
   {
    "duration": 25,
    "start_time": "2024-10-05T04:58:07.596Z"
   },
   {
    "duration": 22,
    "start_time": "2024-10-05T04:59:03.353Z"
   },
   {
    "duration": 22,
    "start_time": "2024-10-05T04:59:28.880Z"
   },
   {
    "duration": 2675,
    "start_time": "2024-10-07T23:42:52.981Z"
   },
   {
    "duration": 350,
    "start_time": "2024-10-07T23:42:55.658Z"
   },
   {
    "duration": 13,
    "start_time": "2024-10-07T23:42:56.010Z"
   },
   {
    "duration": 12,
    "start_time": "2024-10-07T23:42:56.030Z"
   },
   {
    "duration": 37,
    "start_time": "2024-10-07T23:42:56.045Z"
   },
   {
    "duration": 14,
    "start_time": "2024-10-07T23:42:56.084Z"
   },
   {
    "duration": 32,
    "start_time": "2024-10-07T23:42:56.100Z"
   },
   {
    "duration": 40,
    "start_time": "2024-10-07T23:42:56.135Z"
   },
   {
    "duration": 11,
    "start_time": "2024-10-07T23:42:56.177Z"
   },
   {
    "duration": 9,
    "start_time": "2024-10-07T23:42:56.190Z"
   },
   {
    "duration": 62,
    "start_time": "2024-10-07T23:42:56.201Z"
   },
   {
    "duration": 23,
    "start_time": "2024-10-07T23:42:56.266Z"
   },
   {
    "duration": 452,
    "start_time": "2024-10-07T23:42:56.290Z"
   },
   {
    "duration": 21,
    "start_time": "2024-10-07T23:42:56.746Z"
   },
   {
    "duration": 535,
    "start_time": "2024-10-07T23:42:56.769Z"
   },
   {
    "duration": 32,
    "start_time": "2024-10-07T23:42:57.306Z"
   },
   {
    "duration": 470,
    "start_time": "2024-10-07T23:42:57.340Z"
   },
   {
    "duration": 44,
    "start_time": "2024-10-07T23:42:57.812Z"
   },
   {
    "duration": 501,
    "start_time": "2024-10-07T23:42:57.859Z"
   },
   {
    "duration": 23,
    "start_time": "2024-10-07T23:42:58.362Z"
   },
   {
    "duration": 448,
    "start_time": "2024-10-07T23:42:58.387Z"
   },
   {
    "duration": 22,
    "start_time": "2024-10-07T23:42:58.837Z"
   },
   {
    "duration": 576,
    "start_time": "2024-10-07T23:42:58.861Z"
   },
   {
    "duration": 12,
    "start_time": "2024-10-07T23:42:59.439Z"
   },
   {
    "duration": 8,
    "start_time": "2024-10-07T23:42:59.453Z"
   },
   {
    "duration": 3,
    "start_time": "2024-10-07T23:42:59.463Z"
   },
   {
    "duration": 3,
    "start_time": "2024-10-07T23:42:59.468Z"
   },
   {
    "duration": 13,
    "start_time": "2024-10-07T23:42:59.473Z"
   },
   {
    "duration": 5,
    "start_time": "2024-10-07T23:42:59.488Z"
   },
   {
    "duration": 41,
    "start_time": "2024-10-07T23:42:59.495Z"
   },
   {
    "duration": 3,
    "start_time": "2024-10-07T23:42:59.537Z"
   },
   {
    "duration": 4,
    "start_time": "2024-10-07T23:42:59.542Z"
   },
   {
    "duration": 5,
    "start_time": "2024-10-07T23:42:59.548Z"
   },
   {
    "duration": 85,
    "start_time": "2024-10-07T23:42:59.555Z"
   },
   {
    "duration": 102,
    "start_time": "2024-10-07T23:42:59.641Z"
   },
   {
    "duration": 5,
    "start_time": "2024-10-08T00:03:40.348Z"
   },
   {
    "duration": 4,
    "start_time": "2024-10-08T00:04:39.384Z"
   },
   {
    "duration": 5,
    "start_time": "2024-10-08T00:04:53.254Z"
   },
   {
    "duration": 5,
    "start_time": "2024-10-08T00:04:58.787Z"
   },
   {
    "duration": 233,
    "start_time": "2024-10-08T00:11:44.621Z"
   },
   {
    "duration": 15,
    "start_time": "2024-10-08T00:12:53.174Z"
   },
   {
    "duration": 15,
    "start_time": "2024-10-08T00:13:15.146Z"
   },
   {
    "duration": 14,
    "start_time": "2024-10-08T00:13:18.008Z"
   },
   {
    "duration": 17,
    "start_time": "2024-10-08T00:13:21.728Z"
   },
   {
    "duration": 14,
    "start_time": "2024-10-08T00:13:33.561Z"
   },
   {
    "duration": 16,
    "start_time": "2024-10-08T00:13:39.923Z"
   },
   {
    "duration": 17,
    "start_time": "2024-10-08T00:13:44.924Z"
   },
   {
    "duration": 17,
    "start_time": "2024-10-08T00:14:22.531Z"
   },
   {
    "duration": 30,
    "start_time": "2024-10-08T00:15:19.314Z"
   },
   {
    "duration": 2546,
    "start_time": "2024-10-08T01:30:24.290Z"
   },
   {
    "duration": 373,
    "start_time": "2024-10-08T01:30:26.838Z"
   },
   {
    "duration": 12,
    "start_time": "2024-10-08T01:30:27.213Z"
   },
   {
    "duration": 14,
    "start_time": "2024-10-08T01:30:27.227Z"
   },
   {
    "duration": 34,
    "start_time": "2024-10-08T01:30:27.242Z"
   },
   {
    "duration": 11,
    "start_time": "2024-10-08T01:30:27.278Z"
   },
   {
    "duration": 38,
    "start_time": "2024-10-08T01:30:27.290Z"
   },
   {
    "duration": 32,
    "start_time": "2024-10-08T01:30:27.329Z"
   },
   {
    "duration": 11,
    "start_time": "2024-10-08T01:30:27.362Z"
   },
   {
    "duration": 9,
    "start_time": "2024-10-08T01:30:27.376Z"
   },
   {
    "duration": 59,
    "start_time": "2024-10-08T01:30:27.386Z"
   },
   {
    "duration": 22,
    "start_time": "2024-10-08T01:30:27.447Z"
   },
   {
    "duration": 527,
    "start_time": "2024-10-08T01:30:27.471Z"
   },
   {
    "duration": 30,
    "start_time": "2024-10-08T01:30:28.000Z"
   },
   {
    "duration": 470,
    "start_time": "2024-10-08T01:30:28.032Z"
   },
   {
    "duration": 30,
    "start_time": "2024-10-08T01:30:28.504Z"
   },
   {
    "duration": 457,
    "start_time": "2024-10-08T01:30:28.536Z"
   },
   {
    "duration": 30,
    "start_time": "2024-10-08T01:30:28.995Z"
   },
   {
    "duration": 440,
    "start_time": "2024-10-08T01:30:29.027Z"
   },
   {
    "duration": 21,
    "start_time": "2024-10-08T01:30:29.469Z"
   },
   {
    "duration": 541,
    "start_time": "2024-10-08T01:30:29.492Z"
   },
   {
    "duration": 21,
    "start_time": "2024-10-08T01:30:30.036Z"
   },
   {
    "duration": 444,
    "start_time": "2024-10-08T01:30:30.058Z"
   },
   {
    "duration": 11,
    "start_time": "2024-10-08T01:30:30.504Z"
   },
   {
    "duration": 8,
    "start_time": "2024-10-08T01:30:30.524Z"
   },
   {
    "duration": 5,
    "start_time": "2024-10-08T01:30:30.534Z"
   },
   {
    "duration": 3,
    "start_time": "2024-10-08T01:30:30.540Z"
   },
   {
    "duration": 12,
    "start_time": "2024-10-08T01:30:30.547Z"
   },
   {
    "duration": 6,
    "start_time": "2024-10-08T01:30:30.561Z"
   },
   {
    "duration": 7,
    "start_time": "2024-10-08T01:30:30.568Z"
   },
   {
    "duration": 46,
    "start_time": "2024-10-08T01:30:30.578Z"
   },
   {
    "duration": 5,
    "start_time": "2024-10-08T01:30:30.625Z"
   },
   {
    "duration": 7,
    "start_time": "2024-10-08T01:30:30.632Z"
   },
   {
    "duration": 97,
    "start_time": "2024-10-08T01:30:30.641Z"
   },
   {
    "duration": 90,
    "start_time": "2024-10-08T01:30:30.740Z"
   },
   {
    "duration": 5,
    "start_time": "2024-10-08T01:30:30.832Z"
   },
   {
    "duration": 102,
    "start_time": "2024-10-08T01:30:30.839Z"
   },
   {
    "duration": 5,
    "start_time": "2024-10-08T01:39:02.195Z"
   },
   {
    "duration": 214,
    "start_time": "2024-10-08T01:42:32.659Z"
   },
   {
    "duration": 14,
    "start_time": "2024-10-08T01:42:55.707Z"
   },
   {
    "duration": 14,
    "start_time": "2024-10-08T01:43:28.445Z"
   },
   {
    "duration": 11,
    "start_time": "2024-10-08T01:43:50.426Z"
   },
   {
    "duration": 6,
    "start_time": "2024-10-08T01:44:07.677Z"
   },
   {
    "duration": 5,
    "start_time": "2024-10-08T01:44:18.349Z"
   },
   {
    "duration": 5,
    "start_time": "2024-10-08T01:44:22.823Z"
   },
   {
    "duration": 11,
    "start_time": "2024-10-08T01:48:16.027Z"
   },
   {
    "duration": 17,
    "start_time": "2024-10-08T01:49:13.175Z"
   },
   {
    "duration": 5,
    "start_time": "2024-10-08T01:49:19.076Z"
   },
   {
    "duration": 11,
    "start_time": "2024-10-08T01:49:20.509Z"
   },
   {
    "duration": 3,
    "start_time": "2024-10-08T01:51:35.681Z"
   },
   {
    "duration": 6,
    "start_time": "2024-10-08T01:52:14.780Z"
   },
   {
    "duration": 7,
    "start_time": "2024-10-08T01:52:45.227Z"
   },
   {
    "duration": 420,
    "start_time": "2024-10-08T01:53:06.728Z"
   },
   {
    "duration": 5,
    "start_time": "2024-10-08T01:53:24.064Z"
   },
   {
    "duration": 5,
    "start_time": "2024-10-08T01:55:43.702Z"
   },
   {
    "duration": 4,
    "start_time": "2024-10-08T01:55:58.381Z"
   },
   {
    "duration": 5,
    "start_time": "2024-10-08T01:57:11.258Z"
   },
   {
    "duration": 4,
    "start_time": "2024-10-08T01:58:31.597Z"
   },
   {
    "duration": 4,
    "start_time": "2024-10-08T01:59:19.894Z"
   },
   {
    "duration": 3,
    "start_time": "2024-10-08T02:06:25.669Z"
   },
   {
    "duration": 2,
    "start_time": "2024-10-08T02:06:53.264Z"
   },
   {
    "duration": 3,
    "start_time": "2024-10-08T02:11:34.243Z"
   },
   {
    "duration": 321,
    "start_time": "2024-10-08T02:13:16.209Z"
   },
   {
    "duration": 3,
    "start_time": "2024-10-08T02:13:36.204Z"
   },
   {
    "duration": 56,
    "start_time": "2024-10-08T02:13:37.866Z"
   },
   {
    "duration": 3,
    "start_time": "2024-10-08T02:14:25.787Z"
   },
   {
    "duration": 57,
    "start_time": "2024-10-08T02:14:26.324Z"
   },
   {
    "duration": 3,
    "start_time": "2024-10-08T02:15:10.929Z"
   },
   {
    "duration": 12,
    "start_time": "2024-10-08T02:15:11.734Z"
   },
   {
    "duration": 2,
    "start_time": "2024-10-08T02:17:01.155Z"
   },
   {
    "duration": 3,
    "start_time": "2024-10-08T02:17:17.349Z"
   },
   {
    "duration": 13,
    "start_time": "2024-10-08T02:17:17.887Z"
   },
   {
    "duration": 10,
    "start_time": "2024-10-08T02:19:21.347Z"
   },
   {
    "duration": 18,
    "start_time": "2024-10-08T02:19:57.535Z"
   },
   {
    "duration": 10,
    "start_time": "2024-10-08T02:20:17.713Z"
   },
   {
    "duration": 2644,
    "start_time": "2024-10-08T23:10:50.241Z"
   },
   {
    "duration": 343,
    "start_time": "2024-10-08T23:10:52.887Z"
   },
   {
    "duration": 12,
    "start_time": "2024-10-08T23:10:53.232Z"
   },
   {
    "duration": 11,
    "start_time": "2024-10-08T23:10:53.247Z"
   },
   {
    "duration": 34,
    "start_time": "2024-10-08T23:10:53.260Z"
   },
   {
    "duration": 11,
    "start_time": "2024-10-08T23:10:53.296Z"
   },
   {
    "duration": 8,
    "start_time": "2024-10-08T23:10:53.310Z"
   },
   {
    "duration": 53,
    "start_time": "2024-10-08T23:10:53.319Z"
   },
   {
    "duration": 13,
    "start_time": "2024-10-08T23:10:53.375Z"
   },
   {
    "duration": 9,
    "start_time": "2024-10-08T23:10:53.391Z"
   },
   {
    "duration": 39,
    "start_time": "2024-10-08T23:10:53.402Z"
   },
   {
    "duration": 46,
    "start_time": "2024-10-08T23:10:53.442Z"
   },
   {
    "duration": 481,
    "start_time": "2024-10-08T23:10:53.490Z"
   },
   {
    "duration": 21,
    "start_time": "2024-10-08T23:10:53.975Z"
   },
   {
    "duration": 485,
    "start_time": "2024-10-08T23:10:53.997Z"
   },
   {
    "duration": 21,
    "start_time": "2024-10-08T23:10:54.484Z"
   },
   {
    "duration": 440,
    "start_time": "2024-10-08T23:10:54.507Z"
   },
   {
    "duration": 27,
    "start_time": "2024-10-08T23:10:54.949Z"
   },
   {
    "duration": 476,
    "start_time": "2024-10-08T23:10:54.978Z"
   },
   {
    "duration": 29,
    "start_time": "2024-10-08T23:10:55.456Z"
   },
   {
    "duration": 557,
    "start_time": "2024-10-08T23:10:55.488Z"
   },
   {
    "duration": 26,
    "start_time": "2024-10-08T23:10:56.047Z"
   },
   {
    "duration": 428,
    "start_time": "2024-10-08T23:10:56.074Z"
   },
   {
    "duration": 13,
    "start_time": "2024-10-08T23:10:56.504Z"
   },
   {
    "duration": 8,
    "start_time": "2024-10-08T23:10:56.519Z"
   },
   {
    "duration": 12,
    "start_time": "2024-10-08T23:10:56.529Z"
   },
   {
    "duration": 6,
    "start_time": "2024-10-08T23:10:56.552Z"
   },
   {
    "duration": 14,
    "start_time": "2024-10-08T23:10:56.573Z"
   },
   {
    "duration": 6,
    "start_time": "2024-10-08T23:10:56.590Z"
   },
   {
    "duration": 8,
    "start_time": "2024-10-08T23:10:56.598Z"
   },
   {
    "duration": 6,
    "start_time": "2024-10-08T23:10:56.608Z"
   },
   {
    "duration": 4,
    "start_time": "2024-10-08T23:10:56.616Z"
   },
   {
    "duration": 7,
    "start_time": "2024-10-08T23:10:56.670Z"
   },
   {
    "duration": 93,
    "start_time": "2024-10-08T23:10:56.679Z"
   },
   {
    "duration": 103,
    "start_time": "2024-10-08T23:10:56.774Z"
   },
   {
    "duration": 319,
    "start_time": "2024-10-08T23:10:56.879Z"
   },
   {
    "duration": 0,
    "start_time": "2024-10-08T23:10:57.200Z"
   },
   {
    "duration": 0,
    "start_time": "2024-10-08T23:10:57.201Z"
   },
   {
    "duration": 0,
    "start_time": "2024-10-08T23:10:57.202Z"
   },
   {
    "duration": 0,
    "start_time": "2024-10-08T23:10:57.203Z"
   },
   {
    "duration": 4,
    "start_time": "2024-10-08T23:11:48.993Z"
   },
   {
    "duration": 11,
    "start_time": "2024-10-08T23:12:01.628Z"
   },
   {
    "duration": 5,
    "start_time": "2024-10-08T23:12:02.781Z"
   },
   {
    "duration": 3,
    "start_time": "2024-10-08T23:12:36.175Z"
   },
   {
    "duration": 12,
    "start_time": "2024-10-08T23:12:37.360Z"
   },
   {
    "duration": 19,
    "start_time": "2024-10-08T23:18:01.057Z"
   },
   {
    "duration": 3,
    "start_time": "2024-10-08T23:18:06.298Z"
   },
   {
    "duration": 17,
    "start_time": "2024-10-08T23:27:26.386Z"
   },
   {
    "duration": 13,
    "start_time": "2024-10-08T23:28:19.199Z"
   },
   {
    "duration": 4,
    "start_time": "2024-10-08T23:28:32.733Z"
   },
   {
    "duration": 4,
    "start_time": "2024-10-08T23:28:44.617Z"
   },
   {
    "duration": 5,
    "start_time": "2024-10-08T23:30:52.919Z"
   },
   {
    "duration": 17,
    "start_time": "2024-10-08T23:32:13.680Z"
   },
   {
    "duration": 16,
    "start_time": "2024-10-08T23:32:32.752Z"
   },
   {
    "duration": 301,
    "start_time": "2024-10-08T23:33:17.233Z"
   },
   {
    "duration": 303,
    "start_time": "2024-10-08T23:33:33.421Z"
   },
   {
    "duration": 40,
    "start_time": "2024-10-08T23:33:50.368Z"
   },
   {
    "duration": 149,
    "start_time": "2024-10-08T23:34:07.347Z"
   },
   {
    "duration": 10,
    "start_time": "2024-10-08T23:36:02.114Z"
   },
   {
    "duration": 5,
    "start_time": "2024-10-08T23:36:02.699Z"
   },
   {
    "duration": 58,
    "start_time": "2024-10-08T23:36:09.458Z"
   },
   {
    "duration": 11,
    "start_time": "2024-10-08T23:36:31.151Z"
   },
   {
    "duration": 5,
    "start_time": "2024-10-08T23:36:31.603Z"
   },
   {
    "duration": 18,
    "start_time": "2024-10-08T23:40:08.162Z"
   },
   {
    "duration": 392,
    "start_time": "2024-10-08T23:40:17.691Z"
   },
   {
    "duration": 4,
    "start_time": "2024-10-08T23:42:29.489Z"
   },
   {
    "duration": 3,
    "start_time": "2024-10-08T23:43:14.298Z"
   },
   {
    "duration": 5,
    "start_time": "2024-10-08T23:43:21.304Z"
   },
   {
    "duration": 4,
    "start_time": "2024-10-08T23:43:47.027Z"
   },
   {
    "duration": 178,
    "start_time": "2024-10-08T23:44:20.780Z"
   },
   {
    "duration": 58,
    "start_time": "2024-10-08T23:46:25.952Z"
   },
   {
    "duration": 4,
    "start_time": "2024-10-08T23:47:10.877Z"
   },
   {
    "duration": 4,
    "start_time": "2024-10-08T23:47:26.729Z"
   },
   {
    "duration": 564,
    "start_time": "2024-10-08T23:48:06.754Z"
   },
   {
    "duration": 4,
    "start_time": "2024-10-08T23:48:31.942Z"
   },
   {
    "duration": 3,
    "start_time": "2024-10-08T23:51:42.866Z"
   },
   {
    "duration": 3,
    "start_time": "2024-10-08T23:52:01.907Z"
   },
   {
    "duration": 16,
    "start_time": "2024-10-09T00:00:47.258Z"
   },
   {
    "duration": 355,
    "start_time": "2024-10-09T00:01:17.152Z"
   },
   {
    "duration": 340,
    "start_time": "2024-10-09T00:05:25.124Z"
   },
   {
    "duration": 71,
    "start_time": "2024-10-09T00:07:50.951Z"
   },
   {
    "duration": 39,
    "start_time": "2024-10-09T00:08:16.036Z"
   },
   {
    "duration": 546,
    "start_time": "2024-10-09T00:08:32.130Z"
   },
   {
    "duration": 344,
    "start_time": "2024-10-09T00:08:43.635Z"
   },
   {
    "duration": 100,
    "start_time": "2024-10-09T00:09:19.910Z"
   },
   {
    "duration": 35,
    "start_time": "2024-10-09T00:09:32.507Z"
   },
   {
    "duration": 14,
    "start_time": "2024-10-09T00:10:16.494Z"
   },
   {
    "duration": 3,
    "start_time": "2024-10-09T00:12:28.503Z"
   },
   {
    "duration": 4,
    "start_time": "2024-10-09T00:12:39.387Z"
   },
   {
    "duration": 4,
    "start_time": "2024-10-09T00:13:18.852Z"
   },
   {
    "duration": 2520,
    "start_time": "2024-10-09T11:42:27.604Z"
   },
   {
    "duration": 350,
    "start_time": "2024-10-09T11:42:30.127Z"
   },
   {
    "duration": 12,
    "start_time": "2024-10-09T11:42:30.478Z"
   },
   {
    "duration": 11,
    "start_time": "2024-10-09T11:42:30.491Z"
   },
   {
    "duration": 32,
    "start_time": "2024-10-09T11:42:30.524Z"
   },
   {
    "duration": 10,
    "start_time": "2024-10-09T11:42:30.558Z"
   },
   {
    "duration": 9,
    "start_time": "2024-10-09T11:42:30.570Z"
   },
   {
    "duration": 51,
    "start_time": "2024-10-09T11:42:30.580Z"
   },
   {
    "duration": 10,
    "start_time": "2024-10-09T11:42:30.633Z"
   },
   {
    "duration": 8,
    "start_time": "2024-10-09T11:42:30.646Z"
   },
   {
    "duration": 36,
    "start_time": "2024-10-09T11:42:30.655Z"
   },
   {
    "duration": 42,
    "start_time": "2024-10-09T11:42:30.692Z"
   },
   {
    "duration": 534,
    "start_time": "2024-10-09T11:42:30.736Z"
   },
   {
    "duration": 21,
    "start_time": "2024-10-09T11:42:31.275Z"
   },
   {
    "duration": 423,
    "start_time": "2024-10-09T11:42:31.297Z"
   },
   {
    "duration": 21,
    "start_time": "2024-10-09T11:42:31.722Z"
   },
   {
    "duration": 454,
    "start_time": "2024-10-09T11:42:31.745Z"
   },
   {
    "duration": 25,
    "start_time": "2024-10-09T11:42:32.201Z"
   },
   {
    "duration": 438,
    "start_time": "2024-10-09T11:42:32.228Z"
   },
   {
    "duration": 23,
    "start_time": "2024-10-09T11:42:32.668Z"
   },
   {
    "duration": 524,
    "start_time": "2024-10-09T11:42:32.692Z"
   },
   {
    "duration": 25,
    "start_time": "2024-10-09T11:42:33.218Z"
   },
   {
    "duration": 445,
    "start_time": "2024-10-09T11:42:33.244Z"
   },
   {
    "duration": 12,
    "start_time": "2024-10-09T11:42:33.690Z"
   },
   {
    "duration": 20,
    "start_time": "2024-10-09T11:42:33.704Z"
   },
   {
    "duration": 4,
    "start_time": "2024-10-09T11:42:33.725Z"
   },
   {
    "duration": 3,
    "start_time": "2024-10-09T11:42:33.731Z"
   },
   {
    "duration": 12,
    "start_time": "2024-10-09T11:42:33.736Z"
   },
   {
    "duration": 6,
    "start_time": "2024-10-09T11:42:33.750Z"
   },
   {
    "duration": 7,
    "start_time": "2024-10-09T11:42:33.758Z"
   },
   {
    "duration": 57,
    "start_time": "2024-10-09T11:42:33.766Z"
   },
   {
    "duration": 5,
    "start_time": "2024-10-09T11:42:33.825Z"
   },
   {
    "duration": 6,
    "start_time": "2024-10-09T11:42:33.832Z"
   },
   {
    "duration": 94,
    "start_time": "2024-10-09T11:42:33.840Z"
   },
   {
    "duration": 97,
    "start_time": "2024-10-09T11:42:33.936Z"
   },
   {
    "duration": 8,
    "start_time": "2024-10-09T11:42:34.035Z"
   },
   {
    "duration": 12,
    "start_time": "2024-10-09T11:42:34.125Z"
   },
   {
    "duration": 4,
    "start_time": "2024-10-09T11:42:34.140Z"
   },
   {
    "duration": 3,
    "start_time": "2024-10-09T11:42:34.146Z"
   },
   {
    "duration": 12,
    "start_time": "2024-10-09T11:42:34.151Z"
   },
   {
    "duration": 572,
    "start_time": "2024-10-09T11:42:34.167Z"
   },
   {
    "duration": 347,
    "start_time": "2024-10-09T11:42:34.740Z"
   },
   {
    "duration": 3,
    "start_time": "2024-10-09T11:42:35.089Z"
   },
   {
    "duration": 230,
    "start_time": "2024-10-09T11:42:35.094Z"
   },
   {
    "duration": 13,
    "start_time": "2024-10-09T11:48:23.059Z"
   },
   {
    "duration": 3,
    "start_time": "2024-10-09T12:01:11.060Z"
   },
   {
    "duration": 21,
    "start_time": "2024-10-09T12:01:33.827Z"
   },
   {
    "duration": 27,
    "start_time": "2024-10-09T12:01:41.010Z"
   },
   {
    "duration": 20,
    "start_time": "2024-10-09T12:01:44.275Z"
   },
   {
    "duration": 6,
    "start_time": "2024-10-09T12:01:48.220Z"
   },
   {
    "duration": 3,
    "start_time": "2024-10-09T12:02:40.105Z"
   },
   {
    "duration": 7,
    "start_time": "2024-10-09T12:03:10.191Z"
   },
   {
    "duration": 4,
    "start_time": "2024-10-09T12:05:55.648Z"
   },
   {
    "duration": 5,
    "start_time": "2024-10-09T12:06:01.235Z"
   },
   {
    "duration": 2,
    "start_time": "2024-10-09T12:06:40.886Z"
   },
   {
    "duration": 4,
    "start_time": "2024-10-09T12:06:47.216Z"
   },
   {
    "duration": 3,
    "start_time": "2024-10-09T12:07:18.960Z"
   },
   {
    "duration": 229,
    "start_time": "2024-10-09T12:11:12.287Z"
   },
   {
    "duration": 854,
    "start_time": "2024-10-09T12:11:34.050Z"
   },
   {
    "duration": 210,
    "start_time": "2024-10-09T12:11:35.069Z"
   },
   {
    "duration": 12,
    "start_time": "2024-10-09T12:11:37.020Z"
   },
   {
    "duration": 11,
    "start_time": "2024-10-09T12:11:39.348Z"
   },
   {
    "duration": 35,
    "start_time": "2024-10-09T12:11:40.966Z"
   },
   {
    "duration": 11,
    "start_time": "2024-10-09T12:11:41.825Z"
   },
   {
    "duration": 10,
    "start_time": "2024-10-09T12:11:42.016Z"
   },
   {
    "duration": 33,
    "start_time": "2024-10-09T12:11:42.386Z"
   },
   {
    "duration": 11,
    "start_time": "2024-10-09T12:11:42.747Z"
   },
   {
    "duration": 8,
    "start_time": "2024-10-09T12:11:42.932Z"
   },
   {
    "duration": 40,
    "start_time": "2024-10-09T12:11:43.290Z"
   },
   {
    "duration": 22,
    "start_time": "2024-10-09T12:11:43.909Z"
   },
   {
    "duration": 492,
    "start_time": "2024-10-09T12:11:44.197Z"
   },
   {
    "duration": 21,
    "start_time": "2024-10-09T12:11:46.361Z"
   },
   {
    "duration": 445,
    "start_time": "2024-10-09T12:11:47.421Z"
   },
   {
    "duration": 22,
    "start_time": "2024-10-09T12:11:48.995Z"
   },
   {
    "duration": 408,
    "start_time": "2024-10-09T12:11:49.833Z"
   },
   {
    "duration": 21,
    "start_time": "2024-10-09T12:11:52.646Z"
   },
   {
    "duration": 490,
    "start_time": "2024-10-09T12:11:53.530Z"
   },
   {
    "duration": 22,
    "start_time": "2024-10-09T12:11:55.279Z"
   },
   {
    "duration": 418,
    "start_time": "2024-10-09T12:11:55.590Z"
   },
   {
    "duration": 21,
    "start_time": "2024-10-09T12:11:57.539Z"
   },
   {
    "duration": 421,
    "start_time": "2024-10-09T12:11:57.821Z"
   },
   {
    "duration": 13,
    "start_time": "2024-10-09T12:12:01.422Z"
   },
   {
    "duration": 13,
    "start_time": "2024-10-09T12:12:11.314Z"
   },
   {
    "duration": 4,
    "start_time": "2024-10-09T12:12:28.933Z"
   },
   {
    "duration": 3,
    "start_time": "2024-10-09T12:12:29.572Z"
   },
   {
    "duration": 13,
    "start_time": "2024-10-09T12:12:49.167Z"
   },
   {
    "duration": 6,
    "start_time": "2024-10-09T12:12:50.226Z"
   },
   {
    "duration": 8,
    "start_time": "2024-10-09T12:13:02.285Z"
   },
   {
    "duration": 4,
    "start_time": "2024-10-09T12:13:06.438Z"
   },
   {
    "duration": 9,
    "start_time": "2024-10-09T12:13:11.453Z"
   },
   {
    "duration": 4,
    "start_time": "2024-10-09T12:13:15.809Z"
   },
   {
    "duration": 35,
    "start_time": "2024-10-09T12:13:18.747Z"
   },
   {
    "duration": 36,
    "start_time": "2024-10-09T12:13:22.077Z"
   },
   {
    "duration": 4,
    "start_time": "2024-10-09T12:13:25.042Z"
   },
   {
    "duration": 11,
    "start_time": "2024-10-09T12:13:31.617Z"
   },
   {
    "duration": 5,
    "start_time": "2024-10-09T12:13:32.436Z"
   },
   {
    "duration": 3,
    "start_time": "2024-10-09T12:13:35.540Z"
   },
   {
    "duration": 19,
    "start_time": "2024-10-09T12:13:36.156Z"
   },
   {
    "duration": 555,
    "start_time": "2024-10-09T12:13:40.702Z"
   },
   {
    "duration": 326,
    "start_time": "2024-10-09T12:13:41.422Z"
   },
   {
    "duration": 3,
    "start_time": "2024-10-09T12:17:47.710Z"
   },
   {
    "duration": 3,
    "start_time": "2024-10-09T12:19:30.373Z"
   },
   {
    "duration": 3,
    "start_time": "2024-10-09T12:20:25.588Z"
   },
   {
    "duration": 18,
    "start_time": "2024-10-09T12:20:58.083Z"
   },
   {
    "duration": 5,
    "start_time": "2024-10-09T12:21:07.355Z"
   },
   {
    "duration": 7,
    "start_time": "2024-10-09T12:22:27.515Z"
   },
   {
    "duration": 21,
    "start_time": "2024-10-09T12:22:33.714Z"
   },
   {
    "duration": 5,
    "start_time": "2024-10-09T12:22:40.194Z"
   },
   {
    "duration": 5,
    "start_time": "2024-10-09T12:24:12.735Z"
   },
   {
    "duration": 7,
    "start_time": "2024-10-09T12:24:26.793Z"
   },
   {
    "duration": 4,
    "start_time": "2024-10-09T12:24:49.510Z"
   },
   {
    "duration": 4,
    "start_time": "2024-10-09T12:24:52.251Z"
   },
   {
    "duration": 644,
    "start_time": "2024-10-09T12:25:27.553Z"
   },
   {
    "duration": 8,
    "start_time": "2024-10-09T12:25:40.766Z"
   },
   {
    "duration": 762,
    "start_time": "2024-10-09T12:26:41.716Z"
   },
   {
    "duration": 653,
    "start_time": "2024-10-09T12:26:51.802Z"
   },
   {
    "duration": 4,
    "start_time": "2024-10-09T12:27:18.032Z"
   },
   {
    "duration": 5,
    "start_time": "2024-10-09T12:27:28.761Z"
   },
   {
    "duration": 5,
    "start_time": "2024-10-09T12:27:50.032Z"
   },
   {
    "duration": 3,
    "start_time": "2024-10-09T12:30:02.110Z"
   },
   {
    "duration": 20,
    "start_time": "2024-10-09T12:30:02.518Z"
   },
   {
    "duration": 5,
    "start_time": "2024-10-09T12:30:24.429Z"
   },
   {
    "duration": 5,
    "start_time": "2024-10-09T12:30:32.219Z"
   },
   {
    "duration": 70,
    "start_time": "2024-10-09T12:31:08.711Z"
   },
   {
    "duration": 7,
    "start_time": "2024-10-09T12:31:23.583Z"
   },
   {
    "duration": 49,
    "start_time": "2024-10-09T12:32:03.096Z"
   },
   {
    "duration": 15,
    "start_time": "2024-10-09T12:34:00.718Z"
   },
   {
    "duration": 9,
    "start_time": "2024-10-09T12:34:07.500Z"
   },
   {
    "duration": 7,
    "start_time": "2024-10-09T12:34:16.064Z"
   },
   {
    "duration": 7,
    "start_time": "2024-10-09T12:34:33.137Z"
   },
   {
    "duration": 7,
    "start_time": "2024-10-09T12:35:30.241Z"
   },
   {
    "duration": 7,
    "start_time": "2024-10-09T12:35:49.514Z"
   },
   {
    "duration": 58,
    "start_time": "2024-10-09T12:36:50.182Z"
   },
   {
    "duration": 9,
    "start_time": "2024-10-09T12:37:22.935Z"
   },
   {
    "duration": 8,
    "start_time": "2024-10-09T12:37:55.061Z"
   },
   {
    "duration": 8,
    "start_time": "2024-10-09T12:38:19.983Z"
   },
   {
    "duration": 7,
    "start_time": "2024-10-09T12:38:34.216Z"
   },
   {
    "duration": 9,
    "start_time": "2024-10-09T12:42:34.099Z"
   },
   {
    "duration": 9,
    "start_time": "2024-10-09T12:43:01.968Z"
   },
   {
    "duration": 9,
    "start_time": "2024-10-09T12:43:17.681Z"
   },
   {
    "duration": 8,
    "start_time": "2024-10-09T12:43:35.045Z"
   },
   {
    "duration": 7,
    "start_time": "2024-10-09T12:45:02.359Z"
   },
   {
    "duration": 6,
    "start_time": "2024-10-09T12:50:58.086Z"
   },
   {
    "duration": 16,
    "start_time": "2024-10-09T12:51:05.884Z"
   },
   {
    "duration": 6,
    "start_time": "2024-10-09T12:51:14.505Z"
   },
   {
    "duration": 9,
    "start_time": "2024-10-09T12:51:38.056Z"
   },
   {
    "duration": 17,
    "start_time": "2024-10-09T12:52:04.306Z"
   },
   {
    "duration": 9,
    "start_time": "2024-10-09T12:52:17.815Z"
   },
   {
    "duration": 16,
    "start_time": "2024-10-09T12:57:39.534Z"
   },
   {
    "duration": 7,
    "start_time": "2024-10-09T12:57:52.395Z"
   },
   {
    "duration": 8,
    "start_time": "2024-10-09T12:58:27.199Z"
   },
   {
    "duration": 8,
    "start_time": "2024-10-09T12:58:34.654Z"
   },
   {
    "duration": 8,
    "start_time": "2024-10-09T12:58:54.385Z"
   },
   {
    "duration": 8,
    "start_time": "2024-10-09T12:59:12.978Z"
   },
   {
    "duration": 11,
    "start_time": "2024-10-09T12:59:18.141Z"
   },
   {
    "duration": 9,
    "start_time": "2024-10-09T12:59:29.388Z"
   },
   {
    "duration": 7,
    "start_time": "2024-10-09T12:59:33.340Z"
   },
   {
    "duration": 8,
    "start_time": "2024-10-09T12:59:45.908Z"
   },
   {
    "duration": 8,
    "start_time": "2024-10-09T13:03:46.199Z"
   },
   {
    "duration": 4,
    "start_time": "2024-10-09T13:05:03.224Z"
   },
   {
    "duration": 8,
    "start_time": "2024-10-09T13:05:30.741Z"
   },
   {
    "duration": 7,
    "start_time": "2024-10-09T13:08:27.668Z"
   },
   {
    "duration": 3,
    "start_time": "2024-10-09T13:08:28.454Z"
   },
   {
    "duration": 13,
    "start_time": "2024-10-09T13:09:17.563Z"
   },
   {
    "duration": 3,
    "start_time": "2024-10-09T13:09:31.098Z"
   },
   {
    "duration": 7,
    "start_time": "2024-10-09T13:09:38.676Z"
   },
   {
    "duration": 5,
    "start_time": "2024-10-09T13:16:08.211Z"
   },
   {
    "duration": 36,
    "start_time": "2024-10-09T13:16:10.310Z"
   },
   {
    "duration": 35,
    "start_time": "2024-10-09T13:16:34.522Z"
   },
   {
    "duration": 4,
    "start_time": "2024-10-09T13:18:00.268Z"
   },
   {
    "duration": 11,
    "start_time": "2024-10-09T13:18:05.212Z"
   },
   {
    "duration": 5,
    "start_time": "2024-10-09T13:18:06.504Z"
   },
   {
    "duration": 3,
    "start_time": "2024-10-09T13:18:14.376Z"
   },
   {
    "duration": 21,
    "start_time": "2024-10-09T13:18:15.510Z"
   },
   {
    "duration": 9,
    "start_time": "2024-10-09T13:18:21.253Z"
   },
   {
    "duration": 667,
    "start_time": "2024-10-09T13:18:29.157Z"
   },
   {
    "duration": 12,
    "start_time": "2024-10-09T13:18:45.042Z"
   },
   {
    "duration": 22,
    "start_time": "2024-10-09T13:19:01.300Z"
   },
   {
    "duration": 840,
    "start_time": "2024-10-09T13:19:23.628Z"
   },
   {
    "duration": 2645,
    "start_time": "2024-10-10T00:04:17.148Z"
   },
   {
    "duration": 326,
    "start_time": "2024-10-10T00:04:19.795Z"
   },
   {
    "duration": 12,
    "start_time": "2024-10-10T00:04:20.123Z"
   },
   {
    "duration": 11,
    "start_time": "2024-10-10T00:04:20.138Z"
   },
   {
    "duration": 34,
    "start_time": "2024-10-10T00:04:20.151Z"
   },
   {
    "duration": 10,
    "start_time": "2024-10-10T00:04:20.186Z"
   },
   {
    "duration": 33,
    "start_time": "2024-10-10T00:04:20.198Z"
   },
   {
    "duration": 32,
    "start_time": "2024-10-10T00:04:20.233Z"
   },
   {
    "duration": 10,
    "start_time": "2024-10-10T00:04:20.266Z"
   },
   {
    "duration": 9,
    "start_time": "2024-10-10T00:04:20.280Z"
   },
   {
    "duration": 64,
    "start_time": "2024-10-10T00:04:20.290Z"
   },
   {
    "duration": 22,
    "start_time": "2024-10-10T00:04:20.356Z"
   },
   {
    "duration": 460,
    "start_time": "2024-10-10T00:04:20.380Z"
   },
   {
    "duration": 21,
    "start_time": "2024-10-10T00:04:20.841Z"
   },
   {
    "duration": 487,
    "start_time": "2024-10-10T00:04:20.863Z"
   },
   {
    "duration": 21,
    "start_time": "2024-10-10T00:04:21.352Z"
   },
   {
    "duration": 453,
    "start_time": "2024-10-10T00:04:21.374Z"
   },
   {
    "duration": 22,
    "start_time": "2024-10-10T00:04:21.828Z"
   },
   {
    "duration": 482,
    "start_time": "2024-10-10T00:04:21.852Z"
   },
   {
    "duration": 22,
    "start_time": "2024-10-10T00:04:22.336Z"
   },
   {
    "duration": 450,
    "start_time": "2024-10-10T00:04:22.360Z"
   },
   {
    "duration": 22,
    "start_time": "2024-10-10T00:04:22.812Z"
   },
   {
    "duration": 497,
    "start_time": "2024-10-10T00:04:22.835Z"
   },
   {
    "duration": 13,
    "start_time": "2024-10-10T00:04:23.333Z"
   },
   {
    "duration": 14,
    "start_time": "2024-10-10T00:04:23.347Z"
   },
   {
    "duration": 3,
    "start_time": "2024-10-10T00:04:23.363Z"
   },
   {
    "duration": 3,
    "start_time": "2024-10-10T00:04:23.368Z"
   },
   {
    "duration": 12,
    "start_time": "2024-10-10T00:04:23.375Z"
   },
   {
    "duration": 5,
    "start_time": "2024-10-10T00:04:23.388Z"
   },
   {
    "duration": 8,
    "start_time": "2024-10-10T00:04:23.424Z"
   },
   {
    "duration": 8,
    "start_time": "2024-10-10T00:04:23.433Z"
   },
   {
    "duration": 84,
    "start_time": "2024-10-10T00:04:23.443Z"
   },
   {
    "duration": 3,
    "start_time": "2024-10-10T00:04:23.528Z"
   },
   {
    "duration": 7,
    "start_time": "2024-10-10T00:04:23.532Z"
   },
   {
    "duration": 5,
    "start_time": "2024-10-10T00:04:23.541Z"
   },
   {
    "duration": 82,
    "start_time": "2024-10-10T00:04:23.548Z"
   },
   {
    "duration": 115,
    "start_time": "2024-10-10T00:04:23.632Z"
   },
   {
    "duration": 5,
    "start_time": "2024-10-10T00:04:23.749Z"
   },
   {
    "duration": 72,
    "start_time": "2024-10-10T00:04:23.755Z"
   },
   {
    "duration": 6,
    "start_time": "2024-10-10T00:04:23.831Z"
   },
   {
    "duration": 3,
    "start_time": "2024-10-10T00:04:23.839Z"
   },
   {
    "duration": 21,
    "start_time": "2024-10-10T00:04:23.844Z"
   },
   {
    "duration": 715,
    "start_time": "2024-10-10T00:04:23.867Z"
   },
   {
    "duration": 1056,
    "start_time": "2024-10-10T00:04:24.584Z"
   },
   {
    "duration": 0,
    "start_time": "2024-10-10T00:04:25.642Z"
   },
   {
    "duration": 0,
    "start_time": "2024-10-10T00:04:25.643Z"
   },
   {
    "duration": 14,
    "start_time": "2024-10-10T00:05:07.677Z"
   },
   {
    "duration": 83,
    "start_time": "2024-10-10T00:05:42.301Z"
   },
   {
    "duration": 13,
    "start_time": "2024-10-10T00:05:58.344Z"
   },
   {
    "duration": 81,
    "start_time": "2024-10-10T00:06:28.641Z"
   },
   {
    "duration": 13,
    "start_time": "2024-10-10T00:10:08.647Z"
   },
   {
    "duration": 90,
    "start_time": "2024-10-10T00:10:32.043Z"
   },
   {
    "duration": 80,
    "start_time": "2024-10-10T00:10:53.183Z"
   },
   {
    "duration": 13,
    "start_time": "2024-10-10T00:12:14.293Z"
   },
   {
    "duration": 13,
    "start_time": "2024-10-10T00:12:53.146Z"
   },
   {
    "duration": 13,
    "start_time": "2024-10-10T00:13:12.115Z"
   },
   {
    "duration": 84,
    "start_time": "2024-10-10T00:13:47.633Z"
   },
   {
    "duration": 90,
    "start_time": "2024-10-10T00:15:26.895Z"
   },
   {
    "duration": 7,
    "start_time": "2024-10-10T00:16:16.137Z"
   },
   {
    "duration": 9,
    "start_time": "2024-10-10T00:16:28.756Z"
   },
   {
    "duration": 84,
    "start_time": "2024-10-10T00:16:40.204Z"
   },
   {
    "duration": 85,
    "start_time": "2024-10-10T00:16:47.872Z"
   },
   {
    "duration": 13,
    "start_time": "2024-10-10T00:17:04.753Z"
   },
   {
    "duration": 13,
    "start_time": "2024-10-10T00:17:14.391Z"
   },
   {
    "duration": 14,
    "start_time": "2024-10-10T00:17:23.097Z"
   },
   {
    "duration": 14,
    "start_time": "2024-10-10T00:17:28.367Z"
   },
   {
    "duration": 25,
    "start_time": "2024-10-10T00:17:33.799Z"
   },
   {
    "duration": 14,
    "start_time": "2024-10-10T00:17:48.339Z"
   },
   {
    "duration": 83,
    "start_time": "2024-10-10T00:18:15.684Z"
   },
   {
    "duration": 80,
    "start_time": "2024-10-10T00:18:39.299Z"
   },
   {
    "duration": 82,
    "start_time": "2024-10-10T00:19:29.308Z"
   },
   {
    "duration": 81,
    "start_time": "2024-10-10T00:20:02.869Z"
   },
   {
    "duration": 82,
    "start_time": "2024-10-10T00:21:06.248Z"
   },
   {
    "duration": 14,
    "start_time": "2024-10-10T00:22:07.606Z"
   },
   {
    "duration": 6,
    "start_time": "2024-10-10T00:22:13.980Z"
   },
   {
    "duration": 18927,
    "start_time": "2024-10-10T00:22:40.000Z"
   },
   {
    "duration": 13,
    "start_time": "2024-10-10T00:23:14.722Z"
   },
   {
    "duration": 5,
    "start_time": "2024-10-10T00:23:23.484Z"
   },
   {
    "duration": 6,
    "start_time": "2024-10-10T00:24:16.586Z"
   },
   {
    "duration": 13,
    "start_time": "2024-10-10T00:24:42.536Z"
   },
   {
    "duration": 19125,
    "start_time": "2024-10-10T00:24:54.870Z"
   },
   {
    "duration": 7,
    "start_time": "2024-10-10T00:26:07.072Z"
   },
   {
    "duration": 1155,
    "start_time": "2024-10-10T00:26:52.717Z"
   },
   {
    "duration": 13,
    "start_time": "2024-10-10T00:27:45.352Z"
   },
   {
    "duration": 16,
    "start_time": "2024-10-10T00:28:01.790Z"
   },
   {
    "duration": 7,
    "start_time": "2024-10-10T00:28:13.571Z"
   },
   {
    "duration": 10,
    "start_time": "2024-10-10T00:28:26.859Z"
   },
   {
    "duration": 13,
    "start_time": "2024-10-10T00:29:17.896Z"
   },
   {
    "duration": 1167,
    "start_time": "2024-10-10T00:29:26.181Z"
   },
   {
    "duration": 14,
    "start_time": "2024-10-10T00:29:40.665Z"
   },
   {
    "duration": 8,
    "start_time": "2024-10-10T00:29:52.183Z"
   },
   {
    "duration": 668,
    "start_time": "2024-10-10T00:30:29.294Z"
   },
   {
    "duration": 6,
    "start_time": "2024-10-10T00:30:35.716Z"
   },
   {
    "duration": 464,
    "start_time": "2024-10-10T00:31:31.364Z"
   },
   {
    "duration": 638,
    "start_time": "2024-10-10T00:31:40.286Z"
   },
   {
    "duration": 5,
    "start_time": "2024-10-10T00:31:42.676Z"
   },
   {
    "duration": 58,
    "start_time": "2024-10-10T00:32:14.627Z"
   },
   {
    "duration": 3,
    "start_time": "2024-10-10T00:32:51.469Z"
   },
   {
    "duration": 83,
    "start_time": "2024-10-10T00:32:52.116Z"
   },
   {
    "duration": 13,
    "start_time": "2024-10-10T00:33:23.466Z"
   },
   {
    "duration": 14,
    "start_time": "2024-10-10T00:33:42.492Z"
   },
   {
    "duration": 8,
    "start_time": "2024-10-10T00:33:57.710Z"
   },
   {
    "duration": 16,
    "start_time": "2024-10-10T00:34:15.546Z"
   },
   {
    "duration": 51,
    "start_time": "2024-10-10T00:34:23.466Z"
   },
   {
    "duration": 11,
    "start_time": "2024-10-10T00:34:30.765Z"
   },
   {
    "duration": 3,
    "start_time": "2024-10-10T00:34:36.256Z"
   },
   {
    "duration": 18,
    "start_time": "2024-10-10T00:34:45.110Z"
   },
   {
    "duration": 60,
    "start_time": "2024-10-10T00:35:08.612Z"
   },
   {
    "duration": 59,
    "start_time": "2024-10-10T00:36:35.697Z"
   },
   {
    "duration": 4,
    "start_time": "2024-10-10T00:37:17.359Z"
   },
   {
    "duration": 5,
    "start_time": "2024-10-10T00:37:50.185Z"
   },
   {
    "duration": 3,
    "start_time": "2024-10-10T00:38:08.159Z"
   },
   {
    "duration": 6,
    "start_time": "2024-10-10T00:38:27.986Z"
   },
   {
    "duration": 5,
    "start_time": "2024-10-10T00:38:44.515Z"
   },
   {
    "duration": 3,
    "start_time": "2024-10-10T00:39:02.273Z"
   },
   {
    "duration": 7,
    "start_time": "2024-10-10T00:42:17.752Z"
   },
   {
    "duration": 15,
    "start_time": "2024-10-10T00:42:57.670Z"
   },
   {
    "duration": 11,
    "start_time": "2024-10-10T00:43:04.478Z"
   },
   {
    "duration": 6,
    "start_time": "2024-10-10T00:43:52.107Z"
   },
   {
    "duration": 6,
    "start_time": "2024-10-10T00:44:01.513Z"
   },
   {
    "duration": 7,
    "start_time": "2024-10-10T00:44:17.163Z"
   },
   {
    "duration": 15,
    "start_time": "2024-10-10T00:44:28.132Z"
   },
   {
    "duration": 6,
    "start_time": "2024-10-10T00:44:33.281Z"
   },
   {
    "duration": 5,
    "start_time": "2024-10-10T00:44:51.494Z"
   },
   {
    "duration": 4,
    "start_time": "2024-10-10T00:45:22.797Z"
   },
   {
    "duration": 7,
    "start_time": "2024-10-10T00:45:42.623Z"
   },
   {
    "duration": 618,
    "start_time": "2024-10-10T00:46:37.985Z"
   },
   {
    "duration": 333,
    "start_time": "2024-10-10T00:46:46.458Z"
   },
   {
    "duration": 4,
    "start_time": "2024-10-10T00:47:14.631Z"
   },
   {
    "duration": 3,
    "start_time": "2024-10-10T00:47:16.478Z"
   },
   {
    "duration": 6,
    "start_time": "2024-10-10T00:55:46.844Z"
   },
   {
    "duration": 19,
    "start_time": "2024-10-10T00:56:37.494Z"
   },
   {
    "duration": 3,
    "start_time": "2024-10-10T00:56:45.737Z"
   },
   {
    "duration": 4,
    "start_time": "2024-10-10T00:56:59.566Z"
   },
   {
    "duration": 5,
    "start_time": "2024-10-10T01:05:02.896Z"
   },
   {
    "duration": 26,
    "start_time": "2024-10-10T01:07:35.777Z"
   },
   {
    "duration": 3,
    "start_time": "2024-10-10T01:08:09.043Z"
   },
   {
    "duration": 885,
    "start_time": "2024-10-10T01:10:05.239Z"
   },
   {
    "duration": 217,
    "start_time": "2024-10-10T01:10:06.126Z"
   },
   {
    "duration": 11,
    "start_time": "2024-10-10T01:10:06.345Z"
   },
   {
    "duration": 11,
    "start_time": "2024-10-10T01:10:06.358Z"
   },
   {
    "duration": 34,
    "start_time": "2024-10-10T01:10:06.371Z"
   },
   {
    "duration": 11,
    "start_time": "2024-10-10T01:10:06.425Z"
   },
   {
    "duration": 9,
    "start_time": "2024-10-10T01:10:06.437Z"
   },
   {
    "duration": 32,
    "start_time": "2024-10-10T01:10:06.447Z"
   },
   {
    "duration": 11,
    "start_time": "2024-10-10T01:10:06.481Z"
   },
   {
    "duration": 37,
    "start_time": "2024-10-10T01:10:06.493Z"
   },
   {
    "duration": 37,
    "start_time": "2024-10-10T01:10:06.531Z"
   },
   {
    "duration": 22,
    "start_time": "2024-10-10T01:10:06.569Z"
   },
   {
    "duration": 533,
    "start_time": "2024-10-10T01:10:06.593Z"
   },
   {
    "duration": 21,
    "start_time": "2024-10-10T01:10:07.130Z"
   },
   {
    "duration": 477,
    "start_time": "2024-10-10T01:10:07.153Z"
   },
   {
    "duration": 23,
    "start_time": "2024-10-10T01:10:07.632Z"
   },
   {
    "duration": 473,
    "start_time": "2024-10-10T01:10:07.657Z"
   },
   {
    "duration": 21,
    "start_time": "2024-10-10T01:10:08.132Z"
   },
   {
    "duration": 537,
    "start_time": "2024-10-10T01:10:08.155Z"
   },
   {
    "duration": 32,
    "start_time": "2024-10-10T01:10:08.695Z"
   },
   {
    "duration": 451,
    "start_time": "2024-10-10T01:10:08.728Z"
   },
   {
    "duration": 20,
    "start_time": "2024-10-10T01:10:09.181Z"
   },
   {
    "duration": 422,
    "start_time": "2024-10-10T01:10:09.203Z"
   },
   {
    "duration": 13,
    "start_time": "2024-10-10T01:10:09.627Z"
   },
   {
    "duration": 14,
    "start_time": "2024-10-10T01:10:09.641Z"
   },
   {
    "duration": 4,
    "start_time": "2024-10-10T01:10:09.656Z"
   },
   {
    "duration": 3,
    "start_time": "2024-10-10T01:10:09.662Z"
   },
   {
    "duration": 13,
    "start_time": "2024-10-10T01:10:09.666Z"
   },
   {
    "duration": 5,
    "start_time": "2024-10-10T01:10:09.680Z"
   },
   {
    "duration": 43,
    "start_time": "2024-10-10T01:10:09.687Z"
   },
   {
    "duration": 9,
    "start_time": "2024-10-10T01:10:09.733Z"
   },
   {
    "duration": 13,
    "start_time": "2024-10-10T01:10:09.743Z"
   },
   {
    "duration": 3,
    "start_time": "2024-10-10T01:10:09.824Z"
   },
   {
    "duration": 8,
    "start_time": "2024-10-10T01:10:09.828Z"
   },
   {
    "duration": 5,
    "start_time": "2024-10-10T01:10:09.838Z"
   },
   {
    "duration": 80,
    "start_time": "2024-10-10T01:10:09.845Z"
   },
   {
    "duration": 111,
    "start_time": "2024-10-10T01:10:09.927Z"
   },
   {
    "duration": 8,
    "start_time": "2024-10-10T01:10:10.040Z"
   },
   {
    "duration": 12,
    "start_time": "2024-10-10T01:10:10.125Z"
   },
   {
    "duration": 5,
    "start_time": "2024-10-10T01:10:10.139Z"
   },
   {
    "duration": 3,
    "start_time": "2024-10-10T01:10:10.148Z"
   },
   {
    "duration": 19,
    "start_time": "2024-10-10T01:10:10.152Z"
   },
   {
    "duration": 661,
    "start_time": "2024-10-10T01:10:10.174Z"
   },
   {
    "duration": 355,
    "start_time": "2024-10-10T01:10:10.836Z"
   },
   {
    "duration": 5,
    "start_time": "2024-10-10T01:10:11.193Z"
   },
   {
    "duration": 4,
    "start_time": "2024-10-10T01:10:11.200Z"
   },
   {
    "duration": 19,
    "start_time": "2024-10-10T01:10:11.205Z"
   },
   {
    "duration": 238,
    "start_time": "2024-10-10T01:10:11.227Z"
   },
   {
    "duration": 0,
    "start_time": "2024-10-10T01:10:11.466Z"
   },
   {
    "duration": 2595,
    "start_time": "2024-10-10T01:44:05.102Z"
   },
   {
    "duration": 326,
    "start_time": "2024-10-10T01:44:07.700Z"
   },
   {
    "duration": 12,
    "start_time": "2024-10-10T01:44:08.028Z"
   },
   {
    "duration": 11,
    "start_time": "2024-10-10T01:44:08.043Z"
   },
   {
    "duration": 37,
    "start_time": "2024-10-10T01:44:08.056Z"
   },
   {
    "duration": 11,
    "start_time": "2024-10-10T01:44:08.095Z"
   },
   {
    "duration": 35,
    "start_time": "2024-10-10T01:44:08.107Z"
   },
   {
    "duration": 34,
    "start_time": "2024-10-10T01:44:08.143Z"
   },
   {
    "duration": 11,
    "start_time": "2024-10-10T01:44:08.179Z"
   },
   {
    "duration": 8,
    "start_time": "2024-10-10T01:44:08.193Z"
   },
   {
    "duration": 61,
    "start_time": "2024-10-10T01:44:08.203Z"
   },
   {
    "duration": 23,
    "start_time": "2024-10-10T01:44:08.267Z"
   },
   {
    "duration": 456,
    "start_time": "2024-10-10T01:44:08.292Z"
   },
   {
    "duration": 21,
    "start_time": "2024-10-10T01:44:08.751Z"
   },
   {
    "duration": 480,
    "start_time": "2024-10-10T01:44:08.773Z"
   },
   {
    "duration": 22,
    "start_time": "2024-10-10T01:44:09.255Z"
   },
   {
    "duration": 543,
    "start_time": "2024-10-10T01:44:09.279Z"
   },
   {
    "duration": 28,
    "start_time": "2024-10-10T01:44:09.824Z"
   },
   {
    "duration": 472,
    "start_time": "2024-10-10T01:44:09.854Z"
   },
   {
    "duration": 29,
    "start_time": "2024-10-10T01:44:10.328Z"
   },
   {
    "duration": 484,
    "start_time": "2024-10-10T01:44:10.359Z"
   },
   {
    "duration": 23,
    "start_time": "2024-10-10T01:44:10.845Z"
   },
   {
    "duration": 553,
    "start_time": "2024-10-10T01:44:10.870Z"
   },
   {
    "duration": 18,
    "start_time": "2024-10-10T01:44:11.425Z"
   },
   {
    "duration": 15,
    "start_time": "2024-10-10T01:44:11.445Z"
   },
   {
    "duration": 4,
    "start_time": "2024-10-10T01:44:11.462Z"
   },
   {
    "duration": 4,
    "start_time": "2024-10-10T01:44:11.468Z"
   },
   {
    "duration": 12,
    "start_time": "2024-10-10T01:44:11.477Z"
   },
   {
    "duration": 5,
    "start_time": "2024-10-10T01:44:11.491Z"
   },
   {
    "duration": 7,
    "start_time": "2024-10-10T01:44:11.498Z"
   },
   {
    "duration": 5,
    "start_time": "2024-10-10T01:44:11.542Z"
   },
   {
    "duration": 13,
    "start_time": "2024-10-10T01:44:11.549Z"
   },
   {
    "duration": 3,
    "start_time": "2024-10-10T01:44:11.564Z"
   },
   {
    "duration": 77,
    "start_time": "2024-10-10T01:44:11.569Z"
   },
   {
    "duration": 5,
    "start_time": "2024-10-10T01:44:11.648Z"
   },
   {
    "duration": 90,
    "start_time": "2024-10-10T01:44:11.655Z"
   },
   {
    "duration": 111,
    "start_time": "2024-10-10T01:44:11.747Z"
   },
   {
    "duration": 5,
    "start_time": "2024-10-10T01:44:11.860Z"
   },
   {
    "duration": 84,
    "start_time": "2024-10-10T01:44:11.867Z"
   },
   {
    "duration": 4,
    "start_time": "2024-10-10T01:44:11.953Z"
   },
   {
    "duration": 3,
    "start_time": "2024-10-10T01:44:11.959Z"
   },
   {
    "duration": 22,
    "start_time": "2024-10-10T01:44:11.964Z"
   },
   {
    "duration": 674,
    "start_time": "2024-10-10T01:44:11.987Z"
   },
   {
    "duration": 352,
    "start_time": "2024-10-10T01:44:12.663Z"
   },
   {
    "duration": 4,
    "start_time": "2024-10-10T01:44:13.017Z"
   },
   {
    "duration": 4,
    "start_time": "2024-10-10T01:44:13.023Z"
   },
   {
    "duration": 5,
    "start_time": "2024-10-10T01:44:13.044Z"
   },
   {
    "duration": 248,
    "start_time": "2024-10-10T01:44:13.051Z"
   },
   {
    "duration": 0,
    "start_time": "2024-10-10T01:44:13.301Z"
   },
   {
    "duration": 5,
    "start_time": "2024-10-10T01:44:53.568Z"
   },
   {
    "duration": 29,
    "start_time": "2024-10-10T01:44:56.235Z"
   },
   {
    "duration": 3,
    "start_time": "2024-10-10T01:52:28.497Z"
   },
   {
    "duration": 5,
    "start_time": "2024-10-10T01:54:09.739Z"
   },
   {
    "duration": 25,
    "start_time": "2024-10-10T01:54:12.169Z"
   },
   {
    "duration": 5,
    "start_time": "2024-10-10T01:58:45.394Z"
   },
   {
    "duration": 991,
    "start_time": "2024-10-10T01:59:16.202Z"
   },
   {
    "duration": 5,
    "start_time": "2024-10-10T02:00:59.958Z"
   },
   {
    "duration": 980,
    "start_time": "2024-10-10T02:01:00.857Z"
   },
   {
    "duration": 971,
    "start_time": "2024-10-10T02:02:41.275Z"
   },
   {
    "duration": 959,
    "start_time": "2024-10-10T02:03:28.014Z"
   },
   {
    "duration": 2629,
    "start_time": "2024-10-14T20:22:51.160Z"
   },
   {
    "duration": 595,
    "start_time": "2024-10-14T20:22:53.791Z"
   },
   {
    "duration": 0,
    "start_time": "2024-10-14T20:22:54.390Z"
   },
   {
    "duration": 1,
    "start_time": "2024-10-14T20:22:54.391Z"
   },
   {
    "duration": 0,
    "start_time": "2024-10-14T20:22:54.393Z"
   },
   {
    "duration": 0,
    "start_time": "2024-10-14T20:22:54.394Z"
   },
   {
    "duration": 0,
    "start_time": "2024-10-14T20:22:54.396Z"
   },
   {
    "duration": 0,
    "start_time": "2024-10-14T20:22:54.397Z"
   },
   {
    "duration": 0,
    "start_time": "2024-10-14T20:22:54.398Z"
   },
   {
    "duration": 0,
    "start_time": "2024-10-14T20:22:54.400Z"
   },
   {
    "duration": 0,
    "start_time": "2024-10-14T20:22:54.402Z"
   },
   {
    "duration": 0,
    "start_time": "2024-10-14T20:22:54.403Z"
   },
   {
    "duration": 0,
    "start_time": "2024-10-14T20:22:54.405Z"
   },
   {
    "duration": 0,
    "start_time": "2024-10-14T20:22:54.406Z"
   },
   {
    "duration": 0,
    "start_time": "2024-10-14T20:22:54.407Z"
   },
   {
    "duration": 0,
    "start_time": "2024-10-14T20:22:54.409Z"
   },
   {
    "duration": 0,
    "start_time": "2024-10-14T20:22:54.410Z"
   },
   {
    "duration": 0,
    "start_time": "2024-10-14T20:22:54.412Z"
   },
   {
    "duration": 0,
    "start_time": "2024-10-14T20:22:54.413Z"
   },
   {
    "duration": 0,
    "start_time": "2024-10-14T20:22:54.414Z"
   },
   {
    "duration": 0,
    "start_time": "2024-10-14T20:22:54.415Z"
   },
   {
    "duration": 0,
    "start_time": "2024-10-14T20:22:54.417Z"
   },
   {
    "duration": 0,
    "start_time": "2024-10-14T20:22:54.418Z"
   },
   {
    "duration": 0,
    "start_time": "2024-10-14T20:22:54.419Z"
   },
   {
    "duration": 0,
    "start_time": "2024-10-14T20:22:54.420Z"
   },
   {
    "duration": 0,
    "start_time": "2024-10-14T20:22:54.422Z"
   },
   {
    "duration": 0,
    "start_time": "2024-10-14T20:22:54.423Z"
   },
   {
    "duration": 0,
    "start_time": "2024-10-14T20:22:54.424Z"
   },
   {
    "duration": 0,
    "start_time": "2024-10-14T20:22:54.470Z"
   },
   {
    "duration": 0,
    "start_time": "2024-10-14T20:22:54.471Z"
   },
   {
    "duration": 0,
    "start_time": "2024-10-14T20:22:54.472Z"
   },
   {
    "duration": 0,
    "start_time": "2024-10-14T20:22:54.473Z"
   },
   {
    "duration": 0,
    "start_time": "2024-10-14T20:22:54.475Z"
   },
   {
    "duration": 0,
    "start_time": "2024-10-14T20:22:54.477Z"
   },
   {
    "duration": 0,
    "start_time": "2024-10-14T20:22:54.479Z"
   },
   {
    "duration": 0,
    "start_time": "2024-10-14T20:22:54.480Z"
   },
   {
    "duration": 0,
    "start_time": "2024-10-14T20:22:54.482Z"
   },
   {
    "duration": 0,
    "start_time": "2024-10-14T20:22:54.483Z"
   },
   {
    "duration": 0,
    "start_time": "2024-10-14T20:22:54.485Z"
   },
   {
    "duration": 0,
    "start_time": "2024-10-14T20:22:54.486Z"
   },
   {
    "duration": 0,
    "start_time": "2024-10-14T20:22:54.487Z"
   },
   {
    "duration": 0,
    "start_time": "2024-10-14T20:22:54.488Z"
   },
   {
    "duration": 0,
    "start_time": "2024-10-14T20:22:54.490Z"
   },
   {
    "duration": 0,
    "start_time": "2024-10-14T20:22:54.490Z"
   },
   {
    "duration": 0,
    "start_time": "2024-10-14T20:22:54.491Z"
   },
   {
    "duration": 0,
    "start_time": "2024-10-14T20:22:54.492Z"
   },
   {
    "duration": 0,
    "start_time": "2024-10-14T20:22:54.493Z"
   },
   {
    "duration": 0,
    "start_time": "2024-10-14T20:22:54.494Z"
   },
   {
    "duration": 0,
    "start_time": "2024-10-14T20:22:54.495Z"
   },
   {
    "duration": 0,
    "start_time": "2024-10-14T20:22:54.496Z"
   },
   {
    "duration": 0,
    "start_time": "2024-10-14T20:22:54.498Z"
   },
   {
    "duration": 1,
    "start_time": "2024-10-14T20:22:54.499Z"
   },
   {
    "duration": 0,
    "start_time": "2024-10-14T20:22:54.501Z"
   },
   {
    "duration": 0,
    "start_time": "2024-10-14T20:22:54.502Z"
   },
   {
    "duration": 0,
    "start_time": "2024-10-14T20:22:54.503Z"
   },
   {
    "duration": 0,
    "start_time": "2024-10-14T20:22:54.504Z"
   },
   {
    "duration": 0,
    "start_time": "2024-10-14T20:22:54.505Z"
   },
   {
    "duration": 0,
    "start_time": "2024-10-14T20:22:54.506Z"
   },
   {
    "duration": 0,
    "start_time": "2024-10-14T20:22:54.507Z"
   },
   {
    "duration": 0,
    "start_time": "2024-10-14T20:22:54.571Z"
   },
   {
    "duration": 0,
    "start_time": "2024-10-14T20:22:54.572Z"
   },
   {
    "duration": 0,
    "start_time": "2024-10-14T20:22:54.573Z"
   },
   {
    "duration": 0,
    "start_time": "2024-10-14T20:22:54.574Z"
   },
   {
    "duration": 0,
    "start_time": "2024-10-14T20:22:54.575Z"
   },
   {
    "duration": 0,
    "start_time": "2024-10-14T20:22:54.576Z"
   },
   {
    "duration": 0,
    "start_time": "2024-10-14T20:22:54.577Z"
   },
   {
    "duration": 0,
    "start_time": "2024-10-14T20:22:54.578Z"
   },
   {
    "duration": 0,
    "start_time": "2024-10-14T20:22:54.579Z"
   },
   {
    "duration": 0,
    "start_time": "2024-10-14T20:22:54.580Z"
   },
   {
    "duration": 0,
    "start_time": "2024-10-14T20:22:54.582Z"
   },
   {
    "duration": 0,
    "start_time": "2024-10-14T20:22:54.584Z"
   },
   {
    "duration": 0,
    "start_time": "2024-10-14T20:22:54.585Z"
   },
   {
    "duration": 0,
    "start_time": "2024-10-14T20:22:54.586Z"
   },
   {
    "duration": 0,
    "start_time": "2024-10-14T20:22:54.588Z"
   },
   {
    "duration": 0,
    "start_time": "2024-10-14T20:22:54.588Z"
   },
   {
    "duration": 0,
    "start_time": "2024-10-14T20:22:54.590Z"
   },
   {
    "duration": 302,
    "start_time": "2024-10-14T20:23:12.681Z"
   },
   {
    "duration": 905,
    "start_time": "2024-10-14T20:23:19.724Z"
   },
   {
    "duration": 231,
    "start_time": "2024-10-14T20:23:20.632Z"
   },
   {
    "duration": 12,
    "start_time": "2024-10-14T20:23:20.864Z"
   },
   {
    "duration": 12,
    "start_time": "2024-10-14T20:23:20.878Z"
   },
   {
    "duration": 33,
    "start_time": "2024-10-14T20:23:20.893Z"
   },
   {
    "duration": 11,
    "start_time": "2024-10-14T20:23:20.928Z"
   },
   {
    "duration": 33,
    "start_time": "2024-10-14T20:23:20.941Z"
   },
   {
    "duration": 32,
    "start_time": "2024-10-14T20:23:20.975Z"
   },
   {
    "duration": 11,
    "start_time": "2024-10-14T20:23:21.010Z"
   },
   {
    "duration": 9,
    "start_time": "2024-10-14T20:23:21.023Z"
   },
   {
    "duration": 62,
    "start_time": "2024-10-14T20:23:21.034Z"
   },
   {
    "duration": 23,
    "start_time": "2024-10-14T20:23:21.097Z"
   },
   {
    "duration": 570,
    "start_time": "2024-10-14T20:23:21.121Z"
   },
   {
    "duration": 21,
    "start_time": "2024-10-14T20:23:21.696Z"
   },
   {
    "duration": 451,
    "start_time": "2024-10-14T20:23:21.719Z"
   },
   {
    "duration": 21,
    "start_time": "2024-10-14T20:23:22.172Z"
   },
   {
    "duration": 460,
    "start_time": "2024-10-14T20:23:22.195Z"
   },
   {
    "duration": 30,
    "start_time": "2024-10-14T20:23:22.657Z"
   },
   {
    "duration": 523,
    "start_time": "2024-10-14T20:23:22.688Z"
   },
   {
    "duration": 21,
    "start_time": "2024-10-14T20:23:23.213Z"
   },
   {
    "duration": 427,
    "start_time": "2024-10-14T20:23:23.237Z"
   },
   {
    "duration": 22,
    "start_time": "2024-10-14T20:23:23.666Z"
   },
   {
    "duration": 454,
    "start_time": "2024-10-14T20:23:23.690Z"
   },
   {
    "duration": 12,
    "start_time": "2024-10-14T20:23:24.146Z"
   },
   {
    "duration": 2,
    "start_time": "2024-10-14T20:23:24.170Z"
   },
   {
    "duration": 2,
    "start_time": "2024-10-14T20:23:24.174Z"
   },
   {
    "duration": 2,
    "start_time": "2024-10-14T20:23:24.178Z"
   },
   {
    "duration": 3,
    "start_time": "2024-10-14T20:23:24.182Z"
   },
   {
    "duration": 2,
    "start_time": "2024-10-14T20:23:24.187Z"
   },
   {
    "duration": 2,
    "start_time": "2024-10-14T20:23:24.191Z"
   },
   {
    "duration": 3,
    "start_time": "2024-10-14T20:23:24.195Z"
   },
   {
    "duration": 2,
    "start_time": "2024-10-14T20:23:24.200Z"
   },
   {
    "duration": 2,
    "start_time": "2024-10-14T20:23:24.204Z"
   },
   {
    "duration": 3,
    "start_time": "2024-10-14T20:23:24.207Z"
   },
   {
    "duration": 4,
    "start_time": "2024-10-14T20:23:24.212Z"
   },
   {
    "duration": 79,
    "start_time": "2024-10-14T20:23:24.218Z"
   },
   {
    "duration": 6,
    "start_time": "2024-10-14T20:23:24.298Z"
   },
   {
    "duration": 65,
    "start_time": "2024-10-14T20:23:24.305Z"
   },
   {
    "duration": 3,
    "start_time": "2024-10-14T20:23:24.372Z"
   },
   {
    "duration": 104,
    "start_time": "2024-10-14T20:23:24.378Z"
   },
   {
    "duration": 3,
    "start_time": "2024-10-14T20:23:24.489Z"
   },
   {
    "duration": 3,
    "start_time": "2024-10-14T20:23:24.494Z"
   },
   {
    "duration": 32,
    "start_time": "2024-10-14T20:23:24.571Z"
   },
   {
    "duration": 2,
    "start_time": "2024-10-14T20:23:24.605Z"
   },
   {
    "duration": 109,
    "start_time": "2024-10-14T20:23:24.670Z"
   },
   {
    "duration": 3,
    "start_time": "2024-10-14T20:23:24.780Z"
   },
   {
    "duration": 3,
    "start_time": "2024-10-14T20:23:24.788Z"
   },
   {
    "duration": 77,
    "start_time": "2024-10-14T20:23:24.795Z"
   },
   {
    "duration": 4,
    "start_time": "2024-10-14T20:23:24.876Z"
   },
   {
    "duration": 2,
    "start_time": "2024-10-14T20:23:24.882Z"
   },
   {
    "duration": 15,
    "start_time": "2024-10-14T20:23:24.886Z"
   },
   {
    "duration": 4,
    "start_time": "2024-10-14T20:23:24.902Z"
   },
   {
    "duration": 3,
    "start_time": "2024-10-14T20:23:24.907Z"
   },
   {
    "duration": 3,
    "start_time": "2024-10-14T20:23:24.912Z"
   },
   {
    "duration": 54,
    "start_time": "2024-10-14T20:23:24.917Z"
   },
   {
    "duration": 5,
    "start_time": "2024-10-14T20:23:24.973Z"
   },
   {
    "duration": 3509,
    "start_time": "2024-10-14T20:23:24.979Z"
   },
   {
    "duration": 3,
    "start_time": "2024-10-14T20:23:28.489Z"
   },
   {
    "duration": 4,
    "start_time": "2024-10-14T20:23:28.493Z"
   },
   {
    "duration": 175,
    "start_time": "2024-10-14T20:23:28.499Z"
   },
   {
    "duration": 3,
    "start_time": "2024-10-14T20:23:28.676Z"
   },
   {
    "duration": 3,
    "start_time": "2024-10-14T20:23:28.681Z"
   },
   {
    "duration": 23,
    "start_time": "2024-10-14T20:23:28.685Z"
   },
   {
    "duration": 5,
    "start_time": "2024-10-14T20:23:28.709Z"
   },
   {
    "duration": 3,
    "start_time": "2024-10-14T20:23:28.716Z"
   },
   {
    "duration": 3,
    "start_time": "2024-10-14T20:23:28.721Z"
   },
   {
    "duration": 3,
    "start_time": "2024-10-14T20:23:28.726Z"
   },
   {
    "duration": 3287,
    "start_time": "2024-10-14T20:23:28.731Z"
   },
   {
    "duration": 128,
    "start_time": "2024-10-14T20:23:32.020Z"
   },
   {
    "duration": 2,
    "start_time": "2024-10-14T20:23:32.150Z"
   },
   {
    "duration": 3,
    "start_time": "2024-10-14T20:23:32.154Z"
   },
   {
    "duration": 2,
    "start_time": "2024-10-14T20:23:32.170Z"
   },
   {
    "duration": 3359,
    "start_time": "2024-10-14T20:23:32.174Z"
   },
   {
    "duration": 124,
    "start_time": "2024-10-14T20:23:35.535Z"
   },
   {
    "duration": 9,
    "start_time": "2024-10-14T20:23:35.661Z"
   },
   {
    "duration": 4,
    "start_time": "2024-10-14T20:23:35.672Z"
   },
   {
    "duration": 3,
    "start_time": "2024-10-14T20:27:08.869Z"
   },
   {
    "duration": 216,
    "start_time": "2024-10-14T20:27:10.390Z"
   },
   {
    "duration": 699,
    "start_time": "2024-10-14T20:27:42.524Z"
   },
   {
    "duration": 208,
    "start_time": "2024-10-14T20:27:50.270Z"
   },
   {
    "duration": 78,
    "start_time": "2024-10-14T20:35:05.102Z"
   },
   {
    "duration": 3,
    "start_time": "2024-10-14T20:35:06.582Z"
   },
   {
    "duration": 3,
    "start_time": "2024-10-14T20:35:07.227Z"
   },
   {
    "duration": 3,
    "start_time": "2024-10-14T20:35:07.848Z"
   },
   {
    "duration": 436,
    "start_time": "2024-10-14T20:35:10.678Z"
   },
   {
    "duration": 5,
    "start_time": "2024-10-14T20:35:12.657Z"
   },
   {
    "duration": 3,
    "start_time": "2024-10-14T20:35:14.092Z"
   },
   {
    "duration": 886,
    "start_time": "2024-10-14T20:35:15.375Z"
   },
   {
    "duration": 3,
    "start_time": "2024-10-14T20:35:30.655Z"
   },
   {
    "duration": 2,
    "start_time": "2024-10-14T20:35:31.302Z"
   },
   {
    "duration": 4,
    "start_time": "2024-10-14T20:35:31.804Z"
   },
   {
    "duration": 431,
    "start_time": "2024-10-14T20:35:32.781Z"
   },
   {
    "duration": 4,
    "start_time": "2024-10-14T20:35:33.343Z"
   },
   {
    "duration": 2,
    "start_time": "2024-10-14T20:35:34.887Z"
   },
   {
    "duration": 916,
    "start_time": "2024-10-14T20:35:35.532Z"
   },
   {
    "duration": 901,
    "start_time": "2024-10-14T20:35:50.281Z"
   },
   {
    "duration": 909,
    "start_time": "2024-10-14T20:36:00.604Z"
   },
   {
    "duration": 2646,
    "start_time": "2024-10-15T00:46:08.585Z"
   },
   {
    "duration": 309,
    "start_time": "2024-10-15T00:46:11.233Z"
   },
   {
    "duration": 12,
    "start_time": "2024-10-15T00:46:11.544Z"
   },
   {
    "duration": 11,
    "start_time": "2024-10-15T00:46:11.558Z"
   },
   {
    "duration": 47,
    "start_time": "2024-10-15T00:46:11.571Z"
   },
   {
    "duration": 11,
    "start_time": "2024-10-15T00:46:11.620Z"
   },
   {
    "duration": 9,
    "start_time": "2024-10-15T00:46:11.634Z"
   },
   {
    "duration": 32,
    "start_time": "2024-10-15T00:46:11.645Z"
   },
   {
    "duration": 34,
    "start_time": "2024-10-15T00:46:11.679Z"
   },
   {
    "duration": 8,
    "start_time": "2024-10-15T00:46:11.717Z"
   },
   {
    "duration": 38,
    "start_time": "2024-10-15T00:46:11.727Z"
   },
   {
    "duration": 44,
    "start_time": "2024-10-15T00:46:11.767Z"
   },
   {
    "duration": 560,
    "start_time": "2024-10-15T00:46:11.813Z"
   },
   {
    "duration": 22,
    "start_time": "2024-10-15T00:46:12.375Z"
   },
   {
    "duration": 471,
    "start_time": "2024-10-15T00:46:12.409Z"
   },
   {
    "duration": 30,
    "start_time": "2024-10-15T00:46:12.882Z"
   },
   {
    "duration": 472,
    "start_time": "2024-10-15T00:46:12.914Z"
   },
   {
    "duration": 27,
    "start_time": "2024-10-15T00:46:13.388Z"
   },
   {
    "duration": 471,
    "start_time": "2024-10-15T00:46:13.416Z"
   },
   {
    "duration": 29,
    "start_time": "2024-10-15T00:46:13.889Z"
   },
   {
    "duration": 573,
    "start_time": "2024-10-15T00:46:13.920Z"
   },
   {
    "duration": 26,
    "start_time": "2024-10-15T00:46:14.495Z"
   },
   {
    "duration": 462,
    "start_time": "2024-10-15T00:46:14.522Z"
   },
   {
    "duration": 12,
    "start_time": "2024-10-15T00:46:14.987Z"
   },
   {
    "duration": 2,
    "start_time": "2024-10-15T00:46:15.009Z"
   },
   {
    "duration": 2,
    "start_time": "2024-10-15T00:46:15.013Z"
   },
   {
    "duration": 2,
    "start_time": "2024-10-15T00:46:15.017Z"
   },
   {
    "duration": 3,
    "start_time": "2024-10-15T00:46:15.025Z"
   },
   {
    "duration": 3,
    "start_time": "2024-10-15T00:46:15.030Z"
   },
   {
    "duration": 4,
    "start_time": "2024-10-15T00:46:15.035Z"
   },
   {
    "duration": 4,
    "start_time": "2024-10-15T00:46:15.041Z"
   },
   {
    "duration": 2,
    "start_time": "2024-10-15T00:46:15.048Z"
   },
   {
    "duration": 3,
    "start_time": "2024-10-15T00:46:15.052Z"
   },
   {
    "duration": 2,
    "start_time": "2024-10-15T00:46:15.057Z"
   },
   {
    "duration": 5,
    "start_time": "2024-10-15T00:46:15.108Z"
   },
   {
    "duration": 35,
    "start_time": "2024-10-15T00:46:15.114Z"
   },
   {
    "duration": 2,
    "start_time": "2024-10-15T00:46:15.151Z"
   },
   {
    "duration": 55,
    "start_time": "2024-10-15T00:46:15.155Z"
   },
   {
    "duration": 2,
    "start_time": "2024-10-15T00:46:15.212Z"
   },
   {
    "duration": 107,
    "start_time": "2024-10-15T00:46:15.216Z"
   },
   {
    "duration": 4,
    "start_time": "2024-10-15T00:46:15.326Z"
   },
   {
    "duration": 5,
    "start_time": "2024-10-15T00:46:15.333Z"
   },
   {
    "duration": 35,
    "start_time": "2024-10-15T00:46:15.409Z"
   },
   {
    "duration": 2,
    "start_time": "2024-10-15T00:46:15.508Z"
   },
   {
    "duration": 105,
    "start_time": "2024-10-15T00:46:15.513Z"
   },
   {
    "duration": 4,
    "start_time": "2024-10-15T00:46:15.622Z"
   },
   {
    "duration": 78,
    "start_time": "2024-10-15T00:46:15.631Z"
   },
   {
    "duration": 3,
    "start_time": "2024-10-15T00:46:15.711Z"
   },
   {
    "duration": 4,
    "start_time": "2024-10-15T00:46:15.716Z"
   },
   {
    "duration": 2,
    "start_time": "2024-10-15T00:46:15.722Z"
   },
   {
    "duration": 15,
    "start_time": "2024-10-15T00:46:15.725Z"
   },
   {
    "duration": 3,
    "start_time": "2024-10-15T00:46:15.742Z"
   },
   {
    "duration": 2,
    "start_time": "2024-10-15T00:46:15.748Z"
   },
   {
    "duration": 3,
    "start_time": "2024-10-15T00:46:15.752Z"
   },
   {
    "duration": 53,
    "start_time": "2024-10-15T00:46:15.757Z"
   },
   {
    "duration": 4,
    "start_time": "2024-10-15T00:46:15.812Z"
   },
   {
    "duration": 3372,
    "start_time": "2024-10-15T00:46:15.817Z"
   },
   {
    "duration": 3,
    "start_time": "2024-10-15T00:46:19.191Z"
   },
   {
    "duration": 14,
    "start_time": "2024-10-15T00:46:19.196Z"
   },
   {
    "duration": 122,
    "start_time": "2024-10-15T00:46:19.212Z"
   },
   {
    "duration": 3,
    "start_time": "2024-10-15T00:46:19.336Z"
   },
   {
    "duration": 3,
    "start_time": "2024-10-15T00:46:19.341Z"
   },
   {
    "duration": 3,
    "start_time": "2024-10-15T00:46:19.346Z"
   },
   {
    "duration": 2,
    "start_time": "2024-10-15T00:46:19.351Z"
   },
   {
    "duration": 2,
    "start_time": "2024-10-15T00:46:19.355Z"
   },
   {
    "duration": 3,
    "start_time": "2024-10-15T00:46:19.359Z"
   },
   {
    "duration": 2,
    "start_time": "2024-10-15T00:46:19.364Z"
   },
   {
    "duration": 3409,
    "start_time": "2024-10-15T00:46:19.368Z"
   },
   {
    "duration": 127,
    "start_time": "2024-10-15T00:46:22.779Z"
   },
   {
    "duration": 4,
    "start_time": "2024-10-15T00:46:22.908Z"
   },
   {
    "duration": 4,
    "start_time": "2024-10-15T00:46:22.913Z"
   },
   {
    "duration": 4,
    "start_time": "2024-10-15T00:46:22.920Z"
   },
   {
    "duration": 3360,
    "start_time": "2024-10-15T00:46:22.926Z"
   },
   {
    "duration": 130,
    "start_time": "2024-10-15T00:46:26.288Z"
   },
   {
    "duration": 3,
    "start_time": "2024-10-15T00:46:26.420Z"
   },
   {
    "duration": 4,
    "start_time": "2024-10-15T00:46:26.425Z"
   },
   {
    "duration": 4,
    "start_time": "2024-10-15T00:46:26.430Z"
   },
   {
    "duration": 1014,
    "start_time": "2024-10-15T00:46:26.436Z"
   },
   {
    "duration": 0,
    "start_time": "2024-10-15T00:46:27.453Z"
   },
   {
    "duration": 0,
    "start_time": "2024-10-15T00:46:27.454Z"
   },
   {
    "duration": 0,
    "start_time": "2024-10-15T00:46:27.456Z"
   },
   {
    "duration": 0,
    "start_time": "2024-10-15T00:46:27.457Z"
   },
   {
    "duration": 0,
    "start_time": "2024-10-15T00:46:27.458Z"
   },
   {
    "duration": 0,
    "start_time": "2024-10-15T00:46:27.460Z"
   },
   {
    "duration": 0,
    "start_time": "2024-10-15T00:46:27.461Z"
   },
   {
    "duration": 3,
    "start_time": "2024-10-15T00:53:53.576Z"
   },
   {
    "duration": 2,
    "start_time": "2024-10-15T00:54:41.692Z"
   },
   {
    "duration": 3,
    "start_time": "2024-10-15T00:54:50.123Z"
   },
   {
    "duration": 2,
    "start_time": "2024-10-15T00:56:57.889Z"
   },
   {
    "duration": 5,
    "start_time": "2024-10-15T00:58:06.600Z"
   },
   {
    "duration": 2,
    "start_time": "2024-10-15T01:01:14.313Z"
   },
   {
    "duration": 3,
    "start_time": "2024-10-15T01:01:44.159Z"
   },
   {
    "duration": 230,
    "start_time": "2024-10-15T01:03:00.909Z"
   },
   {
    "duration": 10,
    "start_time": "2024-10-15T01:03:23.184Z"
   },
   {
    "duration": 7,
    "start_time": "2024-10-15T01:03:38.578Z"
   },
   {
    "duration": 8,
    "start_time": "2024-10-15T01:04:04.652Z"
   },
   {
    "duration": 11,
    "start_time": "2024-10-15T01:04:12.653Z"
   },
   {
    "duration": 4,
    "start_time": "2024-10-15T01:14:21.116Z"
   },
   {
    "duration": 209,
    "start_time": "2024-10-15T01:15:48.227Z"
   },
   {
    "duration": 4,
    "start_time": "2024-10-15T01:15:54.115Z"
   },
   {
    "duration": 4,
    "start_time": "2024-10-15T01:16:04.362Z"
   },
   {
    "duration": 24,
    "start_time": "2024-10-15T01:16:30.501Z"
   },
   {
    "duration": 4,
    "start_time": "2024-10-15T01:16:37.019Z"
   },
   {
    "duration": 7,
    "start_time": "2024-10-15T01:16:49.040Z"
   },
   {
    "duration": 5,
    "start_time": "2024-10-15T01:16:54.891Z"
   },
   {
    "duration": 4,
    "start_time": "2024-10-15T01:19:04.829Z"
   },
   {
    "duration": 4,
    "start_time": "2024-10-15T01:19:41.742Z"
   },
   {
    "duration": 5,
    "start_time": "2024-10-15T01:20:11.473Z"
   },
   {
    "duration": 3,
    "start_time": "2024-10-15T01:20:25.077Z"
   },
   {
    "duration": 3,
    "start_time": "2024-10-15T01:23:18.662Z"
   },
   {
    "duration": 3,
    "start_time": "2024-10-15T01:23:49.513Z"
   },
   {
    "duration": 3,
    "start_time": "2024-10-15T01:24:51.519Z"
   },
   {
    "duration": 3,
    "start_time": "2024-10-15T01:25:55.333Z"
   },
   {
    "duration": 8,
    "start_time": "2024-10-15T01:26:31.939Z"
   },
   {
    "duration": 6,
    "start_time": "2024-10-15T01:27:00.380Z"
   },
   {
    "duration": 5,
    "start_time": "2024-10-15T01:27:05.337Z"
   },
   {
    "duration": 6,
    "start_time": "2024-10-15T01:27:22.834Z"
   },
   {
    "duration": 4,
    "start_time": "2024-10-15T01:27:27.909Z"
   },
   {
    "duration": 9,
    "start_time": "2024-10-15T01:27:45.656Z"
   },
   {
    "duration": 8,
    "start_time": "2024-10-15T01:27:52.640Z"
   },
   {
    "duration": 7,
    "start_time": "2024-10-15T01:27:56.853Z"
   },
   {
    "duration": 9,
    "start_time": "2024-10-15T01:28:24.461Z"
   },
   {
    "duration": 5,
    "start_time": "2024-10-15T01:28:42.124Z"
   },
   {
    "duration": 8,
    "start_time": "2024-10-15T01:28:48.413Z"
   },
   {
    "duration": 9,
    "start_time": "2024-10-15T01:28:56.982Z"
   },
   {
    "duration": 7,
    "start_time": "2024-10-15T01:29:04.613Z"
   },
   {
    "duration": 11,
    "start_time": "2024-10-15T01:30:01.850Z"
   },
   {
    "duration": 3,
    "start_time": "2024-10-15T01:30:05.183Z"
   },
   {
    "duration": 12,
    "start_time": "2024-10-15T01:33:39.642Z"
   },
   {
    "duration": 4,
    "start_time": "2024-10-15T01:33:43.413Z"
   },
   {
    "duration": 14,
    "start_time": "2024-10-15T01:36:17.703Z"
   },
   {
    "duration": 4,
    "start_time": "2024-10-15T01:36:18.906Z"
   },
   {
    "duration": 4,
    "start_time": "2024-10-15T01:36:46.047Z"
   },
   {
    "duration": 2,
    "start_time": "2024-10-15T01:37:52.157Z"
   },
   {
    "duration": 5,
    "start_time": "2024-10-15T01:37:55.424Z"
   },
   {
    "duration": 4,
    "start_time": "2024-10-15T01:38:30.443Z"
   },
   {
    "duration": 473,
    "start_time": "2024-10-15T01:38:55.070Z"
   },
   {
    "duration": 476,
    "start_time": "2024-10-15T01:40:49.912Z"
   },
   {
    "duration": 4,
    "start_time": "2024-10-15T01:42:50.852Z"
   },
   {
    "duration": 165,
    "start_time": "2024-10-15T01:43:11.217Z"
   },
   {
    "duration": 2,
    "start_time": "2024-10-15T01:44:51.227Z"
   },
   {
    "duration": 478,
    "start_time": "2024-10-15T01:46:59.688Z"
   },
   {
    "duration": 470,
    "start_time": "2024-10-15T01:50:33.177Z"
   },
   {
    "duration": 1430,
    "start_time": "2024-10-15T01:50:43.801Z"
   },
   {
    "duration": 8,
    "start_time": "2024-10-15T01:50:55.491Z"
   },
   {
    "duration": 6,
    "start_time": "2024-10-15T01:51:35.950Z"
   },
   {
    "duration": 8,
    "start_time": "2024-10-15T01:51:41.341Z"
   },
   {
    "duration": 6,
    "start_time": "2024-10-15T01:51:45.992Z"
   },
   {
    "duration": 26,
    "start_time": "2024-10-15T02:00:37.588Z"
   },
   {
    "duration": 1291,
    "start_time": "2024-10-15T02:00:52.320Z"
   },
   {
    "duration": 24,
    "start_time": "2024-10-15T02:05:13.876Z"
   },
   {
    "duration": 26,
    "start_time": "2024-10-15T02:05:51.467Z"
   },
   {
    "duration": 20,
    "start_time": "2024-10-15T02:06:46.248Z"
   },
   {
    "duration": 137,
    "start_time": "2024-10-15T02:06:51.206Z"
   },
   {
    "duration": 362,
    "start_time": "2024-10-15T02:07:38.757Z"
   },
   {
    "duration": 2,
    "start_time": "2024-10-15T02:13:18.322Z"
   },
   {
    "duration": 2,
    "start_time": "2024-10-15T02:13:38.786Z"
   },
   {
    "duration": 2,
    "start_time": "2024-10-15T02:13:49.766Z"
   },
   {
    "duration": 3,
    "start_time": "2024-10-15T02:13:58.822Z"
   },
   {
    "duration": 2,
    "start_time": "2024-10-15T02:14:08.107Z"
   },
   {
    "duration": 2,
    "start_time": "2024-10-15T02:14:15.127Z"
   },
   {
    "duration": 3,
    "start_time": "2024-10-15T02:14:23.066Z"
   },
   {
    "duration": 2,
    "start_time": "2024-10-15T02:14:31.920Z"
   },
   {
    "duration": 3,
    "start_time": "2024-10-15T02:14:38.969Z"
   },
   {
    "duration": 3,
    "start_time": "2024-10-15T02:18:41.820Z"
   },
   {
    "duration": 114,
    "start_time": "2024-10-15T02:19:22.633Z"
   },
   {
    "duration": 6,
    "start_time": "2024-10-15T02:19:43.284Z"
   },
   {
    "duration": 4,
    "start_time": "2024-10-15T02:19:55.093Z"
   },
   {
    "duration": 6,
    "start_time": "2024-10-15T02:20:44.848Z"
   },
   {
    "duration": 4,
    "start_time": "2024-10-15T02:21:11.663Z"
   },
   {
    "duration": 52,
    "start_time": "2024-10-15T02:21:23.147Z"
   },
   {
    "duration": 53,
    "start_time": "2024-10-15T02:22:04.599Z"
   },
   {
    "duration": 4,
    "start_time": "2024-10-15T02:24:14.951Z"
   },
   {
    "duration": 93,
    "start_time": "2024-10-15T02:24:17.049Z"
   },
   {
    "duration": 3,
    "start_time": "2024-10-15T02:24:42.696Z"
   },
   {
    "duration": 8,
    "start_time": "2024-10-15T02:24:43.319Z"
   },
   {
    "duration": 7,
    "start_time": "2024-10-15T02:24:56.985Z"
   },
   {
    "duration": 9,
    "start_time": "2024-10-15T02:25:15.950Z"
   },
   {
    "duration": 8,
    "start_time": "2024-10-15T02:25:24.052Z"
   },
   {
    "duration": 3,
    "start_time": "2024-10-15T02:28:30.396Z"
   },
   {
    "duration": 801,
    "start_time": "2024-10-15T02:28:52.151Z"
   },
   {
    "duration": 14,
    "start_time": "2024-10-15T02:30:15.819Z"
   },
   {
    "duration": 211,
    "start_time": "2024-10-15T02:30:45.659Z"
   },
   {
    "duration": 5,
    "start_time": "2024-10-15T02:31:04.765Z"
   },
   {
    "duration": 5,
    "start_time": "2024-10-15T02:31:32.735Z"
   },
   {
    "duration": 216,
    "start_time": "2024-10-15T02:31:44.795Z"
   },
   {
    "duration": 3,
    "start_time": "2024-10-15T02:42:41.249Z"
   },
   {
    "duration": 5,
    "start_time": "2024-10-15T02:42:43.491Z"
   },
   {
    "duration": 146,
    "start_time": "2024-10-15T02:42:46.173Z"
   },
   {
    "duration": 4,
    "start_time": "2024-10-15T02:42:53.594Z"
   },
   {
    "duration": 4,
    "start_time": "2024-10-15T02:42:58.886Z"
   },
   {
    "duration": 4,
    "start_time": "2024-10-15T02:43:08.652Z"
   },
   {
    "duration": 372,
    "start_time": "2024-10-15T02:43:31.915Z"
   },
   {
    "duration": 7,
    "start_time": "2024-10-15T02:43:53.354Z"
   },
   {
    "duration": 7,
    "start_time": "2024-10-15T02:44:15.987Z"
   },
   {
    "duration": 8,
    "start_time": "2024-10-15T02:44:30.176Z"
   },
   {
    "duration": 14,
    "start_time": "2024-10-15T02:46:36.995Z"
   },
   {
    "duration": 5,
    "start_time": "2024-10-15T02:46:43.224Z"
   },
   {
    "duration": 196,
    "start_time": "2024-10-15T02:48:12.075Z"
   },
   {
    "duration": 4,
    "start_time": "2024-10-15T02:48:17.488Z"
   },
   {
    "duration": 58,
    "start_time": "2024-10-15T02:48:19.717Z"
   },
   {
    "duration": 4,
    "start_time": "2024-10-15T02:48:38.934Z"
   },
   {
    "duration": 104,
    "start_time": "2024-10-15T02:48:41.819Z"
   },
   {
    "duration": 4,
    "start_time": "2024-10-15T02:48:45.819Z"
   },
   {
    "duration": 2,
    "start_time": "2024-10-15T02:48:50.196Z"
   },
   {
    "duration": 4,
    "start_time": "2024-10-15T02:48:51.071Z"
   },
   {
    "duration": 439,
    "start_time": "2024-10-15T02:48:52.221Z"
   },
   {
    "duration": 8,
    "start_time": "2024-10-15T02:49:11.983Z"
   },
   {
    "duration": 5,
    "start_time": "2024-10-15T02:49:17.420Z"
   },
   {
    "duration": 897,
    "start_time": "2024-10-15T02:49:21.083Z"
   },
   {
    "duration": 15,
    "start_time": "2024-10-15T02:51:14.595Z"
   },
   {
    "duration": 6,
    "start_time": "2024-10-15T02:51:50.901Z"
   },
   {
    "duration": 14,
    "start_time": "2024-10-15T02:52:16.612Z"
   },
   {
    "duration": 5,
    "start_time": "2024-10-15T02:53:16.847Z"
   },
   {
    "duration": 6,
    "start_time": "2024-10-15T02:54:02.026Z"
   },
   {
    "duration": 14,
    "start_time": "2024-10-15T02:54:47.345Z"
   },
   {
    "duration": 13,
    "start_time": "2024-10-15T02:54:57.339Z"
   },
   {
    "duration": 15,
    "start_time": "2024-10-15T02:55:41.121Z"
   },
   {
    "duration": 4,
    "start_time": "2024-10-15T02:56:13.063Z"
   },
   {
    "duration": 7,
    "start_time": "2024-10-15T02:56:19.898Z"
   },
   {
    "duration": 4,
    "start_time": "2024-10-15T03:04:06.012Z"
   },
   {
    "duration": 34,
    "start_time": "2024-10-15T03:04:15.232Z"
   },
   {
    "duration": 4,
    "start_time": "2024-10-15T03:05:02.522Z"
   },
   {
    "duration": 1790,
    "start_time": "2024-10-15T03:05:06.302Z"
   },
   {
    "duration": 8,
    "start_time": "2024-10-15T03:05:28.451Z"
   },
   {
    "duration": 8,
    "start_time": "2024-10-15T03:05:32.891Z"
   },
   {
    "duration": 8,
    "start_time": "2024-10-15T03:05:36.599Z"
   },
   {
    "duration": 8,
    "start_time": "2024-10-15T03:05:43.516Z"
   },
   {
    "duration": 10,
    "start_time": "2024-10-15T03:05:51.374Z"
   },
   {
    "duration": 7,
    "start_time": "2024-10-15T03:16:08.231Z"
   },
   {
    "duration": 5,
    "start_time": "2024-10-15T03:16:23.510Z"
   },
   {
    "duration": 17,
    "start_time": "2024-10-15T03:17:43.899Z"
   },
   {
    "duration": 9,
    "start_time": "2024-10-15T03:18:05.970Z"
   },
   {
    "duration": 4,
    "start_time": "2024-10-15T03:18:41.843Z"
   },
   {
    "duration": 6,
    "start_time": "2024-10-15T03:18:55.395Z"
   },
   {
    "duration": 6,
    "start_time": "2024-10-15T03:19:05.966Z"
   },
   {
    "duration": 5,
    "start_time": "2024-10-15T03:19:19.453Z"
   },
   {
    "duration": 14,
    "start_time": "2024-10-15T03:19:48.232Z"
   },
   {
    "duration": 4,
    "start_time": "2024-10-15T03:20:00.171Z"
   },
   {
    "duration": 4,
    "start_time": "2024-10-15T03:20:08.517Z"
   },
   {
    "duration": 4,
    "start_time": "2024-10-15T03:20:13.102Z"
   },
   {
    "duration": 8,
    "start_time": "2024-10-15T03:21:09.922Z"
   },
   {
    "duration": 9,
    "start_time": "2024-10-15T03:21:19.619Z"
   },
   {
    "duration": 10,
    "start_time": "2024-10-15T03:21:34.943Z"
   },
   {
    "duration": 8,
    "start_time": "2024-10-15T03:21:41.224Z"
   },
   {
    "duration": 11,
    "start_time": "2024-10-15T03:21:48.852Z"
   },
   {
    "duration": 4,
    "start_time": "2024-10-15T03:22:23.391Z"
   },
   {
    "duration": 6,
    "start_time": "2024-10-15T03:22:28.855Z"
   },
   {
    "duration": 5,
    "start_time": "2024-10-15T03:22:48.430Z"
   },
   {
    "duration": 5,
    "start_time": "2024-10-15T03:23:07.525Z"
   },
   {
    "duration": 9,
    "start_time": "2024-10-15T03:23:17.709Z"
   },
   {
    "duration": 6,
    "start_time": "2024-10-15T03:23:21.333Z"
   },
   {
    "duration": 6,
    "start_time": "2024-10-15T03:23:24.629Z"
   },
   {
    "duration": 7,
    "start_time": "2024-10-15T03:24:05.283Z"
   },
   {
    "duration": 6,
    "start_time": "2024-10-15T03:24:10.476Z"
   },
   {
    "duration": 6,
    "start_time": "2024-10-15T03:24:13.820Z"
   }
  ],
  "kernelspec": {
   "display_name": "Python 3 (ipykernel)",
   "language": "python",
   "name": "python3"
  },
  "language_info": {
   "codemirror_mode": {
    "name": "ipython",
    "version": 3
   },
   "file_extension": ".py",
   "mimetype": "text/x-python",
   "name": "python",
   "nbconvert_exporter": "python",
   "pygments_lexer": "ipython3",
   "version": "3.13.2"
  },
  "toc": {
   "base_numbering": 1,
   "nav_menu": {},
   "number_sections": true,
   "sideBar": true,
   "skip_h1_title": true,
   "title_cell": "Table of Contents",
   "title_sidebar": "Contents",
   "toc_cell": false,
   "toc_position": {},
   "toc_section_display": true,
   "toc_window_display": false
  }
 },
 "nbformat": 4,
 "nbformat_minor": 4
}
